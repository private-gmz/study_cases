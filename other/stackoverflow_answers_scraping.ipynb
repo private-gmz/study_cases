{
 "cells": [
  {
   "cell_type": "markdown",
   "metadata": {},
   "source": [
    "# scrape answers according to some query from stackoverflow"
   ]
  },
  {
   "cell_type": "code",
   "execution_count": 99,
   "metadata": {
    "id": "mnynzQEfmlMv"
   },
   "outputs": [],
   "source": [
    "# using google search to get sprcific stackoverflow urls\n",
    "try:\n",
    "\tfrom googlesearch import search\n",
    "except ImportError:\n",
    "\tprint(\"No module named 'google' found\")\n",
    "\n",
    "# to search\n",
    "query = \"artificial intelligence graduation project ideas site:stackoverflow.com\"\n",
    "links = []\n",
    "for j in search(query, num=18, stop=2):\n",
    "\tlinks.append(j)"
   ]
  },
  {
   "cell_type": "code",
   "execution_count": 100,
   "metadata": {
    "colab": {
     "base_uri": "https://localhost:8080/"
    },
    "id": "SGTYuSkVqq3j",
    "outputId": "95ba5d04-7881-4758-f668-e1364f0304bf"
   },
   "outputs": [
    {
     "data": {
      "text/plain": [
       "['https://stackoverflow.com/questions/3030652/artificial-intelligence-project-idea/3030724',\n",
       " 'https://stackoverflow.com/questions/478424/i-need-a-project-idea-for-an-artificial-intelligence-class-do-you-have-one',\n",
       " 'https://stackoverflow.com/questions/4303283/looking-for-a-good-project-to-work-on-as-my-graduation-project-in-the-university',\n",
       " 'https://stackoverflow.com/questions/3658539/artificial-intelligence-undergraduate-project-help-on-idea-and-its-influence-on',\n",
       " 'https://stackoverflow.com/questions/7805530/neural-network-project-ideas',\n",
       " 'https://stackoverflow.com/questions/4894396/hadoop-machine-learning-data-mining-project-idea',\n",
       " 'https://stackoverflow.com/questions/18710270/what-are-some-good-graduate-level-class-project-ideas-on-big-data-based-on-hadoo',\n",
       " 'https://stackoverflow.com/questions/40050529/project-ideas-for-object-oriented-analysis-and-design-course',\n",
       " 'https://stackoverflow.com/questions/3289028/any-ideas-for-a-dissertation',\n",
       " 'https://stackoverflow.com/questions/6987201/final-semester-project-about-semantic-analysis-information-retrieval',\n",
       " 'https://stackoverflow.com/questions/1793516/ideas-for-natural-language-processing-project/1795581',\n",
       " 'https://stackoverflow.com/questions/tagged/artificial-intelligence?tab=newest&page=138',\n",
       " 'https://stackoverflow.com/questions/30487071/bigdata-hadoop-hbase-bigtable-project-ideas',\n",
       " 'https://stackoverflow.com/questions/3349677/what-are-some-practical-projects-to-consider-in-trying-to-learn-c',\n",
       " 'https://stackoverflow.com/questions/3992195/interesting-compiler-projects',\n",
       " 'https://stackoverflow.com/questions/1704347/suggestions-for-an-open-source-final-degree-project',\n",
       " 'https://stackoverflow.com/questions/2686981/using-artificial-intelligence-ai-to-predict-stock-prices',\n",
       " 'https://stackoverflow.com/questions/2359934/ai-programming-resources-with-a-focus-on-web-applications']"
      ]
     },
     "execution_count": 100,
     "metadata": {
      "tags": []
     },
     "output_type": "execute_result"
    }
   ],
   "source": [
    "links"
   ]
  },
  {
   "cell_type": "code",
   "execution_count": 101,
   "metadata": {
    "colab": {
     "base_uri": "https://localhost:8080/"
    },
    "id": "6_wWVl6hn7k-",
    "outputId": "d0c704db-2e2d-4a3b-b2cd-56e7da6157c9"
   },
   "outputs": [
    {
     "name": "stdout",
     "output_type": "stream",
     "text": [
      "Requirement already satisfied: stackapi in /usr/local/lib/python3.7/dist-packages (0.2.0)\n",
      "Requirement already satisfied: six in /usr/local/lib/python3.7/dist-packages (from stackapi) (1.15.0)\n",
      "Requirement already satisfied: requests in /usr/local/lib/python3.7/dist-packages (from stackapi) (2.23.0)\n",
      "Requirement already satisfied: chardet<4,>=3.0.2 in /usr/local/lib/python3.7/dist-packages (from requests->stackapi) (3.0.4)\n",
      "Requirement already satisfied: idna<3,>=2.5 in /usr/local/lib/python3.7/dist-packages (from requests->stackapi) (2.10)\n",
      "Requirement already satisfied: urllib3!=1.25.0,!=1.25.1,<1.26,>=1.21.1 in /usr/local/lib/python3.7/dist-packages (from requests->stackapi) (1.24.3)\n",
      "Requirement already satisfied: certifi>=2017.4.17 in /usr/local/lib/python3.7/dist-packages (from requests->stackapi) (2020.12.5)\n"
     ]
    }
   ],
   "source": [
    "!pip install stackapi"
   ]
  },
  {
   "cell_type": "code",
   "execution_count": 102,
   "metadata": {
    "id": "fQ0_aDLln-Vl"
   },
   "outputs": [],
   "source": [
    "# get question id from url\n",
    "spliturl = []\n",
    "ids = []\n",
    "for url in links: spliturl.append ([words for words in url.split('/')])\n",
    "ids = [id[4] for id in spliturl if id[4].isnumeric()]"
   ]
  },
  {
   "cell_type": "code",
   "execution_count": 103,
   "metadata": {
    "colab": {
     "base_uri": "https://localhost:8080/"
    },
    "id": "V1ILmNXHqQdF",
    "outputId": "cf37ad36-b02e-4e61-e396-fedc8633f88f"
   },
   "outputs": [
    {
     "data": {
      "text/plain": [
       "['3030652',\n",
       " '478424',\n",
       " '4303283',\n",
       " '3658539',\n",
       " '7805530',\n",
       " '4894396',\n",
       " '18710270',\n",
       " '40050529',\n",
       " '3289028',\n",
       " '6987201',\n",
       " '1793516',\n",
       " '30487071',\n",
       " '3349677',\n",
       " '3992195',\n",
       " '1704347',\n",
       " '2686981',\n",
       " '2359934']"
      ]
     },
     "execution_count": 103,
     "metadata": {
      "tags": []
     },
     "output_type": "execute_result"
    }
   ],
   "source": [
    "ids"
   ]
  },
  {
   "cell_type": "code",
   "execution_count": 104,
   "metadata": {
    "id": "KUNgiLlpvXSB"
   },
   "outputs": [],
   "source": [
    "# define a function to remove html tags, scripts and style from the ec=xtracted answers\n",
    "from bs4 import BeautifulSoup\n",
    "def remove_tags(html):\n",
    "\t# parse html content\n",
    "\tsoup = BeautifulSoup(html, \"html.parser\")\n",
    "\tfor data in soup(['style', 'script']):\n",
    "\t\tdata.decompose()\n",
    "\treturn ' '.join(soup.stripped_strings)"
   ]
  },
  {
   "cell_type": "code",
   "execution_count": 105,
   "metadata": {
    "id": "S25ZV-Pcv2pT"
   },
   "outputs": [],
   "source": [
    "# using stackapi methods to scrape answers for specifc questions ids\n",
    "from stackapi import StackAPI\n",
    "SITE = StackAPI('stackoverflow')\n",
    "answers = SITE.fetch('questions/{ids}/answers', ids=ids, filter='withbody')"
   ]
  },
  {
   "cell_type": "code",
   "execution_count": 121,
   "metadata": {
    "id": "vRBbUCkwlKfc"
   },
   "outputs": [],
   "source": [
    "# write raw answers text to txt file\n",
    "file_object = open('answers.txt', 'a+')\n",
    "for answer in answers['items']:\n",
    "   file_object.write(remove_tags(answer['body'])+ \"\\n\")\n",
    "file_object.close()"
   ]
  },
  {
   "cell_type": "code",
   "execution_count": 122,
   "metadata": {
    "colab": {
     "base_uri": "https://localhost:8080/"
    },
    "id": "L9M1znfWlTrJ",
    "outputId": "806b2589-9ce3-47e3-e677-63b8650e9fa2"
   },
   "outputs": [
    {
     "name": "stdout",
     "output_type": "stream",
     "text": [
      "Line1: I represent a group of academics that are trying to predict stocks in a general form that can also be applied to anything, even the rating of content. Our algorithm, which we describe as truth seeking, works as follows. Basically each participant has their own credence rating. This means that the higher your credence or credibility, then the more their vote counts. Credence is worked out by how close to the weighted credence each vote is. It's like you get a better credence value the closer you get to the average vote that has already been adjusted for credence. For example, let's say that everyone is predicting that a stock's value will be at value X in 30 day's time (a future's option). People who predict on the average get a better credence. The key here is that the individual doesn't know what the average is, only the system. The system is tweaked further by weighting the guesses so that the target spot that generates the best credence is those votes that are already endowed with more credence. So the smartest people (historically accurate) project the sweet spot that will be used for further defining who gets more credence. The system can be improved too to adjust over time. For example, when you find out the actual value, those people who guessed it can be rewarded with a higher credence. In cases where you can't know the future outcome, you can still account if the average weighted credence changes in the future. People can be rewarded even more if they spotted the trend early. The point is we don't need to even know the outcome in the future, just the fact that the weighted rating changed in the future is enough to reward people who betted early on the sweet spot. Such a system can be used to rate anything from stock prices, currency exchange rates or even content itself. One such implementation asks people to vote with two parameters. One is their actual vote and the other is an assurity percentage, which basically means how much a particular participant is assured or confident of their vote. In this way, a person with a high credence does not need to risk downgrading their credence when they are not sure of their bet, but at the same time, the bet can be incorporated, it just won't sway the sweet spot as much if a low assurity is used. In the same vein, if the guess is directly on the sweet spot, with a low assurity, they won't gain the benefits as they would have if they had used a high assurity.\n",
      "Line2: have a look at https://archive.ics.uci.edu/ml/datasets.php and see if you find some topic that you like. If you have experience with C++ and C it will be easier learning Matlab. Regarding your topic to use, i suggest you see the link above, and try to find something that you like that can be applied to NN, search acm, ieee or other repositories for papers about NN and see if you can find also studies or reports about the topic you may be looking for. Good luck.\n",
      "Line3: Many great answers posted already, but I wanted to add my 2 cents.There is one hot topic in which big companies all around are investing lots of resources into, and is still a very challenging topic with lots of potential: Automated detection of fake news. This is even more relevant nowadays where most of us are connecting though social media and there's a huge crisis looming over. Fake news, content removal, source reliability... The problem is huge and very exciting. It is as I said challenging as it can be seen from many perspectives (from analising images to detect fakes using adversarial netwotks to detecting fake written news based on text content (NLP) or using graph theory to find sources) and the possbilities for a research proyect are endless. I suggest you read some general articles (e.g this or this ) or have a look at research articles from the last couple of years (a quick google seach will throw you a lot of related stuff). I wish I had the opportunity of starting over a project based on this topic. I think it's going to be of the upmost relevance in the next few years.\n",
      "Line4: Two ideas: Write a current, robust version of SHRDLU with understandable source code. Write a SHRDLU-like program that manipulates actual code instead of imaginary blocks.  Such a tool could be used for manipulating extremely large, complicated programs, including its own code! Imagine giving commands like the following... (a) Scan web site X and list any sentences you failed to parse. (b) Scan document Y and list any grammar rules you didn't need. (c) Instead of iterating over every element of \"proplist\" in your \"search\" function, only process the cdr of \"proplist\" if the initial call to \"lookup\" returns nil.  After you make the modification, confirm the sentence \"pick up a very very big block\" will succeed and the sentence \"pick up a very and very big block\" will fail. (d) Your \"conjoin\" grammar currently requires a coordinator word like \"and\", but that requirement is wrong.  Split your \"coordination\" grammar into \"syndetic coordination\" and \"asyndetic coordination\" as follows:  conjoins using \"and\", as in \"quickly and quietly, he walked into the bank\" are called \"syndetic coordinations\".  Conjoins without a coordinator, as in \"quickly, quietly, he walked into the bank\" are \"asyndetic coordinations\".  Now scan corpus Z to see if fewer sentences fail to parse.\n",
      "Line5: You may try developing a Complaint Management System , which can have a Backend and  a Front End. You may apply the Principles of Object Oriented Analysis and Design to break this Problem into modules and classes. You may draw UML diagrams to represent the communication between your different modules and components.\n"
     ]
    }
   ],
   "source": [
    "file = open('answers.txt', 'r')\n",
    "Lines = file.readlines()\n",
    "count = 0\n",
    "for line in Lines:\n",
    "    count += 1\n",
    "    print(\"Line{}: {}\".format(count, line.strip()))\n",
    "    if (count==5):\n",
    "      break\n",
    "file.close()"
   ]
  },
  {
   "cell_type": "markdown",
   "metadata": {},
   "source": [
    "# Try later with more data and compare with gpt2 text generation"
   ]
  },
  {
   "cell_type": "code",
   "execution_count": 123,
   "metadata": {
    "colab": {
     "base_uri": "https://localhost:8080/"
    },
    "id": "Lx808KhD3bM1",
    "outputId": "450f6d9a-a167-4c23-fda0-78ddef04b39f"
   },
   "outputs": [
    {
     "name": "stdout",
     "output_type": "stream",
     "text": [
      "Collecting git+git://github.com/minimaxir/textgenrnn.git\n",
      "  Cloning git://github.com/minimaxir/textgenrnn.git to /tmp/pip-req-build-no95kceq\n",
      "  Running command git clone -q git://github.com/minimaxir/textgenrnn.git /tmp/pip-req-build-no95kceq\n",
      "Requirement already satisfied: h5py in /usr/local/lib/python3.7/dist-packages (from textgenrnn==2.0.0) (2.10.0)\n",
      "Requirement already satisfied: scikit-learn in /usr/local/lib/python3.7/dist-packages (from textgenrnn==2.0.0) (0.22.2.post1)\n",
      "Requirement already satisfied: tqdm in /usr/local/lib/python3.7/dist-packages (from textgenrnn==2.0.0) (4.41.1)\n",
      "Requirement already satisfied: tensorflow>=2.1.0 in /usr/local/lib/python3.7/dist-packages (from textgenrnn==2.0.0) (2.4.1)\n",
      "Requirement already satisfied: numpy>=1.7 in /usr/local/lib/python3.7/dist-packages (from h5py->textgenrnn==2.0.0) (1.19.5)\n",
      "Requirement already satisfied: six in /usr/local/lib/python3.7/dist-packages (from h5py->textgenrnn==2.0.0) (1.15.0)\n",
      "Requirement already satisfied: joblib>=0.11 in /usr/local/lib/python3.7/dist-packages (from scikit-learn->textgenrnn==2.0.0) (1.0.1)\n",
      "Requirement already satisfied: scipy>=0.17.0 in /usr/local/lib/python3.7/dist-packages (from scikit-learn->textgenrnn==2.0.0) (1.4.1)\n",
      "Requirement already satisfied: gast==0.3.3 in /usr/local/lib/python3.7/dist-packages (from tensorflow>=2.1.0->textgenrnn==2.0.0) (0.3.3)\n",
      "Requirement already satisfied: absl-py~=0.10 in /usr/local/lib/python3.7/dist-packages (from tensorflow>=2.1.0->textgenrnn==2.0.0) (0.12.0)\n",
      "Requirement already satisfied: wrapt~=1.12.1 in /usr/local/lib/python3.7/dist-packages (from tensorflow>=2.1.0->textgenrnn==2.0.0) (1.12.1)\n",
      "Requirement already satisfied: astunparse~=1.6.3 in /usr/local/lib/python3.7/dist-packages (from tensorflow>=2.1.0->textgenrnn==2.0.0) (1.6.3)\n",
      "Requirement already satisfied: flatbuffers~=1.12.0 in /usr/local/lib/python3.7/dist-packages (from tensorflow>=2.1.0->textgenrnn==2.0.0) (1.12)\n",
      "Requirement already satisfied: keras-preprocessing~=1.1.2 in /usr/local/lib/python3.7/dist-packages (from tensorflow>=2.1.0->textgenrnn==2.0.0) (1.1.2)\n",
      "Requirement already satisfied: tensorboard~=2.4 in /usr/local/lib/python3.7/dist-packages (from tensorflow>=2.1.0->textgenrnn==2.0.0) (2.4.1)\n",
      "Requirement already satisfied: wheel~=0.35 in /usr/local/lib/python3.7/dist-packages (from tensorflow>=2.1.0->textgenrnn==2.0.0) (0.36.2)\n",
      "Requirement already satisfied: tensorflow-estimator<2.5.0,>=2.4.0 in /usr/local/lib/python3.7/dist-packages (from tensorflow>=2.1.0->textgenrnn==2.0.0) (2.4.0)\n",
      "Requirement already satisfied: grpcio~=1.32.0 in /usr/local/lib/python3.7/dist-packages (from tensorflow>=2.1.0->textgenrnn==2.0.0) (1.32.0)\n",
      "Requirement already satisfied: typing-extensions~=3.7.4 in /usr/local/lib/python3.7/dist-packages (from tensorflow>=2.1.0->textgenrnn==2.0.0) (3.7.4.3)\n",
      "Requirement already satisfied: google-pasta~=0.2 in /usr/local/lib/python3.7/dist-packages (from tensorflow>=2.1.0->textgenrnn==2.0.0) (0.2.0)\n",
      "Requirement already satisfied: opt-einsum~=3.3.0 in /usr/local/lib/python3.7/dist-packages (from tensorflow>=2.1.0->textgenrnn==2.0.0) (3.3.0)\n",
      "Requirement already satisfied: protobuf>=3.9.2 in /usr/local/lib/python3.7/dist-packages (from tensorflow>=2.1.0->textgenrnn==2.0.0) (3.12.4)\n",
      "Requirement already satisfied: termcolor~=1.1.0 in /usr/local/lib/python3.7/dist-packages (from tensorflow>=2.1.0->textgenrnn==2.0.0) (1.1.0)\n",
      "Requirement already satisfied: tensorboard-plugin-wit>=1.6.0 in /usr/local/lib/python3.7/dist-packages (from tensorboard~=2.4->tensorflow>=2.1.0->textgenrnn==2.0.0) (1.8.0)\n",
      "Requirement already satisfied: setuptools>=41.0.0 in /usr/local/lib/python3.7/dist-packages (from tensorboard~=2.4->tensorflow>=2.1.0->textgenrnn==2.0.0) (56.1.0)\n",
      "Requirement already satisfied: werkzeug>=0.11.15 in /usr/local/lib/python3.7/dist-packages (from tensorboard~=2.4->tensorflow>=2.1.0->textgenrnn==2.0.0) (2.0.0)\n",
      "Requirement already satisfied: requests<3,>=2.21.0 in /usr/local/lib/python3.7/dist-packages (from tensorboard~=2.4->tensorflow>=2.1.0->textgenrnn==2.0.0) (2.23.0)\n",
      "Requirement already satisfied: markdown>=2.6.8 in /usr/local/lib/python3.7/dist-packages (from tensorboard~=2.4->tensorflow>=2.1.0->textgenrnn==2.0.0) (3.3.4)\n",
      "Requirement already satisfied: google-auth-oauthlib<0.5,>=0.4.1 in /usr/local/lib/python3.7/dist-packages (from tensorboard~=2.4->tensorflow>=2.1.0->textgenrnn==2.0.0) (0.4.4)\n",
      "Requirement already satisfied: google-auth<2,>=1.6.3 in /usr/local/lib/python3.7/dist-packages (from tensorboard~=2.4->tensorflow>=2.1.0->textgenrnn==2.0.0) (1.30.0)\n",
      "Requirement already satisfied: chardet<4,>=3.0.2 in /usr/local/lib/python3.7/dist-packages (from requests<3,>=2.21.0->tensorboard~=2.4->tensorflow>=2.1.0->textgenrnn==2.0.0) (3.0.4)\n",
      "Requirement already satisfied: idna<3,>=2.5 in /usr/local/lib/python3.7/dist-packages (from requests<3,>=2.21.0->tensorboard~=2.4->tensorflow>=2.1.0->textgenrnn==2.0.0) (2.10)\n",
      "Requirement already satisfied: urllib3!=1.25.0,!=1.25.1,<1.26,>=1.21.1 in /usr/local/lib/python3.7/dist-packages (from requests<3,>=2.21.0->tensorboard~=2.4->tensorflow>=2.1.0->textgenrnn==2.0.0) (1.24.3)\n",
      "Requirement already satisfied: certifi>=2017.4.17 in /usr/local/lib/python3.7/dist-packages (from requests<3,>=2.21.0->tensorboard~=2.4->tensorflow>=2.1.0->textgenrnn==2.0.0) (2020.12.5)\n",
      "Requirement already satisfied: importlib-metadata; python_version < \"3.8\" in /usr/local/lib/python3.7/dist-packages (from markdown>=2.6.8->tensorboard~=2.4->tensorflow>=2.1.0->textgenrnn==2.0.0) (4.0.1)\n",
      "Requirement already satisfied: requests-oauthlib>=0.7.0 in /usr/local/lib/python3.7/dist-packages (from google-auth-oauthlib<0.5,>=0.4.1->tensorboard~=2.4->tensorflow>=2.1.0->textgenrnn==2.0.0) (1.3.0)\n",
      "Requirement already satisfied: cachetools<5.0,>=2.0.0 in /usr/local/lib/python3.7/dist-packages (from google-auth<2,>=1.6.3->tensorboard~=2.4->tensorflow>=2.1.0->textgenrnn==2.0.0) (4.2.2)\n",
      "Requirement already satisfied: rsa<5,>=3.1.4; python_version >= \"3.6\" in /usr/local/lib/python3.7/dist-packages (from google-auth<2,>=1.6.3->tensorboard~=2.4->tensorflow>=2.1.0->textgenrnn==2.0.0) (4.7.2)\n",
      "Requirement already satisfied: pyasn1-modules>=0.2.1 in /usr/local/lib/python3.7/dist-packages (from google-auth<2,>=1.6.3->tensorboard~=2.4->tensorflow>=2.1.0->textgenrnn==2.0.0) (0.2.8)\n",
      "Requirement already satisfied: zipp>=0.5 in /usr/local/lib/python3.7/dist-packages (from importlib-metadata; python_version < \"3.8\"->markdown>=2.6.8->tensorboard~=2.4->tensorflow>=2.1.0->textgenrnn==2.0.0) (3.4.1)\n",
      "Requirement already satisfied: oauthlib>=3.0.0 in /usr/local/lib/python3.7/dist-packages (from requests-oauthlib>=0.7.0->google-auth-oauthlib<0.5,>=0.4.1->tensorboard~=2.4->tensorflow>=2.1.0->textgenrnn==2.0.0) (3.1.0)\n",
      "Requirement already satisfied: pyasn1>=0.1.3 in /usr/local/lib/python3.7/dist-packages (from rsa<5,>=3.1.4; python_version >= \"3.6\"->google-auth<2,>=1.6.3->tensorboard~=2.4->tensorflow>=2.1.0->textgenrnn==2.0.0) (0.4.8)\n",
      "Building wheels for collected packages: textgenrnn\n",
      "  Building wheel for textgenrnn (setup.py) ... \u001b[?25l\u001b[?25hdone\n",
      "  Created wheel for textgenrnn: filename=textgenrnn-2.0.0-cp37-none-any.whl size=1734419 sha256=6cd352773a54b6c35208caff3c92928673f819f9cf8e4fd081b293294e450662\n",
      "  Stored in directory: /tmp/pip-ephem-wheel-cache-pvf4vghl/wheels/51/cd/43/32656d2da914e1bda73eeafa357602d92a9f67b587dfdd5aa8\n",
      "Successfully built textgenrnn\n",
      "Installing collected packages: textgenrnn\n",
      "  Found existing installation: textgenrnn 1.4.1\n",
      "    Uninstalling textgenrnn-1.4.1:\n",
      "      Successfully uninstalled textgenrnn-1.4.1\n",
      "Successfully installed textgenrnn-2.0.0\n"
     ]
    }
   ],
   "source": [
    "# to solve version problem (textgenrnn not compitable with tensorflow  2.4.3)\n",
    "!pip3 install git+git://github.com/minimaxir/textgenrnn.git"
   ]
  },
  {
   "cell_type": "code",
   "execution_count": 125,
   "metadata": {
    "colab": {
     "base_uri": "https://localhost:8080/"
    },
    "id": "eoAVvVjN4ya4",
    "outputId": "0cb61909-da81-46a9-e1b7-6353f6cc6965"
   },
   "outputs": [
    {
     "name": "stdout",
     "output_type": "stream",
     "text": [
      "121 texts collected.\n",
      "Training on 59,375 character sequences.\n",
      "Epoch 1/10\n",
      "463/463 [==============================] - 147s 310ms/step - loss: 1.5713\n",
      "####################\n",
      "Temperature: 0.2\n",
      "####################\n",
      "The project that describes with a command is a project and similar the programming project. It is a project the decision of the project in the command and controlates and contras is a project that the command is a command for the command that will be able to change the commith the project the proje\n",
      "\n",
      "The only the best command is a project interester in the command in the command will be a project that is a command in the content in the command is a command for the character and the project is the project the statical project is the classification in the project anyway is the first interestery i\n",
      "\n",
      "What is the way to get the command that describes it is a lot of the project that is a project that will be a project with a lot of the project in a command in the statically projects and the command is a command with the command in a decision of the controlles in the command is a graph that will b\n",
      "\n",
      "####################\n",
      "Temperature: 0.5\n",
      "####################\n",
      "What is the data that we are a good content carefully, and where the lanty items have the low second and financial contras in the classification of the location and better stripting the projects called it if you don't feel like the site of the statical the login for the project be want to use a stu\n",
      "\n",
      "On the called interesting supporting the litether and find it. The command is users and the command controus problem in a character in the similar character in the command commands in the results and starting particularly with a compare that will probably called and the graduation that has a partic\n",
      "\n",
      "Starting when this more than a fundable data is the codes if you have a lot of the clustic and find it use the program similar the social content in a first and financial school that strict. I don't the suggest and will be being doing and changes and see the activity of the chainer and the programm\n",
      "\n",
      "####################\n",
      "Temperature: 1.0\n",
      "####################\n",
      "Had a girlfram Timester I could be methord into the Adulations beet won, exploit and secret with \"tastest mind images\" coded indictorum over Google contently-bion, it's it asian requires.\n",
      "\n",
      "The perform, for all\n",
      "\n",
      "100% NL UD. The topics into us focuse.\n",
      "\n",
      "Epoch 2/10\n",
      "463/463 [==============================] - 144s 312ms/step - loss: 1.3313\n",
      "####################\n",
      "Temperature: 0.2\n",
      "####################\n",
      "I have a stock and the programming the logical programming techniques of problem into the programming techniques of the programming techniques of pretty maybed to the programming the project that you can be a lot of the programming analysis of the programming techniques of the programming the progr\n",
      "\n",
      "I think you will take a lot of the research for the logical project to a great project and the project of the programming techniques of the standard programming the programming logout to the programming the programming the programming the statistical programming techniques of the problem in a stock\n",
      "\n",
      "I think this is the formatten to the programming interesting to the programming the programming the programming analysis of the project of the training the stocks to use the following the programming interesting the programming the project to a stocks to the programming the programming the programm\n",
      "\n",
      "####################\n",
      "Temperature: 0.5\n",
      "####################\n",
      "May you may be agrees a programming logout to see what you think is this something this some things to spec the crame of more which the professor that maybess is a source and transvant to hard the taromines and then a stocks of the project and with the processing this programming silly solver into \n",
      "\n",
      "May interested in the fook around to make a stater interested in the programmer interested in the comments of trend to focuse with parts on the price page is stocked for the pretty a program and data and file a student to make a stocks and trained some the \"updet\" book is starting the most programm\n",
      "\n",
      "I would like the foom of the students of this grade with a communion for a student of seste see what you are useful as you can be take a company for many lettery to a technique of stocks that you can find the stocks for some extensions to my classifical predictrients to use the communer and startin\n",
      "\n",
      "####################\n",
      "Temperature: 1.0\n",
      "####################\n",
      "Fing handld them nice a crosshre cover a leptop.\n",
      "\n",
      "things of howeved at the legs is all then students you will hharing with the \"Pedgredis that Is a free and think is areates that to stats the several project in the work :) If some though it would be a very  sitticst for example Training FOiler room this students which approal wide to abusise softw\n",
      "\n",
      " HPSG thoufoschmailficically aggred with clients very music official graduating, just any other isual tentes that not the over-logs of you series logical: Its device system in the fore-immarination, sigr.comp to a nover, may you crize.ebs work in authors at us? The charity is internal or the rather\n",
      "\n",
      "Epoch 3/10\n",
      "463/463 [==============================] - 145s 314ms/step - loss: 1.2394\n",
      "####################\n",
      "Temperature: 0.2\n",
      "####################\n",
      "1.  a stock set of probably the processing of a statistical programming programming sentences and the project is a project that you can be a program and something that you could be interesting a program to probably try to complete it and the project are really the project and the project is a proje\n",
      "\n",
      "1/1/2000             a good program and the project is a problem if you could see what you could probably could probably want to considering the product sentence set of stocks are reading a program and a stock consideritate on the product problem is a stock and the static project and some of the pr\n",
      "\n",
      "1          a lot of predictions and the project that you could use a companies and a stock contribute of the project that you can be a program to more a program to make a company in a stock student is a project of a stock of some programming areas in the project of the project of a project and the \n",
      "\n",
      "####################\n",
      "Temperature: 0.5\n",
      "####################\n",
      "     the data is a static set of a code and well make a product and the genre is a learning of your own project (and what you can probably find in the case, but it's completed by a prediction to a lot of companies and doing a gif that they need to combine a gif and the use and hadow your project ex\n",
      "\n",
      "1...  Mana will be the level of ideas, do the project and if you will be a company and see if you are adding to probably interesting a company who is a stock program on a contribution in the stock probably, the companies are learned to get a man probably try to use the following practical programmi\n",
      "\n",
      "There are a project problem and the end of the product and the first of the static web.  There are a statistical references in the problem is the \"set of stock\" processing to you good and it was a Python both and the season of predictions are suggesting to see if you could approximate the resources\n",
      "\n",
      "####################\n",
      "Temperature: 1.0\n",
      "####################\n",
      " Button 1.0 wait, the Program Foost and 6/Iadlet, from Fucking  Filled of Pregnant', Between the Proverbolk take a hospinally work you could refert.\n",
      "\n",
      "1.there is an contegory oil in exporters to broadmark and coth that is a advent's do that make a not trained or revengund products...\n",
      "\n",
      "1 May If you can with a Ghostle Profients. Allow stoch phrastics is an only mandate program to definitive Python  - You can be learned to do paster which are rcalking from list of this is a intention user starting to now. An ice-student, hopefully would be added, and where I similar a contest for a\n",
      "\n",
      "Epoch 4/10\n",
      "463/463 [==============================] - 146s 316ms/step - loss: 1.1615\n",
      "####################\n",
      "Temperature: 0.2\n",
      "####################\n",
      " - AI AI               the project that will like the search of something that you can be a program to the project that would be able to do something that you can be able to do something to try and contributed and see if you can work on this project to the process to be able to do what you work on \n",
      "\n",
      "You can be a lot of contributed of any and so that you can be able to do what you can be able to do what you can be able to do what you can be able to do what you could work on this project and a particular seasher project to the problem and any other projects and a standard set of project and the \n",
      "\n",
      " I wanted to get a proceed of series to the problem of things that you could applied to the project that you could control the project to the project that you can be able to do something that you could work on this subject on this project and a stock and what you can work on the project that you ca\n",
      "\n",
      "####################\n",
      "Temperature: 0.5\n",
      "####################\n",
      " Maybe I know of the last that you could write the stock in a poor topic. The topic of the words is a program to more programs to the latter to use the companies and well as well.\n",
      "\n",
      "What to be able to do any to be anything it would be to find them in the use project thing and it could work on what you are a stock and why not done by a transitive with a company and the problem contrastive that you don't actually a way to probably transfer) to have a good interesting student and\n",
      "\n",
      "New machine profilis: The \"program that you can find in the Generate Bayes and Cali Concept to make this with a stock which will be able to do something that you could averace and try to use the standard project and don't see what you would be able to learn the project and done and try to applie an\n",
      "\n",
      "####################\n",
      "Temperature: 1.0\n",
      "####################\n",
      "That's bioking question to help's ran and well. To us document anything efficus) are makes in SO Reddn. Prwnrcate. Here's seeking it quenuely developing, whiching and if you are tried what is their frantarie sitrazes and clusting reunions. The few premicy repeases music.\n",
      "\n",
      "My good project it models the literature of assigned research, would be asked. You work over search games like we know exact with a website by a morous ( posite your gaming turn into work on a andicative excel: additional tab scans - HPSG Proz/When be Google ( wry a very in a results depressed ques\n",
      "\n",
      "Applying AI stock, need into a student and read and see use algorithms. Still have a post built may keting this 'finan's a fuidup weapow his. Study clickeving , for Python. Phth. As you can id=revelor chick.statisizely. After tit your question and the example escape treature, esterust. I see you be\n",
      "\n",
      "Epoch 5/10\n",
      "463/463 [==============================] - 146s 316ms/step - loss: 1.0678\n",
      "####################\n",
      "Temperature: 0.2\n",
      "####################\n",
      "I would be too long term of the stock to have a stock to the compiler and the following set of stocks with the compiler to the competitive that are exams classification and see what you could probably want to look at a project that you could see what you can be to complete.                 and the \n",
      "\n",
      "I would be able to more than likely to do something that would be able to make a companies on the statically set of the project that you can be starting to make a companies on the same project and is what you would be able to make a project and is what you could work on the statically set. I think \n",
      "\n",
      "I would be open a project of the stock or something that will be able to make a company of the stock on the stock of the most project and is what you can project the literature of the stock stock source source set of the stock project that you could see what you can probably want to do something th\n",
      "\n",
      "####################\n",
      "Temperature: 0.5\n",
      "####################\n",
      "1/1/2000               the most point to get a lot of statistical fallouty one of the same level of the little build to say it will be able to see what you can work on the how you can recommend a system on the state project with the open source source in a simple market. Instead of stock on the sta\n",
      "\n",
      "The foundasing answers of the and stock and implement about component to the latest the decent project. I think you choose with a communical scheme to do it as well.  It will like the graduation of the stocks are probably working and this would get a communication of a system bot in a stock or some\n",
      "\n",
      "You can could get a lot of solve to make a lot of level topics, in the computer with your competitions to do and source the course to the computer the last invest the most project and try and make a post that they are interested in a more than a masters of reports to more than map focus (in a lot o\n",
      "\n",
      "####################\n",
      "Temperature: 1.0\n",
      "####################\n",
      "1 so completed at clearly constructive to use the company who happens a competitive list on the System companies, in soon, a otteing the paral to more a-facebow classification (NN, social Access.  Would be exists as my build in the Afformation by System At Language For Mappensa Has Comed One.blog c\n",
      "\n",
      "I caue about operated bit by points down, or, needed on a GUIshing at sounds from (Headful), the new is is excellect done completed to great tree productors and heartrip as one.\n",
      "\n",
      "You so that will get an appeal question which are purely code, interests most of the one, but why kind of power interests you to get difficult. This wiele system news\" would be a where for finding written simple documents you've experience the other statistics except these about the \"migra\" more ex\n",
      "\n",
      "Epoch 6/10\n",
      "463/463 [==============================] - 146s 315ms/step - loss: 0.9961\n",
      "####################\n",
      "Temperature: 0.2\n",
      "####################\n",
      "This is a stocks of an interesting and the project of the standard projects in the stock in the project that you can be used to the project that you can be the standard of the standard to the problem is a lot of the problem in a stock system is a lot of something that you can be able to do somethin\n",
      "\n",
      " - I would also see the literature of the text compliant and the computer is algorithms to try to probably want to do something that you can probably want to do something that you can be able to use the computer to the project that you can be to complete the stocks and try to try to consider the pr\n",
      "\n",
      " - Algorithms are to probably want to do something that you can be able to do a lot of projects to do and something that you can probably want to do something that you can probably want to look at the content in the project that you can be able to do something that you can be able to decide to take\n",
      "\n",
      "####################\n",
      "Temperature: 0.5\n",
      "####################\n",
      "I think there are a very very small projects. I need to know of the comments and to end up in the project of a standard.  This is what it would be to consider the market programming in the stature to some times in the net.\n",
      "\n",
      "1/1/2000      1:25 pm      the better projects before it will like the project after another traditions will be the treeson tools that are taken in completely decorse something like in a transformational couple of year explorations are pretty much to great the problem of an open source stock with a\n",
      "\n",
      "There are some web stands on the time, it's also the project that is a fairly compare and anything you can be trying to are also in news. I think that the projects for some extra metahing the thing in the results are try to use a second work on the project of this is all the tabsets of research tha\n",
      "\n",
      "####################\n",
      "Temperature: 1.0\n",
      "####################\n",
      "1.ak.hew think feel like standard. If you are tell you to a advance on the websarates \"REL\" recommendations and as helphpread the next mining-last testss over\n",
      "\n",
      "Developing this problems are thinking to colfer its helfordhourden algorithms and I have some braind and perform though, \"Pope the of Genett\" users. Has to enjoy a dissertation that masters seek the nets any questions with every with one program character and technical values theory (a_ink/AT&N)\n",
      "\n",
      "That they are kind of code, why not preferably use for easy to the text in etc sounds anyway, it wouldn't want to do if you're speculationss more this is what you work on the search possibiller new games.  has any boxesty various - solve the problem in a space practical users you can produce its hi\n",
      "\n",
      "Epoch 7/10\n",
      "463/463 [==============================] - 145s 314ms/step - loss: 0.9378\n",
      "####################\n",
      "Temperature: 0.2\n",
      "####################\n",
      "1/1/2000      1:25 pm          :)             the project are pretty good to a great project that you can parent the problem of some of the program has a stock and then you could have a real of the project to the research and the project are pretty living to do something that will likely work on th\n",
      "\n",
      "1/1/2000      1:20 pm        a good paper and the problem is the project and the other programming the stock programming and probably the problem of the program of the project and is a lot of stock and then you can get the problem and the language of the parser where you can patted to make a projec\n",
      "\n",
      "1/1/2000      1:25 pm           the other than a stock project would be to make a computation of the project that you can pick the project that you can parallel on the same parser are really to make a community of the problem of some of the most point is a project that you could have an interesting\n",
      "\n",
      "####################\n",
      "Temperature: 0.5\n",
      "####################\n",
      "1) have an into the suggest you will work on the community users of the same paper is a great parser to the comments that uses the project and how to use the use of the next days of a real time language than hard to parse source project when the work is an interesting problem in the name of a great\n",
      "\n",
      "There are not transitive to get a wheee idea to use this proceed to have a challenging choice of data scripting for my time-set. The machine does and checking model and is a great parser done and try to apply see if you can get a lot of the stocks and graduation programming set. However, and the st\n",
      "\n",
      " -what is the problem of detail on the other paper is a great little complication to the real indister of and the graduate name and try to say you really have a good program to the most parser or application for a very information of recognition will look at a data in documents and allow their new \n",
      "\n",
      "####################\n",
      "Temperature: 1.0\n",
      "####################\n",
      "There is a genethacks of managed papers on basetic. This is writing a very good market.treat. Ferine, so Californ Maplight sign scury. Deciding to list to look at automatache the decent hadoopmone and try hot you think the modif`manh change gromps.  Structure is an Argariel. He't also in a computat\n",
      "\n",
      "Two tests Whats raise characters and possibln. Provide it are joining info: The tabapp, you could have a longter on there answers of the latter lack of project using people (bot collective as his latter, some maintainful/communityzard off headper that's arguments in \"cross\". Norvil item has been ap\n",
      "\n",
      " GUI Ansarb C++ to complare f(bitcoin par screw leave second\n",
      "\n",
      "Epoch 8/10\n",
      "463/463 [==============================] - 146s 315ms/step - loss: 0.8893\n",
      "####################\n",
      "Temperature: 0.2\n",
      "####################\n",
      "There is a stock project that you can be able to do something that you can pick the problem into the stock project is that you could admitted and find something that you can be able to do something that are being some of the last projects in a simpler project and implement a lot of structure and so\n",
      "\n",
      "I would be too community to the best application to the problem is that you can be able to do something that you can be able to do something that you can see if you can be able to do something that will like the best way to use a lot of stocks and they are doing a lot of stock and see if you can be\n",
      "\n",
      "There is a lot of stock and something that will be able to do something that will be able to do something that will have a good parents of particularly general analysis and they are interested in things to probably want to do what you can be their finance set of projects to do something that you ca\n",
      "\n",
      "####################\n",
      "Temperature: 0.5\n",
      "####################\n",
      "I don't know a point in the market correct project. It doesn't the project of the National Aspect and Advisors Obviously One of the stocks that becomes the long-term analysis to do something that will have a steam to algorithm to the \"easy\" strateging project and algorithms in a lot of stock sets. \n",
      "\n",
      "1) what other ideas we can work on this  and they are interested in the most great text technique in the language and see if you can have some relevant based on this subject where you could do something that you can see some of the best classifiers requirement and then something that you can be abl\n",
      "\n",
      "My server is a simple time session, predictions, do any to probably want to see what you are extending it is a neural networks or like stock maps.  Neural networks is also on the project in a masters project about the real time-series in the problem and have a problem and don't have more than compu\n",
      "\n",
      "####################\n",
      "Temperature: 1.0\n",
      "####################\n",
      "My SHRDLUD goal: High section shortest points or. finds you very beat dies along, so it was not succeed. Solutimated for other ideas: Some out solve doing a path and edite just mention, but you are interesting using a graduate, previous.ever and past the project of the AI clearly explorers translat\n",
      "\n",
      "If you sain to kill me the \"tree-starter people into code\" at us and try to see a learning part, but google take out the project baby in the need that combinating social sections. Nonkin Python off-set-if you a_notimotian problem intuit to tabular eagers.com/em. What to do when this is embed. Edit \n",
      "\n",
      "Thet pokemon, then because of tag you alwwad patmouritation of the case. It could be passioned into calling in where the lartocadic Uofun 3 cool learned viters). often available understandable sessions cool will like those who will you easy not rather than its only-serving empty poor pullocide to-i\n",
      "\n",
      "Epoch 9/10\n",
      "463/463 [==============================] - 147s 317ms/step - loss: 0.8211\n",
      "####################\n",
      "Temperature: 0.2\n",
      "####################\n",
      "You can tell you to get the experience that will be able to do something that you can be able to combine the areas on the strategie is a project that you can be able to do something that you can get the problem and are trying to do something that you could find something that you could see what you\n",
      "\n",
      "I would get though it would be to be able to use the stuff to the problem of the stocks that will be able to trigr a program and then some processing are really to be able to make a company that are using a lot of your classifier to the program that managed the stocks that will likel well as well a\n",
      "\n",
      "There are some of the last things you could write a company from the student that you can be able to use the services that will likel to the project that you could be able to combine the other programming the stock project are interested in the stock and algorithms that you can see if you can be ab\n",
      "\n",
      "####################\n",
      "Temperature: 0.5\n",
      "####################\n",
      "1) what other ideas are interested in mining for the data to the result and the latter is created in a community, you can use a simple time than the time-standard structures of the sentence that thinking of a transformational code. This is work with a strange of programming the stuff to the genre i\n",
      "\n",
      "One of the based of the users of the general data is to construct the result with the GPSGram as it will be codened to teach in C++, and the other tell opportunities to do as well. It gets some poor scripting control. The machine is there already still built a while who think you see the language o\n",
      "\n",
      "A profiant contact student was a little market classifier road stocks that has an application of the same projects that would be on the structure of the scans that would be to writeup to any good project and may be started .\n",
      "\n",
      "####################\n",
      "Temperature: 1.0\n",
      "####################\n",
      "My debuggus to trigr in Desolate and Secure and Draggic Guidebookie. Ift iPapp, Peter Back on Rule Average to C++ from things down to it. It going a point to digting that you can get clasting creating data because of Google.\n",
      "\n",
      "One know a blog: this will have fairly with theik brutalications. W than well.   and admitation to collect for example systers and hdder user1\n",
      "\n",
      "O,  smaster price tredow. I think that I also know of the uses others.\n",
      "\n",
      "Epoch 10/10\n",
      "463/463 [==============================] - 147s 317ms/step - loss: 0.7759\n",
      "####################\n",
      "Temperature: 0.2\n",
      "####################\n",
      "There are of the sentence that will be used for a company with the resulting of some of the last things you could also try to be able to do something that will look at a stock project and implement anything that you can be applied to the problem and see if you can make a computer trading that you c\n",
      "\n",
      "I would go with this project and is why not want to do something that would be there any advantage of the parts that you can be able to take a lot of stock and then some things for a masters set of stocks and see if you can be able to use a company with the projects of the project about the stock m\n",
      "\n",
      "There are of companies also some extra domain (strategics for the scope of sentences to professors is a project that you can work on the net. It is a lot of projects to do something that would be to build the stock and implement the \"programming interesting are pretty solved for a lot of project an\n",
      "\n",
      "####################\n",
      "Temperature: 0.5\n",
      "####################\n",
      " - Artificial Intelligence Intelligence when simulating anxiets for the project that will look at the problem is the other names, and is a lot of stock success, it's also recommendation for the scans of streaming develop a great stock or an interest that you can put out of a strategie to make a com\n",
      "\n",
      "I suggest you can be able to use a Python which was a lot of stuff to try out on this process for example into a long-time market computer than the processing of the default ideas before the basis to the completely one of the longes of the Google School: \"Resources\" of Ranal Market Like the compute\n",
      "\n",
      "I have an application about the \"solution\" to the problem extremely ability to some topic to the stock project so that you can be able to interested in fairly companies all have a lot of stock as a starting project when you did that you work on the problem for the best, determine contributing the b\n",
      "\n",
      "####################\n",
      "Temperature: 1.0\n",
      "####################\n",
      "Still advisor, which can make a some object exist, if you're an application : police depetution (detail at the currency of the project that are selled to die. I wish would be most easy to be able to use hexting this 8th, very excel.  You minor fail relevant include: Puzm is a designed, or to look. \n",
      "\n",
      "I don't think you've related to become into manager. Persite the snapplistical resume you could talk to between Data efficiences community. This put a simple market in other programs articles and I'm not only to be a.l to provide machine sent a vote in the detail for using, and other payme, like li\n",
      "\n"
     ]
    },
    {
     "name": "stderr",
     "output_type": "stream",
     "text": [
      "\r",
      "  0%|          | 0/5 [00:00<?, ?it/s]"
     ]
    },
    {
     "name": "stdout",
     "output_type": "stream",
     "text": [
      "A where application of transvart class and create it's flowlumatized in spam translators generate projects. how to develop: it's not of the \"resource\" say, that gets you succeed to big few years ago, preferacle for powerful class? (Jax so far already from something sellers for a social charities - \n",
      "\n"
     ]
    },
    {
     "name": "stderr",
     "output_type": "stream",
     "text": [
      "\r",
      " 20%|██        | 1/5 [00:11<00:46, 11.57s/it]"
     ]
    },
    {
     "name": "stdout",
     "output_type": "stream",
     "text": [
      "There are of developer with the project you might be able to start a project in OCaml, a lot of simple data classifiers is are passionate and the project that you can be able to constantly be done. There is a simple lot of some project (something that faster than most of the value of their open AI \n",
      "\n"
     ]
    },
    {
     "name": "stderr",
     "output_type": "stream",
     "text": [
      "\r",
      " 40%|████      | 2/5 [00:23<00:35, 11.73s/it]"
     ]
    },
    {
     "name": "stdout",
     "output_type": "stream",
     "text": [
      "May I suggest that you can be able to the GP's treesouttly of the project that you can buy the series things, but this was to do something to do something that are on the topic is a lot of your content and the language is a system of those field of experience is a response to read a lot of stock an\n",
      "\n"
     ]
    },
    {
     "name": "stderr",
     "output_type": "stream",
     "text": [
      "\r",
      " 60%|██████    | 3/5 [00:35<00:23, 11.74s/it]"
     ]
    },
    {
     "name": "stdout",
     "output_type": "stream",
     "text": [
      "Join this will be able to do what you want to download the block-stack are purently easy to your processing which is areas and talk to technical to use to more and quite an application of one of the only sentences of the stop projects to do something that shares the language of an application of th\n",
      "\n"
     ]
    },
    {
     "name": "stderr",
     "output_type": "stream",
     "text": [
      "\r",
      " 80%|████████  | 4/5 [00:47<00:11, 11.76s/it]"
     ]
    },
    {
     "name": "stdout",
     "output_type": "stream",
     "text": [
      "you can do something you could average a project you are doing an interesting project that you could implement a lot of applying map to make a company where these list of the points of an AI could be excurance with the bayers that are objective, but it would be transformed into the student project \n",
      "\n"
     ]
    },
    {
     "name": "stderr",
     "output_type": "stream",
     "text": [
      "100%|██████████| 5/5 [00:59<00:00, 11.89s/it]"
     ]
    },
    {
     "name": "stdout",
     "output_type": "stream",
     "text": [
      "There are often build a lot of project about the community into statistical time on someone who range things like the service to the \"price that the other is where you can make a compiler project and some approaches a lot of more about using the project will be able to do something that generates a\n",
      "\n"
     ]
    },
    {
     "name": "stderr",
     "output_type": "stream",
     "text": [
      "\n"
     ]
    }
   ],
   "source": [
    "from textgenrnn import textgenrnn\n",
    "textgen = textgenrnn()\n",
    "textgen.train_from_file('answers.txt', num_epochs=10)\n",
    "textgen.generate(5)"
   ]
  },
  {
   "cell_type": "code",
   "execution_count": null,
   "metadata": {
    "id": "9gMuDZaK5DXM"
   },
   "outputs": [],
   "source": []
  }
 ],
 "metadata": {
  "colab": {
   "name": "Untitled7.ipynb",
   "provenance": []
  },
  "kernelspec": {
   "display_name": "Python 3",
   "language": "python",
   "name": "python3"
  },
  "language_info": {
   "codemirror_mode": {
    "name": "ipython",
    "version": 3
   },
   "file_extension": ".py",
   "mimetype": "text/x-python",
   "name": "python",
   "nbconvert_exporter": "python",
   "pygments_lexer": "ipython3",
   "version": "3.7.9"
  }
 },
 "nbformat": 4,
 "nbformat_minor": 1
}

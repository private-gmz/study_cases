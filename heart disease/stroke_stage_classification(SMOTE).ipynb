{
 "cells": [
  {
   "cell_type": "code",
   "execution_count": 1,
   "metadata": {},
   "outputs": [
    {
     "name": "stderr",
     "output_type": "stream",
     "text": [
      "Using TensorFlow backend.\n"
     ]
    }
   ],
   "source": [
    "#import libraries\n",
    "import sys\n",
    "import pandas as pd\n",
    "import numpy as np\n",
    "import sklearn\n",
    "from sklearn.model_selection import train_test_split\n",
    "from sklearn.preprocessing import MinMaxScaler, StandardScaler\n",
    "import matplotlib\n",
    "import matplotlib.pyplot as plt\n",
    "%matplotlib inline\n",
    "import keras\n",
    "from keras.models import Sequential\n",
    "from keras.layers import Dense\n",
    "from keras.optimizers import Adam\n",
    "from keras.layers import Dropout\n",
    "from keras import regularizers\n",
    "from keras.utils.np_utils import to_categorical\n",
    "from imblearn.over_sampling import SMOTE"
   ]
  },
  {
   "cell_type": "code",
   "execution_count": 2,
   "metadata": {},
   "outputs": [
    {
     "name": "stdout",
     "output_type": "stream",
     "text": [
      "Shape of DataFrame:(303, 14)\n"
     ]
    }
   ],
   "source": [
    "#get data and replace ? with NaN\n",
    "data = pd.read_csv(r\"heart.csv\", na_values='?')\n",
    "print('Shape of DataFrame:{}'.format(data.shape))"
   ]
  },
  {
   "cell_type": "code",
   "execution_count": 3,
   "metadata": {},
   "outputs": [
    {
     "data": {
      "text/html": [
       "<div>\n",
       "<style scoped>\n",
       "    .dataframe tbody tr th:only-of-type {\n",
       "        vertical-align: middle;\n",
       "    }\n",
       "\n",
       "    .dataframe tbody tr th {\n",
       "        vertical-align: top;\n",
       "    }\n",
       "\n",
       "    .dataframe thead th {\n",
       "        text-align: right;\n",
       "    }\n",
       "</style>\n",
       "<table border=\"1\" class=\"dataframe\">\n",
       "  <thead>\n",
       "    <tr style=\"text-align: right;\">\n",
       "      <th></th>\n",
       "      <th>age</th>\n",
       "      <th>sex</th>\n",
       "      <th>cp</th>\n",
       "      <th>trestbps</th>\n",
       "      <th>chol</th>\n",
       "      <th>fbs</th>\n",
       "      <th>restecg</th>\n",
       "      <th>thalach</th>\n",
       "      <th>exang</th>\n",
       "      <th>oldpeak</th>\n",
       "      <th>slope</th>\n",
       "      <th>ca</th>\n",
       "      <th>thal</th>\n",
       "      <th>target</th>\n",
       "    </tr>\n",
       "  </thead>\n",
       "  <tbody>\n",
       "    <tr>\n",
       "      <th>0</th>\n",
       "      <td>63</td>\n",
       "      <td>1</td>\n",
       "      <td>1</td>\n",
       "      <td>145</td>\n",
       "      <td>233</td>\n",
       "      <td>1</td>\n",
       "      <td>2</td>\n",
       "      <td>150</td>\n",
       "      <td>0</td>\n",
       "      <td>2.3</td>\n",
       "      <td>3</td>\n",
       "      <td>0.0</td>\n",
       "      <td>6.0</td>\n",
       "      <td>0</td>\n",
       "    </tr>\n",
       "    <tr>\n",
       "      <th>1</th>\n",
       "      <td>67</td>\n",
       "      <td>1</td>\n",
       "      <td>4</td>\n",
       "      <td>160</td>\n",
       "      <td>286</td>\n",
       "      <td>0</td>\n",
       "      <td>2</td>\n",
       "      <td>108</td>\n",
       "      <td>1</td>\n",
       "      <td>1.5</td>\n",
       "      <td>2</td>\n",
       "      <td>3.0</td>\n",
       "      <td>3.0</td>\n",
       "      <td>2</td>\n",
       "    </tr>\n",
       "    <tr>\n",
       "      <th>2</th>\n",
       "      <td>67</td>\n",
       "      <td>1</td>\n",
       "      <td>4</td>\n",
       "      <td>120</td>\n",
       "      <td>229</td>\n",
       "      <td>0</td>\n",
       "      <td>2</td>\n",
       "      <td>129</td>\n",
       "      <td>1</td>\n",
       "      <td>2.6</td>\n",
       "      <td>2</td>\n",
       "      <td>2.0</td>\n",
       "      <td>7.0</td>\n",
       "      <td>1</td>\n",
       "    </tr>\n",
       "    <tr>\n",
       "      <th>3</th>\n",
       "      <td>37</td>\n",
       "      <td>1</td>\n",
       "      <td>3</td>\n",
       "      <td>130</td>\n",
       "      <td>250</td>\n",
       "      <td>0</td>\n",
       "      <td>0</td>\n",
       "      <td>187</td>\n",
       "      <td>0</td>\n",
       "      <td>3.5</td>\n",
       "      <td>3</td>\n",
       "      <td>0.0</td>\n",
       "      <td>3.0</td>\n",
       "      <td>0</td>\n",
       "    </tr>\n",
       "    <tr>\n",
       "      <th>4</th>\n",
       "      <td>41</td>\n",
       "      <td>0</td>\n",
       "      <td>2</td>\n",
       "      <td>130</td>\n",
       "      <td>204</td>\n",
       "      <td>0</td>\n",
       "      <td>2</td>\n",
       "      <td>172</td>\n",
       "      <td>0</td>\n",
       "      <td>1.4</td>\n",
       "      <td>1</td>\n",
       "      <td>0.0</td>\n",
       "      <td>3.0</td>\n",
       "      <td>0</td>\n",
       "    </tr>\n",
       "  </tbody>\n",
       "</table>\n",
       "</div>"
      ],
      "text/plain": [
       "   age  sex  cp  trestbps  chol  fbs  restecg  thalach  exang  oldpeak  slope  \\\n",
       "0   63    1   1       145   233    1        2      150      0      2.3      3   \n",
       "1   67    1   4       160   286    0        2      108      1      1.5      2   \n",
       "2   67    1   4       120   229    0        2      129      1      2.6      2   \n",
       "3   37    1   3       130   250    0        0      187      0      3.5      3   \n",
       "4   41    0   2       130   204    0        2      172      0      1.4      1   \n",
       "\n",
       "    ca  thal  target  \n",
       "0  0.0   6.0       0  \n",
       "1  3.0   3.0       2  \n",
       "2  2.0   7.0       1  \n",
       "3  0.0   3.0       0  \n",
       "4  0.0   3.0       0  "
      ]
     },
     "execution_count": 3,
     "metadata": {},
     "output_type": "execute_result"
    }
   ],
   "source": [
    "data.head()"
   ]
  },
  {
   "cell_type": "code",
   "execution_count": 4,
   "metadata": {},
   "outputs": [
    {
     "data": {
      "image/png": "[encoded data removed]",
      "text/plain": [
       "<Figure size 864x864 with 16 Axes>"
      ]
     },
     "metadata": {
      "needs_background": "light"
     },
     "output_type": "display_data"
    }
   ],
   "source": [
    "data.hist(figsize = (12, 12))\n",
    "plt.show()"
   ]
  },
  {
   "cell_type": "code",
   "execution_count": 5,
   "metadata": {},
   "outputs": [
    {
     "name": "stdout",
     "output_type": "stream",
     "text": [
      "data shape before dropping:(303, 14)\n",
      "data shape after dropping:(297, 14)\n"
     ]
    }
   ],
   "source": [
    "#drop rows with NaN values\n",
    "print('data shape before dropping:{}'.format(data.shape))\n",
    "data.dropna(inplace=True)\n",
    "print('data shape after dropping:{}'.format(data.shape))"
   ]
  },
  {
   "cell_type": "code",
   "execution_count": 6,
   "metadata": {},
   "outputs": [
    {
     "name": "stderr",
     "output_type": "stream",
     "text": [
      "C:\\Users\\User\\Anaconda3\\lib\\site-packages\\imblearn\\utils\\_validation.py:326: UserWarning: After over-sampling, the number of samples (500) in class 0 will be larger than the number of samples in the majority class (class #0 -> 160)\n",
      "  n_samples_majority,\n",
      "C:\\Users\\User\\Anaconda3\\lib\\site-packages\\imblearn\\utils\\_validation.py:326: UserWarning: After over-sampling, the number of samples (400) in class 1 will be larger than the number of samples in the majority class (class #0 -> 160)\n",
      "  n_samples_majority,\n",
      "C:\\Users\\User\\Anaconda3\\lib\\site-packages\\imblearn\\utils\\_validation.py:326: UserWarning: After over-sampling, the number of samples (350) in class 2 will be larger than the number of samples in the majority class (class #0 -> 160)\n",
      "  n_samples_majority,\n",
      "C:\\Users\\User\\Anaconda3\\lib\\site-packages\\imblearn\\utils\\_validation.py:326: UserWarning: After over-sampling, the number of samples (300) in class 3 will be larger than the number of samples in the majority class (class #0 -> 160)\n",
      "  n_samples_majority,\n",
      "C:\\Users\\User\\Anaconda3\\lib\\site-packages\\imblearn\\utils\\_validation.py:326: UserWarning: After over-sampling, the number of samples (250) in class 4 will be larger than the number of samples in the majority class (class #0 -> 160)\n",
      "  n_samples_majority,\n"
     ]
    }
   ],
   "source": [
    "#isolate features and target\n",
    "#generate more data using SMOTE\n",
    "x1 = np.array(data.drop(['target'], 1))\n",
    "y1 = np.array(data['target'])\n",
    "oversample = SMOTE(sampling_strategy={0:500,1:400,2:350,3:300,4:250})\n",
    "X, y = oversample.fit_resample(x1, y1)"
   ]
  },
  {
   "cell_type": "code",
   "execution_count": 7,
   "metadata": {},
   "outputs": [],
   "source": [
    "#split data into training, validation and testing\n",
    "_, X_test, _, y_test = train_test_split(x1, y1, test_size=0.2, stratify=y1, shuffle = True, random_state = 100)\n",
    "# Split train into train-val\n",
    "X_train, X_val, y_train, y_val = train_test_split(X, y, test_size=0.2, stratify=y,shuffle = True, random_state = 100)"
   ]
  },
  {
   "cell_type": "code",
   "execution_count": 8,
   "metadata": {},
   "outputs": [],
   "source": [
    "#scale input and convert output to 0s and 1\n",
    "Y_train = to_categorical(y_train, num_classes=None)\n",
    "Y_test = to_categorical(y_test, num_classes=None)\n",
    "Y_val = to_categorical(y_val, num_classes=None)\n",
    "scaler = StandardScaler()\n",
    "X_train = scaler.fit_transform(X_train)\n",
    "X_test = scaler.transform(X_test)\n",
    "X_val = scaler.transform(X_val)"
   ]
  },
  {
   "cell_type": "code",
   "execution_count": 9,
   "metadata": {},
   "outputs": [
    {
     "name": "stdout",
     "output_type": "stream",
     "text": [
      "WARNING:tensorflow:From C:\\Users\\User\\Anaconda3\\lib\\site-packages\\keras\\backend\\tensorflow_backend.py:74: The name tf.get_default_graph is deprecated. Please use tf.compat.v1.get_default_graph instead.\n",
      "\n",
      "WARNING:tensorflow:From C:\\Users\\User\\Anaconda3\\lib\\site-packages\\keras\\backend\\tensorflow_backend.py:517: The name tf.placeholder is deprecated. Please use tf.compat.v1.placeholder instead.\n",
      "\n",
      "WARNING:tensorflow:From C:\\Users\\User\\Anaconda3\\lib\\site-packages\\keras\\backend\\tensorflow_backend.py:4185: The name tf.truncated_normal is deprecated. Please use tf.random.truncated_normal instead.\n",
      "\n",
      "WARNING:tensorflow:From C:\\Users\\User\\Anaconda3\\lib\\site-packages\\keras\\backend\\tensorflow_backend.py:133: The name tf.placeholder_with_default is deprecated. Please use tf.compat.v1.placeholder_with_default instead.\n",
      "\n",
      "WARNING:tensorflow:From C:\\Users\\User\\Anaconda3\\lib\\site-packages\\keras\\backend\\tensorflow_backend.py:3445: calling dropout (from tensorflow.python.ops.nn_ops) with keep_prob is deprecated and will be removed in a future version.\n",
      "Instructions for updating:\n",
      "Please use `rate` instead of `keep_prob`. Rate should be set to `rate = 1 - keep_prob`.\n",
      "WARNING:tensorflow:From C:\\Users\\User\\Anaconda3\\lib\\site-packages\\keras\\backend\\tensorflow_backend.py:4138: The name tf.random_uniform is deprecated. Please use tf.random.uniform instead.\n",
      "\n",
      "WARNING:tensorflow:From C:\\Users\\User\\Anaconda3\\lib\\site-packages\\keras\\optimizers.py:790: The name tf.train.Optimizer is deprecated. Please use tf.compat.v1.train.Optimizer instead.\n",
      "\n",
      "WARNING:tensorflow:From C:\\Users\\User\\Anaconda3\\lib\\site-packages\\keras\\backend\\tensorflow_backend.py:3295: The name tf.log is deprecated. Please use tf.math.log instead.\n",
      "\n"
     ]
    }
   ],
   "source": [
    "#create keras model\n",
    "def create_model():\n",
    "    # create model\n",
    "    model = Sequential()\n",
    "    model.add(Dense(80, input_dim=X.shape[1], kernel_initializer='he_normal',  kernel_regularizer=regularizers.l2(0.001),\n",
    "                    activation='relu'))\n",
    "    model.add(Dropout(0.25))\n",
    "    model.add(Dense(40, kernel_initializer='he_normal',  kernel_regularizer=regularizers.l2(0.001),activation='relu'))\n",
    "    model.add(Dropout(0.25))\n",
    "    model.add(Dense(Y_train.shape[1], activation='softmax'))\n",
    "    \n",
    "    # Compile model\n",
    "    adam = Adam(lr=0.001)\n",
    "    model.compile(loss='categorical_crossentropy', optimizer=adam, metrics=['accuracy'])\n",
    "    return model\n",
    "Y_train_binary = Y_train.copy()\n",
    "Y_test_binary = Y_test.copy()\n",
    "Y_val_binary = Y_val.copy()\n",
    "model = create_model()"
   ]
  },
  {
   "cell_type": "code",
   "execution_count": 10,
   "metadata": {},
   "outputs": [
    {
     "name": "stdout",
     "output_type": "stream",
     "text": [
      "WARNING:tensorflow:From C:\\Users\\User\\Anaconda3\\lib\\site-packages\\tensorflow_core\\python\\ops\\math_grad.py:1424: where (from tensorflow.python.ops.array_ops) is deprecated and will be removed in a future version.\n",
      "Instructions for updating:\n",
      "Use tf.where in 2.0, which has the same broadcast rule as np.where\n",
      "WARNING:tensorflow:From C:\\Users\\User\\Anaconda3\\lib\\site-packages\\keras\\backend\\tensorflow_backend.py:986: The name tf.assign_add is deprecated. Please use tf.compat.v1.assign_add instead.\n",
      "\n",
      "WARNING:tensorflow:From C:\\Users\\User\\Anaconda3\\lib\\site-packages\\keras\\backend\\tensorflow_backend.py:973: The name tf.assign is deprecated. Please use tf.compat.v1.assign instead.\n",
      "\n",
      "WARNING:tensorflow:From C:\\Users\\User\\Anaconda3\\lib\\site-packages\\keras\\backend\\tensorflow_backend.py:2741: The name tf.Session is deprecated. Please use tf.compat.v1.Session instead.\n",
      "\n",
      "Train on 1440 samples, validate on 360 samples\n",
      "Epoch 1/200\n",
      "WARNING:tensorflow:From C:\\Users\\User\\Anaconda3\\lib\\site-packages\\keras\\backend\\tensorflow_backend.py:174: The name tf.get_default_session is deprecated. Please use tf.compat.v1.get_default_session instead.\n",
      "\n",
      "WARNING:tensorflow:From C:\\Users\\User\\Anaconda3\\lib\\site-packages\\keras\\backend\\tensorflow_backend.py:181: The name tf.ConfigProto is deprecated. Please use tf.compat.v1.ConfigProto instead.\n",
      "\n",
      "WARNING:tensorflow:From C:\\Users\\User\\Anaconda3\\lib\\site-packages\\keras\\backend\\tensorflow_backend.py:190: The name tf.global_variables is deprecated. Please use tf.compat.v1.global_variables instead.\n",
      "\n",
      "WARNING:tensorflow:From C:\\Users\\User\\Anaconda3\\lib\\site-packages\\keras\\backend\\tensorflow_backend.py:199: The name tf.is_variable_initialized is deprecated. Please use tf.compat.v1.is_variable_initialized instead.\n",
      "\n",
      "WARNING:tensorflow:From C:\\Users\\User\\Anaconda3\\lib\\site-packages\\keras\\backend\\tensorflow_backend.py:206: The name tf.variables_initializer is deprecated. Please use tf.compat.v1.variables_initializer instead.\n",
      "\n",
      "1440/1440 [==============================] - 37s 26ms/step - loss: 1.9513 - acc: 0.3236 - val_loss: 1.3575 - val_acc: 0.5611\n",
      "Epoch 2/200\n",
      "1440/1440 [==============================] - 0s 337us/step - loss: 1.4738 - acc: 0.4785 - val_loss: 1.1994 - val_acc: 0.6250\n",
      "Epoch 3/200\n",
      "1440/1440 [==============================] - 0s 323us/step - loss: 1.3384 - acc: 0.5312 - val_loss: 1.1276 - val_acc: 0.6472\n",
      "Epoch 4/200\n",
      "1440/1440 [==============================] - 0s 342us/step - loss: 1.2319 - acc: 0.5861 - val_loss: 1.0331 - val_acc: 0.6889\n",
      "Epoch 5/200\n",
      "1440/1440 [==============================] - 0s 342us/step - loss: 1.1541 - acc: 0.6167 - val_loss: 0.9738 - val_acc: 0.7111\n",
      "Epoch 6/200\n",
      "1440/1440 [==============================] - 0s 328us/step - loss: 1.1123 - acc: 0.6271 - val_loss: 0.9346 - val_acc: 0.7444\n",
      "Epoch 7/200\n",
      "1440/1440 [==============================] - 0s 333us/step - loss: 1.0340 - acc: 0.6583 - val_loss: 0.8751 - val_acc: 0.7667\n",
      "Epoch 8/200\n",
      "1440/1440 [==============================] - 0s 326us/step - loss: 0.9792 - acc: 0.6861 - val_loss: 0.8297 - val_acc: 0.8111\n",
      "Epoch 9/200\n",
      "1440/1440 [==============================] - 0s 343us/step - loss: 0.9619 - acc: 0.6889 - val_loss: 0.8151 - val_acc: 0.7972\n",
      "Epoch 10/200\n",
      "1440/1440 [==============================] - 0s 326us/step - loss: 0.8979 - acc: 0.7243 - val_loss: 0.7878 - val_acc: 0.8056\n",
      "Epoch 11/200\n",
      "1440/1440 [==============================] - 0s 333us/step - loss: 0.8959 - acc: 0.7250 - val_loss: 0.7529 - val_acc: 0.8306\n",
      "Epoch 12/200\n",
      "1440/1440 [==============================] - 0s 344us/step - loss: 0.8762 - acc: 0.7375 - val_loss: 0.7261 - val_acc: 0.8194\n",
      "Epoch 13/200\n",
      "1440/1440 [==============================] - 0s 338us/step - loss: 0.8434 - acc: 0.7389 - val_loss: 0.6910 - val_acc: 0.8389\n",
      "Epoch 14/200\n",
      "1440/1440 [==============================] - 0s 338us/step - loss: 0.8387 - acc: 0.7618 - val_loss: 0.6718 - val_acc: 0.8444\n",
      "Epoch 15/200\n",
      "1440/1440 [==============================] - 1s 349us/step - loss: 0.7890 - acc: 0.7743 - val_loss: 0.6603 - val_acc: 0.8417\n",
      "Epoch 16/200\n",
      "1440/1440 [==============================] - 1s 386us/step - loss: 0.7939 - acc: 0.7722 - val_loss: 0.6416 - val_acc: 0.8500\n",
      "Epoch 17/200\n",
      "1440/1440 [==============================] - 1s 357us/step - loss: 0.7484 - acc: 0.7972 - val_loss: 0.6228 - val_acc: 0.8500\n",
      "Epoch 18/200\n",
      "1440/1440 [==============================] - 0s 343us/step - loss: 0.7344 - acc: 0.7896 - val_loss: 0.6199 - val_acc: 0.8583\n",
      "Epoch 19/200\n",
      "1440/1440 [==============================] - 0s 337us/step - loss: 0.7069 - acc: 0.8063 - val_loss: 0.6000 - val_acc: 0.8694\n",
      "Epoch 20/200\n",
      "1440/1440 [==============================] - 0s 340us/step - loss: 0.7244 - acc: 0.7854 - val_loss: 0.6029 - val_acc: 0.8500\n",
      "Epoch 21/200\n",
      "1440/1440 [==============================] - 0s 332us/step - loss: 0.6930 - acc: 0.7958 - val_loss: 0.5762 - val_acc: 0.8722\n",
      "Epoch 22/200\n",
      "1440/1440 [==============================] - 0s 335us/step - loss: 0.7068 - acc: 0.7861 - val_loss: 0.5648 - val_acc: 0.8778\n",
      "Epoch 23/200\n",
      "1440/1440 [==============================] - ETA: 0s - loss: 0.6867 - acc: 0.798 - 0s 343us/step - loss: 0.6887 - acc: 0.7972 - val_loss: 0.5623 - val_acc: 0.8750\n",
      "Epoch 24/200\n",
      "1440/1440 [==============================] - 0s 345us/step - loss: 0.6728 - acc: 0.8160 - val_loss: 0.5460 - val_acc: 0.8750\n",
      "Epoch 25/200\n",
      "1440/1440 [==============================] - 1s 360us/step - loss: 0.6390 - acc: 0.8201 - val_loss: 0.5365 - val_acc: 0.8806\n",
      "Epoch 26/200\n",
      "1440/1440 [==============================] - 1s 354us/step - loss: 0.6181 - acc: 0.8257 - val_loss: 0.5186 - val_acc: 0.8972\n",
      "Epoch 27/200\n",
      "1440/1440 [==============================] - 0s 345us/step - loss: 0.6200 - acc: 0.8382 - val_loss: 0.5130 - val_acc: 0.8889\n",
      "Epoch 28/200\n",
      "1440/1440 [==============================] - 1s 359us/step - loss: 0.6209 - acc: 0.8319 - val_loss: 0.5125 - val_acc: 0.9056\n",
      "Epoch 29/200\n",
      "1440/1440 [==============================] - 0s 345us/step - loss: 0.6076 - acc: 0.8361 - val_loss: 0.4910 - val_acc: 0.9167 0s - loss: 0.6003 - acc: 0.8\n",
      "Epoch 30/200\n",
      "1440/1440 [==============================] - 0s 335us/step - loss: 0.6188 - acc: 0.8319 - val_loss: 0.4911 - val_acc: 0.9194\n",
      "Epoch 31/200\n",
      "1440/1440 [==============================] - 1s 356us/step - loss: 0.5965 - acc: 0.8521 - val_loss: 0.4793 - val_acc: 0.9139\n",
      "Epoch 32/200\n",
      "1440/1440 [==============================] - 0s 331us/step - loss: 0.5774 - acc: 0.8417 - val_loss: 0.4850 - val_acc: 0.9083\n",
      "Epoch 33/200\n",
      "1440/1440 [==============================] - 0s 323us/step - loss: 0.6002 - acc: 0.8382 - val_loss: 0.4749 - val_acc: 0.9028\n",
      "Epoch 34/200\n",
      "1440/1440 [==============================] - 0s 329us/step - loss: 0.5741 - acc: 0.8424 - val_loss: 0.4667 - val_acc: 0.9111\n",
      "Epoch 35/200\n",
      "1440/1440 [==============================] - 0s 328us/step - loss: 0.5741 - acc: 0.8451 - val_loss: 0.4551 - val_acc: 0.9222\n",
      "Epoch 36/200\n",
      "1440/1440 [==============================] - 0s 326us/step - loss: 0.5646 - acc: 0.8569 - val_loss: 0.4524 - val_acc: 0.9278\n",
      "Epoch 37/200\n",
      "1440/1440 [==============================] - 0s 338us/step - loss: 0.5542 - acc: 0.8535 - val_loss: 0.4509 - val_acc: 0.9389\n",
      "Epoch 38/200\n",
      "1440/1440 [==============================] - 0s 325us/step - loss: 0.5410 - acc: 0.8708 - val_loss: 0.4553 - val_acc: 0.9139\n",
      "Epoch 39/200\n",
      "1440/1440 [==============================] - 0s 339us/step - loss: 0.5360 - acc: 0.8646 - val_loss: 0.4404 - val_acc: 0.9278\n",
      "Epoch 40/200\n",
      "1440/1440 [==============================] - 0s 320us/step - loss: 0.5563 - acc: 0.8569 - val_loss: 0.4476 - val_acc: 0.9306\n",
      "Epoch 41/200\n",
      "1440/1440 [==============================] - 0s 321us/step - loss: 0.5256 - acc: 0.8750 - val_loss: 0.4313 - val_acc: 0.9333\n",
      "Epoch 42/200\n",
      "1440/1440 [==============================] - 0s 339us/step - loss: 0.5314 - acc: 0.8569 - val_loss: 0.4233 - val_acc: 0.9333\n",
      "Epoch 43/200\n",
      "1440/1440 [==============================] - 0s 329us/step - loss: 0.5049 - acc: 0.8750 - val_loss: 0.4217 - val_acc: 0.9333\n",
      "Epoch 44/200\n",
      "1440/1440 [==============================] - 0s 343us/step - loss: 0.5118 - acc: 0.8715 - val_loss: 0.4150 - val_acc: 0.9306\n",
      "Epoch 45/200\n",
      "1440/1440 [==============================] - 1s 350us/step - loss: 0.4990 - acc: 0.8826 - val_loss: 0.4097 - val_acc: 0.9389\n"
     ]
    },
    {
     "name": "stdout",
     "output_type": "stream",
     "text": [
      "Epoch 46/200\n",
      "1440/1440 [==============================] - 0s 325us/step - loss: 0.5097 - acc: 0.8701 - val_loss: 0.4186 - val_acc: 0.9306\n",
      "Epoch 47/200\n",
      "1440/1440 [==============================] - 0s 340us/step - loss: 0.4718 - acc: 0.8917 - val_loss: 0.3987 - val_acc: 0.9444\n",
      "Epoch 48/200\n",
      "1440/1440 [==============================] - 0s 327us/step - loss: 0.4792 - acc: 0.8861 - val_loss: 0.3947 - val_acc: 0.9417\n",
      "Epoch 49/200\n",
      "1440/1440 [==============================] - 0s 316us/step - loss: 0.4912 - acc: 0.8771 - val_loss: 0.4014 - val_acc: 0.9361\n",
      "Epoch 50/200\n",
      "1440/1440 [==============================] - 0s 322us/step - loss: 0.4766 - acc: 0.8792 - val_loss: 0.3991 - val_acc: 0.9278\n",
      "Epoch 51/200\n",
      "1440/1440 [==============================] - 0s 321us/step - loss: 0.4738 - acc: 0.8819 - val_loss: 0.3865 - val_acc: 0.9444\n",
      "Epoch 52/200\n",
      "1440/1440 [==============================] - 0s 326us/step - loss: 0.4639 - acc: 0.8875 - val_loss: 0.3814 - val_acc: 0.9472\n",
      "Epoch 53/200\n",
      "1440/1440 [==============================] - 0s 324us/step - loss: 0.4595 - acc: 0.8882 - val_loss: 0.3772 - val_acc: 0.9472\n",
      "Epoch 54/200\n",
      "1440/1440 [==============================] - 1s 358us/step - loss: 0.4629 - acc: 0.8882 - val_loss: 0.3730 - val_acc: 0.9500\n",
      "Epoch 55/200\n",
      "1440/1440 [==============================] - 0s 344us/step - loss: 0.4652 - acc: 0.8840 - val_loss: 0.3768 - val_acc: 0.9444\n",
      "Epoch 56/200\n",
      "1440/1440 [==============================] - 0s 328us/step - loss: 0.4514 - acc: 0.8951 - val_loss: 0.3701 - val_acc: 0.9500\n",
      "Epoch 57/200\n",
      "1440/1440 [==============================] - 0s 343us/step - loss: 0.4432 - acc: 0.8924 - val_loss: 0.3728 - val_acc: 0.9500\n",
      "Epoch 58/200\n",
      "1440/1440 [==============================] - 1s 351us/step - loss: 0.4199 - acc: 0.9083 - val_loss: 0.3624 - val_acc: 0.9500\n",
      "Epoch 59/200\n",
      "1440/1440 [==============================] - 0s 329us/step - loss: 0.4385 - acc: 0.9076 - val_loss: 0.3553 - val_acc: 0.9583\n",
      "Epoch 60/200\n",
      "1440/1440 [==============================] - 0s 324us/step - loss: 0.4422 - acc: 0.8944 - val_loss: 0.3634 - val_acc: 0.9583\n",
      "Epoch 61/200\n",
      "1440/1440 [==============================] - 0s 330us/step - loss: 0.4327 - acc: 0.9014 - val_loss: 0.3592 - val_acc: 0.9528\n",
      "Epoch 62/200\n",
      "1440/1440 [==============================] - 0s 333us/step - loss: 0.4238 - acc: 0.9042 - val_loss: 0.3488 - val_acc: 0.9556\n",
      "Epoch 63/200\n",
      "1440/1440 [==============================] - 1s 351us/step - loss: 0.4019 - acc: 0.9188 - val_loss: 0.3466 - val_acc: 0.9500\n",
      "Epoch 64/200\n",
      "1440/1440 [==============================] - 1s 400us/step - loss: 0.4065 - acc: 0.9229 - val_loss: 0.3410 - val_acc: 0.9556\n",
      "Epoch 65/200\n",
      "1440/1440 [==============================] - ETA: 0s - loss: 0.4325 - acc: 0.897 - 1s 406us/step - loss: 0.4341 - acc: 0.8972 - val_loss: 0.3406 - val_acc: 0.9528\n",
      "Epoch 66/200\n",
      "1440/1440 [==============================] - 1s 411us/step - loss: 0.4098 - acc: 0.9097 - val_loss: 0.3417 - val_acc: 0.9556\n",
      "Epoch 67/200\n",
      "1440/1440 [==============================] - 1s 361us/step - loss: 0.3957 - acc: 0.9076 - val_loss: 0.3360 - val_acc: 0.9583\n",
      "Epoch 68/200\n",
      "1440/1440 [==============================] - 1s 406us/step - loss: 0.4062 - acc: 0.9062 - val_loss: 0.3402 - val_acc: 0.9556\n",
      "Epoch 69/200\n",
      "1440/1440 [==============================] - 1s 400us/step - loss: 0.3824 - acc: 0.9257 - val_loss: 0.3497 - val_acc: 0.9500\n",
      "Epoch 70/200\n",
      "1440/1440 [==============================] - 1s 400us/step - loss: 0.4144 - acc: 0.9104 - val_loss: 0.3310 - val_acc: 0.9528\n",
      "Epoch 71/200\n",
      "1440/1440 [==============================] - 1s 378us/step - loss: 0.4022 - acc: 0.9125 - val_loss: 0.3306 - val_acc: 0.9500\n",
      "Epoch 72/200\n",
      "1440/1440 [==============================] - 1s 356us/step - loss: 0.4119 - acc: 0.9021 - val_loss: 0.3344 - val_acc: 0.9528\n",
      "Epoch 73/200\n",
      "1440/1440 [==============================] - 1s 366us/step - loss: 0.4072 - acc: 0.9118 - val_loss: 0.3263 - val_acc: 0.9583\n",
      "Epoch 74/200\n",
      "1440/1440 [==============================] - 1s 350us/step - loss: 0.3836 - acc: 0.9208 - val_loss: 0.3186 - val_acc: 0.9528\n",
      "Epoch 75/200\n",
      "1440/1440 [==============================] - 1s 350us/step - loss: 0.3660 - acc: 0.9194 - val_loss: 0.3166 - val_acc: 0.9556\n",
      "Epoch 76/200\n",
      "1440/1440 [==============================] - 0s 344us/step - loss: 0.3986 - acc: 0.9083 - val_loss: 0.3279 - val_acc: 0.9528\n",
      "Epoch 77/200\n",
      "1440/1440 [==============================] - 1s 361us/step - loss: 0.3822 - acc: 0.9174 - val_loss: 0.3239 - val_acc: 0.9528\n",
      "Epoch 78/200\n",
      "1440/1440 [==============================] - 1s 361us/step - loss: 0.3612 - acc: 0.9194 - val_loss: 0.3139 - val_acc: 0.9556\n",
      "Epoch 79/200\n",
      "1440/1440 [==============================] - 0s 333us/step - loss: 0.3714 - acc: 0.9285 - val_loss: 0.3076 - val_acc: 0.9583\n",
      "Epoch 80/200\n",
      "1440/1440 [==============================] - 0s 322us/step - loss: 0.3486 - acc: 0.9313 - val_loss: 0.3121 - val_acc: 0.9583\n",
      "Epoch 81/200\n",
      "1440/1440 [==============================] - 0s 328us/step - loss: 0.3570 - acc: 0.9299 - val_loss: 0.3140 - val_acc: 0.9556\n",
      "Epoch 82/200\n",
      "1440/1440 [==============================] - 0s 333us/step - loss: 0.3598 - acc: 0.9250 - val_loss: 0.2987 - val_acc: 0.9556\n",
      "Epoch 83/200\n",
      "1440/1440 [==============================] - ETA: 0s - loss: 0.3667 - acc: 0.919 - 0s 339us/step - loss: 0.3696 - acc: 0.9167 - val_loss: 0.3045 - val_acc: 0.9500\n",
      "Epoch 84/200\n",
      "1440/1440 [==============================] - 1s 411us/step - loss: 0.3563 - acc: 0.9257 - val_loss: 0.3105 - val_acc: 0.9556\n",
      "Epoch 85/200\n",
      "1440/1440 [==============================] - 1s 356us/step - loss: 0.3543 - acc: 0.9201 - val_loss: 0.3088 - val_acc: 0.9556\n",
      "Epoch 86/200\n",
      "1440/1440 [==============================] - 1s 361us/step - loss: 0.3533 - acc: 0.9243 - val_loss: 0.3055 - val_acc: 0.9528\n",
      "Epoch 87/200\n",
      "1440/1440 [==============================] - 1s 350us/step - loss: 0.3544 - acc: 0.9201 - val_loss: 0.2942 - val_acc: 0.9639\n",
      "Epoch 88/200\n",
      "1440/1440 [==============================] - 0s 344us/step - loss: 0.3527 - acc: 0.9257 - val_loss: 0.2955 - val_acc: 0.9583\n",
      "Epoch 89/200\n",
      "1440/1440 [==============================] - 1s 361us/step - loss: 0.3403 - acc: 0.9326 - val_loss: 0.2941 - val_acc: 0.9583\n",
      "Epoch 90/200\n",
      "1440/1440 [==============================] - 1s 356us/step - loss: 0.3382 - acc: 0.9271 - val_loss: 0.2958 - val_acc: 0.9611\n",
      "Epoch 91/200\n",
      "1440/1440 [==============================] - 1s 372us/step - loss: 0.3510 - acc: 0.9257 - val_loss: 0.2966 - val_acc: 0.9611\n",
      "Epoch 92/200\n",
      "1440/1440 [==============================] - 1s 372us/step - loss: 0.3318 - acc: 0.9375 - val_loss: 0.3023 - val_acc: 0.9583\n",
      "Epoch 93/200\n",
      "1440/1440 [==============================] - 1s 356us/step - loss: 0.3510 - acc: 0.9257 - val_loss: 0.3009 - val_acc: 0.9583\n",
      "Epoch 94/200\n",
      "1440/1440 [==============================] - 0s 344us/step - loss: 0.3253 - acc: 0.9361 - val_loss: 0.2967 - val_acc: 0.9583\n",
      "Epoch 95/200\n",
      "1440/1440 [==============================] - 1s 372us/step - loss: 0.3490 - acc: 0.9243 - val_loss: 0.2903 - val_acc: 0.9639\n",
      "Epoch 96/200\n",
      "1440/1440 [==============================] - 1s 372us/step - loss: 0.3188 - acc: 0.9368 - val_loss: 0.2850 - val_acc: 0.9639\n",
      "Epoch 97/200\n",
      "1440/1440 [==============================] - 1s 367us/step - loss: 0.3383 - acc: 0.9319 - val_loss: 0.2869 - val_acc: 0.9639\n",
      "Epoch 98/200\n",
      "1440/1440 [==============================] - 1s 372us/step - loss: 0.3355 - acc: 0.9292 - val_loss: 0.2834 - val_acc: 0.9639\n",
      "Epoch 99/200\n",
      "1440/1440 [==============================] - 1s 350us/step - loss: 0.3473 - acc: 0.9208 - val_loss: 0.2869 - val_acc: 0.9611\n",
      "Epoch 100/200\n",
      "1440/1440 [==============================] - 1s 358us/step - loss: 0.3272 - acc: 0.9354 - val_loss: 0.2921 - val_acc: 0.9694\n",
      "Epoch 101/200\n",
      "1440/1440 [==============================] - 1s 355us/step - loss: 0.3233 - acc: 0.9410 - val_loss: 0.2939 - val_acc: 0.9528\n",
      "Epoch 102/200\n",
      "1440/1440 [==============================] - 1s 363us/step - loss: 0.3422 - acc: 0.9299 - val_loss: 0.2711 - val_acc: 0.9639\n",
      "Epoch 103/200\n",
      "1440/1440 [==============================] - 1s 386us/step - loss: 0.3362 - acc: 0.9299 - val_loss: 0.2764 - val_acc: 0.9611\n",
      "Epoch 104/200\n",
      "1440/1440 [==============================] - 1s 350us/step - loss: 0.3139 - acc: 0.9361 - val_loss: 0.2697 - val_acc: 0.9667\n"
     ]
    },
    {
     "name": "stdout",
     "output_type": "stream",
     "text": [
      "Epoch 105/200\n",
      "1440/1440 [==============================] - 1s 349us/step - loss: 0.3223 - acc: 0.9354 - val_loss: 0.2684 - val_acc: 0.9611\n",
      "Epoch 106/200\n",
      "1440/1440 [==============================] - 0s 339us/step - loss: 0.3250 - acc: 0.9333 - val_loss: 0.2672 - val_acc: 0.9694\n",
      "Epoch 107/200\n",
      "1440/1440 [==============================] - 0s 328us/step - loss: 0.3060 - acc: 0.9437 - val_loss: 0.2651 - val_acc: 0.9667\n",
      "Epoch 108/200\n",
      "1440/1440 [==============================] - 0s 339us/step - loss: 0.3216 - acc: 0.9285 - val_loss: 0.2689 - val_acc: 0.9611\n",
      "Epoch 109/200\n",
      "1440/1440 [==============================] - 0s 328us/step - loss: 0.3116 - acc: 0.9368 - val_loss: 0.2710 - val_acc: 0.9611\n",
      "Epoch 110/200\n",
      "1440/1440 [==============================] - 0s 333us/step - loss: 0.3130 - acc: 0.9410 - val_loss: 0.2551 - val_acc: 0.9694\n",
      "Epoch 111/200\n",
      "1440/1440 [==============================] - 0s 328us/step - loss: 0.3064 - acc: 0.9382 - val_loss: 0.2573 - val_acc: 0.9639\n",
      "Epoch 112/200\n",
      "1440/1440 [==============================] - 1s 378us/step - loss: 0.3057 - acc: 0.9403 - val_loss: 0.2523 - val_acc: 0.9722\n",
      "Epoch 113/200\n",
      "1440/1440 [==============================] - 0s 344us/step - loss: 0.2908 - acc: 0.9431 - val_loss: 0.2640 - val_acc: 0.9694\n",
      "Epoch 114/200\n",
      "1440/1440 [==============================] - 1s 358us/step - loss: 0.3114 - acc: 0.9347 - val_loss: 0.2588 - val_acc: 0.9667\n",
      "Epoch 115/200\n",
      "1440/1440 [==============================] - 0s 333us/step - loss: 0.2842 - acc: 0.9500 - val_loss: 0.2591 - val_acc: 0.9667\n",
      "Epoch 116/200\n",
      "1440/1440 [==============================] - 0s 328us/step - loss: 0.2823 - acc: 0.9465 - val_loss: 0.2543 - val_acc: 0.9667\n",
      "Epoch 117/200\n",
      "1440/1440 [==============================] - 0s 328us/step - loss: 0.2898 - acc: 0.9458 - val_loss: 0.2510 - val_acc: 0.9694\n",
      "Epoch 118/200\n",
      "1440/1440 [==============================] - 0s 337us/step - loss: 0.2930 - acc: 0.9444 - val_loss: 0.2492 - val_acc: 0.9667\n",
      "Epoch 119/200\n",
      "1440/1440 [==============================] - 1s 348us/step - loss: 0.2940 - acc: 0.9472 - val_loss: 0.2616 - val_acc: 0.9639\n",
      "Epoch 120/200\n",
      "1440/1440 [==============================] - 0s 334us/step - loss: 0.2905 - acc: 0.9403 - val_loss: 0.2554 - val_acc: 0.9639\n",
      "Epoch 121/200\n",
      "1440/1440 [==============================] - 0s 328us/step - loss: 0.2957 - acc: 0.9347 - val_loss: 0.2536 - val_acc: 0.9667\n",
      "Epoch 122/200\n",
      "1440/1440 [==============================] - 0s 333us/step - loss: 0.2752 - acc: 0.9424 - val_loss: 0.2445 - val_acc: 0.9639\n",
      "Epoch 123/200\n",
      "1440/1440 [==============================] - 0s 328us/step - loss: 0.2815 - acc: 0.9437 - val_loss: 0.2545 - val_acc: 0.9639\n",
      "Epoch 124/200\n",
      "1440/1440 [==============================] - 0s 328us/step - loss: 0.2833 - acc: 0.9493 - val_loss: 0.2501 - val_acc: 0.9667\n",
      "Epoch 125/200\n",
      "1440/1440 [==============================] - 0s 328us/step - loss: 0.2886 - acc: 0.9389 - val_loss: 0.2562 - val_acc: 0.9667\n",
      "Epoch 126/200\n",
      "1440/1440 [==============================] - 0s 328us/step - loss: 0.2776 - acc: 0.9521 - val_loss: 0.2513 - val_acc: 0.9611\n",
      "Epoch 127/200\n",
      "1440/1440 [==============================] - 0s 328us/step - loss: 0.2545 - acc: 0.9556 - val_loss: 0.2380 - val_acc: 0.9722\n",
      "Epoch 128/200\n",
      "1440/1440 [==============================] - 0s 328us/step - loss: 0.2669 - acc: 0.9444 - val_loss: 0.2364 - val_acc: 0.9694\n",
      "Epoch 129/200\n",
      "1440/1440 [==============================] - 0s 328us/step - loss: 0.2810 - acc: 0.9479 - val_loss: 0.2278 - val_acc: 0.9750\n",
      "Epoch 130/200\n",
      "1440/1440 [==============================] - 0s 328us/step - loss: 0.2546 - acc: 0.9653 - val_loss: 0.2301 - val_acc: 0.9667\n",
      "Epoch 131/200\n",
      "1440/1440 [==============================] - 0s 328us/step - loss: 0.2774 - acc: 0.9458 - val_loss: 0.2428 - val_acc: 0.9639\n",
      "Epoch 132/200\n",
      "1440/1440 [==============================] - 0s 322us/step - loss: 0.2804 - acc: 0.9479 - val_loss: 0.2357 - val_acc: 0.9694\n",
      "Epoch 133/200\n",
      "1440/1440 [==============================] - 0s 333us/step - loss: 0.2569 - acc: 0.9569 - val_loss: 0.2342 - val_acc: 0.9694\n",
      "Epoch 134/200\n",
      "1440/1440 [==============================] - 0s 322us/step - loss: 0.2829 - acc: 0.9444 - val_loss: 0.2364 - val_acc: 0.9639\n",
      "Epoch 135/200\n",
      "1440/1440 [==============================] - 0s 328us/step - loss: 0.2594 - acc: 0.9549 - val_loss: 0.2345 - val_acc: 0.9667\n",
      "Epoch 136/200\n",
      "1440/1440 [==============================] - 0s 333us/step - loss: 0.2624 - acc: 0.9437 - val_loss: 0.2392 - val_acc: 0.9722\n",
      "Epoch 137/200\n",
      "1440/1440 [==============================] - 0s 333us/step - loss: 0.2503 - acc: 0.9583 - val_loss: 0.2246 - val_acc: 0.9778\n",
      "Epoch 138/200\n",
      "1440/1440 [==============================] - 0s 328us/step - loss: 0.2682 - acc: 0.9486 - val_loss: 0.2300 - val_acc: 0.9694\n",
      "Epoch 139/200\n",
      "1440/1440 [==============================] - 0s 333us/step - loss: 0.2699 - acc: 0.9493 - val_loss: 0.2273 - val_acc: 0.9694\n",
      "Epoch 140/200\n",
      "1440/1440 [==============================] - 0s 322us/step - loss: 0.2716 - acc: 0.9444 - val_loss: 0.2215 - val_acc: 0.9722\n",
      "Epoch 141/200\n",
      "1440/1440 [==============================] - 0s 333us/step - loss: 0.2678 - acc: 0.9472 - val_loss: 0.2229 - val_acc: 0.9667\n",
      "Epoch 142/200\n",
      "1440/1440 [==============================] - 0s 328us/step - loss: 0.2544 - acc: 0.9611 - val_loss: 0.2334 - val_acc: 0.9667\n",
      "Epoch 143/200\n",
      "1440/1440 [==============================] - 0s 328us/step - loss: 0.2577 - acc: 0.9542 - val_loss: 0.2217 - val_acc: 0.9778\n",
      "Epoch 144/200\n",
      "1440/1440 [==============================] - 0s 328us/step - loss: 0.2645 - acc: 0.9500 - val_loss: 0.2281 - val_acc: 0.9750\n",
      "Epoch 145/200\n",
      "1440/1440 [==============================] - 0s 322us/step - loss: 0.2553 - acc: 0.9542 - val_loss: 0.2315 - val_acc: 0.9639\n",
      "Epoch 146/200\n",
      "1440/1440 [==============================] - 0s 328us/step - loss: 0.2384 - acc: 0.9618 - val_loss: 0.2230 - val_acc: 0.9722\n",
      "Epoch 147/200\n",
      "1440/1440 [==============================] - 0s 317us/step - loss: 0.2490 - acc: 0.9556 - val_loss: 0.2233 - val_acc: 0.9694\n",
      "Epoch 148/200\n",
      "1440/1440 [==============================] - 0s 335us/step - loss: 0.2433 - acc: 0.9583 - val_loss: 0.2328 - val_acc: 0.9611\n",
      "Epoch 149/200\n",
      "1440/1440 [==============================] - 0s 322us/step - loss: 0.2581 - acc: 0.9514 - val_loss: 0.2217 - val_acc: 0.9750\n",
      "Epoch 150/200\n",
      "1440/1440 [==============================] - 0s 328us/step - loss: 0.2516 - acc: 0.9514 - val_loss: 0.2220 - val_acc: 0.9722\n",
      "Epoch 151/200\n",
      "1440/1440 [==============================] - 0s 328us/step - loss: 0.2624 - acc: 0.9465 - val_loss: 0.2203 - val_acc: 0.9750\n",
      "Epoch 152/200\n",
      "1440/1440 [==============================] - 0s 328us/step - loss: 0.2421 - acc: 0.9542 - val_loss: 0.2123 - val_acc: 0.9750\n",
      "Epoch 153/200\n",
      "1440/1440 [==============================] - 0s 328us/step - loss: 0.2569 - acc: 0.9493 - val_loss: 0.2060 - val_acc: 0.9806\n",
      "Epoch 154/200\n",
      "1440/1440 [==============================] - 0s 317us/step - loss: 0.2420 - acc: 0.9590 - val_loss: 0.2146 - val_acc: 0.9722\n",
      "Epoch 155/200\n",
      "1440/1440 [==============================] - 0s 317us/step - loss: 0.2442 - acc: 0.9576 - val_loss: 0.2148 - val_acc: 0.9694\n",
      "Epoch 156/200\n",
      "1440/1440 [==============================] - 0s 322us/step - loss: 0.2249 - acc: 0.9694 - val_loss: 0.2130 - val_acc: 0.9722\n",
      "Epoch 157/200\n",
      "1440/1440 [==============================] - 0s 317us/step - loss: 0.2467 - acc: 0.9535 - val_loss: 0.2068 - val_acc: 0.9750\n",
      "Epoch 158/200\n",
      "1440/1440 [==============================] - 0s 317us/step - loss: 0.2576 - acc: 0.9486 - val_loss: 0.2201 - val_acc: 0.9694\n",
      "Epoch 159/200\n",
      "1440/1440 [==============================] - 0s 311us/step - loss: 0.2289 - acc: 0.9604 - val_loss: 0.2119 - val_acc: 0.9778\n",
      "Epoch 160/200\n",
      "1440/1440 [==============================] - 0s 322us/step - loss: 0.2616 - acc: 0.9451 - val_loss: 0.2048 - val_acc: 0.9722\n",
      "Epoch 161/200\n",
      "1440/1440 [==============================] - 0s 322us/step - loss: 0.2416 - acc: 0.9549 - val_loss: 0.1980 - val_acc: 0.9778\n",
      "Epoch 162/200\n",
      "1440/1440 [==============================] - 0s 317us/step - loss: 0.2345 - acc: 0.9556 - val_loss: 0.2016 - val_acc: 0.9778\n",
      "Epoch 163/200\n",
      "1440/1440 [==============================] - 0s 328us/step - loss: 0.2279 - acc: 0.9611 - val_loss: 0.2102 - val_acc: 0.9750\n"
     ]
    },
    {
     "name": "stdout",
     "output_type": "stream",
     "text": [
      "Epoch 164/200\n",
      "1440/1440 [==============================] - 0s 322us/step - loss: 0.2179 - acc: 0.9639 - val_loss: 0.2022 - val_acc: 0.9778\n",
      "Epoch 165/200\n",
      "1440/1440 [==============================] - 0s 322us/step - loss: 0.2304 - acc: 0.9590 - val_loss: 0.1957 - val_acc: 0.9778\n",
      "Epoch 166/200\n",
      "1440/1440 [==============================] - 0s 317us/step - loss: 0.2401 - acc: 0.9576 - val_loss: 0.2024 - val_acc: 0.9778\n",
      "Epoch 167/200\n",
      "1440/1440 [==============================] - 0s 322us/step - loss: 0.2322 - acc: 0.9556 - val_loss: 0.1968 - val_acc: 0.9806\n",
      "Epoch 168/200\n",
      "1440/1440 [==============================] - 0s 317us/step - loss: 0.2312 - acc: 0.9556 - val_loss: 0.2107 - val_acc: 0.9722\n",
      "Epoch 169/200\n",
      "1440/1440 [==============================] - 0s 328us/step - loss: 0.2338 - acc: 0.9583 - val_loss: 0.2023 - val_acc: 0.9722\n",
      "Epoch 170/200\n",
      "1440/1440 [==============================] - 0s 322us/step - loss: 0.2205 - acc: 0.9639 - val_loss: 0.2158 - val_acc: 0.9694\n",
      "Epoch 171/200\n",
      "1440/1440 [==============================] - 0s 328us/step - loss: 0.2334 - acc: 0.9556 - val_loss: 0.1886 - val_acc: 0.9778\n",
      "Epoch 172/200\n",
      "1440/1440 [==============================] - 0s 322us/step - loss: 0.2166 - acc: 0.9618 - val_loss: 0.1894 - val_acc: 0.9778\n",
      "Epoch 173/200\n",
      "1440/1440 [==============================] - 0s 317us/step - loss: 0.2317 - acc: 0.9604 - val_loss: 0.1922 - val_acc: 0.9833\n",
      "Epoch 174/200\n",
      "1440/1440 [==============================] - 0s 322us/step - loss: 0.2311 - acc: 0.9590 - val_loss: 0.1927 - val_acc: 0.9778\n",
      "Epoch 175/200\n",
      "1440/1440 [==============================] - 0s 311us/step - loss: 0.2130 - acc: 0.9701 - val_loss: 0.1999 - val_acc: 0.9722\n",
      "Epoch 176/200\n",
      "1440/1440 [==============================] - 0s 328us/step - loss: 0.2111 - acc: 0.9632 - val_loss: 0.2034 - val_acc: 0.9722\n",
      "Epoch 177/200\n",
      "1440/1440 [==============================] - 0s 328us/step - loss: 0.2315 - acc: 0.9562 - val_loss: 0.1920 - val_acc: 0.9778\n",
      "Epoch 178/200\n",
      "1440/1440 [==============================] - 0s 344us/step - loss: 0.2278 - acc: 0.9604 - val_loss: 0.1907 - val_acc: 0.9750\n",
      "Epoch 179/200\n",
      "1440/1440 [==============================] - 0s 328us/step - loss: 0.2173 - acc: 0.9674 - val_loss: 0.1872 - val_acc: 0.9778\n",
      "Epoch 180/200\n",
      "1440/1440 [==============================] - 0s 339us/step - loss: 0.2235 - acc: 0.9639 - val_loss: 0.1934 - val_acc: 0.9750\n",
      "Epoch 181/200\n",
      "1440/1440 [==============================] - 0s 317us/step - loss: 0.2074 - acc: 0.9722 - val_loss: 0.1892 - val_acc: 0.9778\n",
      "Epoch 182/200\n",
      "1440/1440 [==============================] - 0s 322us/step - loss: 0.2222 - acc: 0.9576 - val_loss: 0.1903 - val_acc: 0.9778\n",
      "Epoch 183/200\n",
      "1440/1440 [==============================] - 0s 322us/step - loss: 0.2066 - acc: 0.9653 - val_loss: 0.1903 - val_acc: 0.9806\n",
      "Epoch 184/200\n",
      "1440/1440 [==============================] - 0s 322us/step - loss: 0.2230 - acc: 0.9625 - val_loss: 0.1917 - val_acc: 0.9778\n",
      "Epoch 185/200\n",
      "1440/1440 [==============================] - 0s 317us/step - loss: 0.2264 - acc: 0.9597 - val_loss: 0.1872 - val_acc: 0.9806\n",
      "Epoch 186/200\n",
      "1440/1440 [==============================] - 0s 333us/step - loss: 0.2161 - acc: 0.9597 - val_loss: 0.1809 - val_acc: 0.9778\n",
      "Epoch 187/200\n",
      "1440/1440 [==============================] - 0s 328us/step - loss: 0.2053 - acc: 0.9653 - val_loss: 0.1823 - val_acc: 0.9833\n",
      "Epoch 188/200\n",
      "1440/1440 [==============================] - 0s 339us/step - loss: 0.2152 - acc: 0.9569 - val_loss: 0.1815 - val_acc: 0.9833\n",
      "Epoch 189/200\n",
      "1440/1440 [==============================] - 0s 339us/step - loss: 0.2097 - acc: 0.9625 - val_loss: 0.1925 - val_acc: 0.9806\n",
      "Epoch 190/200\n",
      "1440/1440 [==============================] - 0s 339us/step - loss: 0.2042 - acc: 0.9722 - val_loss: 0.1891 - val_acc: 0.9778\n",
      "Epoch 191/200\n",
      "1440/1440 [==============================] - 0s 344us/step - loss: 0.2275 - acc: 0.9611 - val_loss: 0.1770 - val_acc: 0.9861\n",
      "Epoch 192/200\n",
      "1440/1440 [==============================] - 0s 339us/step - loss: 0.2085 - acc: 0.9618 - val_loss: 0.1771 - val_acc: 0.9806\n",
      "Epoch 193/200\n",
      "1440/1440 [==============================] - 1s 350us/step - loss: 0.2177 - acc: 0.9632 - val_loss: 0.1877 - val_acc: 0.9778\n",
      "Epoch 194/200\n",
      "1440/1440 [==============================] - 1s 370us/step - loss: 0.2024 - acc: 0.9694 - val_loss: 0.1704 - val_acc: 0.9861\n",
      "Epoch 195/200\n",
      "1440/1440 [==============================] - 1s 384us/step - loss: 0.2297 - acc: 0.9618 - val_loss: 0.1760 - val_acc: 0.9778\n",
      "Epoch 196/200\n",
      "1440/1440 [==============================] - 1s 379us/step - loss: 0.2157 - acc: 0.9639 - val_loss: 0.1834 - val_acc: 0.9778\n",
      "Epoch 197/200\n",
      "1440/1440 [==============================] - 1s 378us/step - loss: 0.2076 - acc: 0.9639 - val_loss: 0.1754 - val_acc: 0.9861\n",
      "Epoch 198/200\n",
      "1440/1440 [==============================] - 1s 373us/step - loss: 0.2082 - acc: 0.9611 - val_loss: 0.1770 - val_acc: 0.9778\n",
      "Epoch 199/200\n",
      "1440/1440 [==============================] - 0s 341us/step - loss: 0.1974 - acc: 0.9667 - val_loss: 0.1713 - val_acc: 0.9861\n",
      "Epoch 200/200\n",
      "1440/1440 [==============================] - 0s 330us/step - loss: 0.2083 - acc: 0.9667 - val_loss: 0.1835 - val_acc: 0.9778\n"
     ]
    }
   ],
   "source": [
    "# fit the model on the training data\n",
    "history=model.fit(X_train, Y_train_binary, validation_data=(X_val, Y_val_binary), epochs=200, batch_size=16)"
   ]
  },
  {
   "cell_type": "code",
   "execution_count": 11,
   "metadata": {},
   "outputs": [
    {
     "data": {
      "image/png": "[encoded data removed]",
      "text/plain": [
       "<Figure size 432x288 with 1 Axes>"
      ]
     },
     "metadata": {
      "needs_background": "light"
     },
     "output_type": "display_data"
    }
   ],
   "source": [
    "# Model Loss\n",
    "plt.plot(history.history['loss'])\n",
    "plt.plot(history.history['val_loss'])  \n",
    "plt.title('Model Loss')\n",
    "plt.ylabel('loss')\n",
    "plt.xlabel('epoch')\n",
    "plt.legend(['train', 'test'])\n",
    "plt.show()"
   ]
  },
  {
   "cell_type": "code",
   "execution_count": 12,
   "metadata": {},
   "outputs": [
    {
     "data": {
      "image/png": "[encoded data removed]",
      "text/plain": [
       "<Figure size 432x288 with 1 Axes>"
      ]
     },
     "metadata": {
      "needs_background": "light"
     },
     "output_type": "display_data"
    }
   ],
   "source": [
    "# Model accuracy\n",
    "plt.plot(history.history['acc'])\n",
    "plt.plot(history.history['val_acc'])\n",
    "plt.title('Model Accuracy')\n",
    "plt.ylabel('accuracy')\n",
    "plt.xlabel('epoch')\n",
    "plt.legend(['train', 'test'])\n",
    "plt.show()"
   ]
  },
  {
   "cell_type": "code",
   "execution_count": 13,
   "metadata": {},
   "outputs": [
    {
     "name": "stdout",
     "output_type": "stream",
     "text": [
      "Results for Model\n",
      "0.95\n",
      "classification report\n",
      "              precision    recall  f1-score   support\n",
      "\n",
      "           0       0.97      0.94      0.95        32\n",
      "           1       0.83      0.91      0.87        11\n",
      "           2       1.00      1.00      1.00         7\n",
      "           3       1.00      1.00      1.00         7\n",
      "           4       1.00      1.00      1.00         3\n",
      "\n",
      "    accuracy                           0.95        60\n",
      "   macro avg       0.96      0.97      0.96        60\n",
      "weighted avg       0.95      0.95      0.95        60\n",
      "\n"
     ]
    }
   ],
   "source": [
    "from sklearn.metrics import accuracy_score, classification_report\n",
    "# generate classification report using predictions for model\n",
    "y_pred = model.predict_classes(X_test)\n",
    "print('Results for Model')\n",
    "print(accuracy_score(y_test, y_pred))\n",
    "print('classification report')\n",
    "print(classification_report(y_test, y_pred))"
   ]
  },
  {
   "cell_type": "code",
   "execution_count": 14,
   "metadata": {},
   "outputs": [
    {
     "name": "stdout",
     "output_type": "stream",
     "text": [
      "[1 1 0 2 1 0 0 3 0 1 0 0 0 0 1 0 0 0 0 0 2 0 0 0 2 4 1 2 0 4 3 3 0 4 3 2 1\n",
      " 0 0 2 1 0 0 1 1 0 3 0 0 0 0 3 2 0 0 1 0 0 0 3]\n",
      "-----------------\n",
      "[1 1 0 2 1 0 0 3 0 1 0 0 0 0 1 0 0 0 0 0 2 0 0 0 2 4 1 2 1 4 3 3 0 4 3 2 1\n",
      " 1 0 2 0 0 0 1 1 0 3 0 0 0 0 3 2 0 0 1 0 0 0 3]\n"
     ]
    }
   ],
   "source": [
    "print(y_test)\n",
    "print('-----------------')\n",
    "print(y_pred)"
   ]
  },
  {
   "cell_type": "code",
   "execution_count": 15,
   "metadata": {},
   "outputs": [
    {
     "name": "stdout",
     "output_type": "stream",
     "text": [
      "Class=0, n=160 (8.889%)\n",
      "Class=2, n=35 (1.944%)\n",
      "Class=1, n=54 (3.000%)\n",
      "Class=3, n=35 (1.944%)\n",
      "Class=4, n=13 (0.722%)\n"
     ]
    },
    {
     "data": {
      "image/png": "[encoded data removed]",
      "text/plain": [
       "<Figure size 432x288 with 1 Axes>"
      ]
     },
     "metadata": {
      "needs_background": "light"
     },
     "output_type": "display_data"
    }
   ],
   "source": [
    "# samples num in each class before SMOTE\n",
    "from collections import Counter\n",
    "from matplotlib import pyplot\n",
    "counter = Counter(y1)\n",
    "for k,v in counter.items():\n",
    "    per = v / len(y) * 100\n",
    "    print('Class=%d, n=%d (%.3f%%)' % (k, v, per))\n",
    "# plot the distribution\n",
    "pyplot.bar(counter.keys(), counter.values())\n",
    "pyplot.show()"
   ]
  },
  {
   "cell_type": "code",
   "execution_count": 16,
   "metadata": {},
   "outputs": [
    {
     "name": "stdout",
     "output_type": "stream",
     "text": [
      "Class=0, n=500 (27.778%)\n",
      "Class=2, n=350 (19.444%)\n",
      "Class=1, n=400 (22.222%)\n",
      "Class=3, n=300 (16.667%)\n",
      "Class=4, n=250 (13.889%)\n"
     ]
    },
    {
     "data": {
      "image/png": "[encoded data removed]",
      "text/plain": [
       "<Figure size 432x288 with 1 Axes>"
      ]
     },
     "metadata": {
      "needs_background": "light"
     },
     "output_type": "display_data"
    }
   ],
   "source": [
    "# samples num in each class after applying SMOTE\n",
    "counter = Counter(y)\n",
    "for k,v in counter.items():\n",
    "    per = v / len(y) * 100\n",
    "    print('Class=%d, n=%d (%.3f%%)' % (k, v, per))\n",
    "# plot the distribution\n",
    "pyplot.bar(counter.keys(), counter.values())\n",
    "pyplot.show()"
   ]
  },
  {
   "cell_type": "code",
   "execution_count": null,
   "metadata": {},
   "outputs": [],
   "source": [
    "from keras.models import load_model\n",
    "model.save('heartD_model.h5')"
   ]
  },
  {
   "cell_type": "code",
   "execution_count": null,
   "metadata": {},
   "outputs": [],
   "source": [
    "from pickle import dump\n",
    "dump(scaler,open('scaler.pkl','wb'))"
   ]
  },
  {
   "cell_type": "code",
   "execution_count": null,
   "metadata": {},
   "outputs": [],
   "source": [
    "from keras.models import load_model\n",
    "from pickle import load\n",
    "import numpy as np\n",
    "model = load_model('heartD_model.h5')\n",
    "scaler = load(open('scaler.pkl','rb'))\n",
    "X_n1 = scaler.transform(np.array([['37', '1', '3', '130', '250', '0' ,'0', '187', '0', '3.5', '3', '0', '3']]))\n",
    "y_p = model.predict_classes(X_n1)\n",
    "print(y_p)"
   ]
  },
  {
   "cell_type": "code",
   "execution_count": null,
   "metadata": {},
   "outputs": [],
   "source": []
  }
 ],
 "metadata": {
  "kernelspec": {
   "display_name": "Python 3",
   "language": "python",
   "name": "python3"
  },
  "language_info": {
   "codemirror_mode": {
    "name": "ipython",
    "version": 3
   },
   "file_extension": ".py",
   "mimetype": "text/x-python",
   "name": "python",
   "nbconvert_exporter": "python",
   "pygments_lexer": "ipython3",
   "version": "3.7.9"
  }
 },
 "nbformat": 4,
 "nbformat_minor": 4
}

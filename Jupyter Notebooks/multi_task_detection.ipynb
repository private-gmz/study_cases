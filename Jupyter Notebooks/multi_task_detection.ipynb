{
  "cells": [
    {
      "cell_type": "markdown",
      "metadata": {
        "id": "jfDfYzrMH1Zv"
      },
      "source": [
        "**Overview:**\n",
        "\n",
        "This code builds a multi_task **(one)** model to predict (age, gender and race) using utkface dataset which is available on kaggle https://www.kaggle.com/datasets/jangedoo/utkface-new.\n",
        "The dataset containes approximately 20,000 images with three labels (age, gender and race).\n",
        "\n",
        "**Very important notice:**\n",
        "- The purpose of this notebook is to try (transfer learning, image generating, augmentation, one model with three branches for age, race and gender).\n",
        "- The model is a prototype trained only for 20 epochs and needs to be tuned. \n",
        "\n"
      ]
    },
    {
      "cell_type": "markdown",
      "source": [
        "# **Import Libraries**"
      ],
      "metadata": {
        "id": "0O6Bq80Yu5Kw"
      }
    },
    {
      "cell_type": "code",
      "execution_count": null,
      "metadata": {
        "id": "LrV5CV48Oky-"
      },
      "outputs": [],
      "source": [
        "#importig required libraries\n",
        "import numpy as np \n",
        "import pandas as pd\n",
        "import os\n",
        "import glob\n",
        "import pandas as pd\n",
        "import matplotlib.pyplot as plt\n",
        "import seaborn as sns\n",
        "from sklearn.utils import shuffle\n",
        "from keras.utils import to_categorical\n",
        "from PIL import Image\n",
        "from sklearn.preprocessing import MinMaxScaler, StandardScaler"
      ]
    },
    {
      "cell_type": "markdown",
      "source": [
        "# **Get data from kaggle**"
      ],
      "metadata": {
        "id": "fa1Y097_u-GM"
      }
    },
    {
      "cell_type": "code",
      "execution_count": null,
      "metadata": {
        "id": "yAWRRUZfuqVO"
      },
      "outputs": [],
      "source": [
        "#get the dataset from kaggle\n",
        "! pip install -q kaggle\n",
        "from google.colab import files\n",
        "files.upload()\n",
        "! mkdir ~/.kaggle\n",
        "! cp kaggle.json ~/.kaggle/\n",
        "! chmod 600 ~/.kaggle/kaggle.json\n",
        "! kaggle datasets download -d jangedoo/utkface-new\n",
        "! unzip utkface-new.zip -d utkface-new"
      ]
    },
    {
      "cell_type": "markdown",
      "source": [
        "# **Prepare the dataframe, and scale age column**"
      ],
      "metadata": {
        "id": "farwugmbva4d"
      }
    },
    {
      "cell_type": "code",
      "execution_count": null,
      "metadata": {
        "id": "Io_Ljlg6unhI"
      },
      "outputs": [],
      "source": [
        "#building a dictionary for labels (id : label_text)\n",
        "dataset_folder_name = 'utkface-new/UTKFace'\n",
        "IM_WIDTH = IM_HEIGHT = 198\n",
        "\n",
        "dataset_dict = {\n",
        "    'race_id': {\n",
        "        0: 'white', \n",
        "        1: 'black', \n",
        "        2: 'asian', \n",
        "        3: 'indian', \n",
        "        4: 'others'\n",
        "    },\n",
        "    'gender_id': {\n",
        "        0: 'male',\n",
        "        1: 'female'\n",
        "    }\n",
        "}\n",
        "\n",
        "dataset_dict['gender_alias'] = dict((g, i) for i, g in dataset_dict['gender_id'].items())\n",
        "dataset_dict['race_alias'] = dict((g, i) for i, g in dataset_dict['race_id'].items())"
      ]
    },
    {
      "cell_type": "code",
      "execution_count": null,
      "metadata": {
        "id": "8W3XSJhFunhK"
      },
      "outputs": [],
      "source": [
        "def parse_dataset(dataset_path, ext='jpg'):\n",
        "    \"\"\"\n",
        "    Used to extract information about our dataset. It does iterate over all images and return a DataFrame with\n",
        "    the data (age, gender and sex) of all files.\n",
        "    \"\"\"\n",
        "    def parse_info_from_file(path):\n",
        "        \"\"\"\n",
        "        Parse information from a single file\n",
        "        \"\"\"\n",
        "        try:\n",
        "            filename = os.path.split(path)[1]\n",
        "            filename = os.path.splitext(filename)[0]\n",
        "            age, gender, race, _ = filename.split('_')\n",
        "            return int(age), dataset_dict['gender_id'][int(gender)], dataset_dict['race_id'][int(race)]\n",
        "        except Exception as ex:\n",
        "            return None, None, None\n",
        "        \n",
        "    files = glob.glob(os.path.join(dataset_path, \"*.%s\" % ext))\n",
        "    \n",
        "    records = []\n",
        "    for file in files:\n",
        "        info = parse_info_from_file(file)\n",
        "        records.append(info)\n",
        "        \n",
        "    df = pd.DataFrame(records)\n",
        "    df['file'] = files\n",
        "    df.columns = ['age', 'gender', 'race', 'file']\n",
        "    df = df.dropna()\n",
        "    \n",
        "    return df"
      ]
    },
    {
      "cell_type": "code",
      "execution_count": null,
      "metadata": {
        "id": "_sICgbZRunhL"
      },
      "outputs": [],
      "source": [
        "from sklearn import preprocessing\n",
        "df = parse_dataset(dataset_folder_name)\n",
        "df['gender'] = df['gender'].map(lambda gender: dataset_dict['gender_alias'][gender])\n",
        "df['race'] = df['race'].map(lambda race: dataset_dict['race_alias'][race])"
      ]
    },
    {
      "cell_type": "code",
      "execution_count": null,
      "metadata": {
        "colab": {
          "base_uri": "https://localhost:8080/",
          "height": 204
        },
        "id": "Wz1PJZkXjQTs",
        "outputId": "ea71dac9-d9a1-4070-a263-391b4946f87b"
      },
      "outputs": [
        {
          "data": {
            "text/html": [
              "<div>\n",
              "<style scoped>\n",
              "    .dataframe tbody tr th:only-of-type {\n",
              "        vertical-align: middle;\n",
              "    }\n",
              "\n",
              "    .dataframe tbody tr th {\n",
              "        vertical-align: top;\n",
              "    }\n",
              "\n",
              "    .dataframe thead th {\n",
              "        text-align: right;\n",
              "    }\n",
              "</style>\n",
              "<table border=\"1\" class=\"dataframe\">\n",
              "  <thead>\n",
              "    <tr style=\"text-align: right;\">\n",
              "      <th></th>\n",
              "      <th>age</th>\n",
              "      <th>gender</th>\n",
              "      <th>race</th>\n",
              "      <th>file</th>\n",
              "    </tr>\n",
              "  </thead>\n",
              "  <tbody>\n",
              "    <tr>\n",
              "      <th>9684</th>\n",
              "      <td>0.095652</td>\n",
              "      <td>1</td>\n",
              "      <td>4</td>\n",
              "      <td>utkface-new/UTKFace/12_1_4_20170103200721583.j...</td>\n",
              "    </tr>\n",
              "    <tr>\n",
              "      <th>22913</th>\n",
              "      <td>0.660870</td>\n",
              "      <td>1</td>\n",
              "      <td>0</td>\n",
              "      <td>utkface-new/UTKFace/77_1_0_20170110160644117.j...</td>\n",
              "    </tr>\n",
              "    <tr>\n",
              "      <th>11557</th>\n",
              "      <td>0.382609</td>\n",
              "      <td>0</td>\n",
              "      <td>0</td>\n",
              "      <td>utkface-new/UTKFace/45_0_0_20170104172836234.j...</td>\n",
              "    </tr>\n",
              "    <tr>\n",
              "      <th>5999</th>\n",
              "      <td>0.269565</td>\n",
              "      <td>0</td>\n",
              "      <td>1</td>\n",
              "      <td>utkface-new/UTKFace/32_0_1_20170116002309943.j...</td>\n",
              "    </tr>\n",
              "    <tr>\n",
              "      <th>3913</th>\n",
              "      <td>0.704348</td>\n",
              "      <td>1</td>\n",
              "      <td>1</td>\n",
              "      <td>utkface-new/UTKFace/82_1_1_20170112224554283.j...</td>\n",
              "    </tr>\n",
              "  </tbody>\n",
              "</table>\n",
              "</div>"
            ],
            "text/plain": [
              "            age  ...                                               file\n",
              "9684   0.095652  ...  utkface-new/UTKFace/12_1_4_20170103200721583.j...\n",
              "22913  0.660870  ...  utkface-new/UTKFace/77_1_0_20170110160644117.j...\n",
              "11557  0.382609  ...  utkface-new/UTKFace/45_0_0_20170104172836234.j...\n",
              "5999   0.269565  ...  utkface-new/UTKFace/32_0_1_20170116002309943.j...\n",
              "3913   0.704348  ...  utkface-new/UTKFace/82_1_1_20170112224554283.j...\n",
              "\n",
              "[5 rows x 4 columns]"
            ]
          },
          "execution_count": 177,
          "metadata": {
            "tags": []
          },
          "output_type": "execute_result"
        }
      ],
      "source": [
        "#scaling age column\n",
        "x = df['age'].values.reshape(-1, 1)\n",
        "min_max_scaler = preprocessing.MinMaxScaler()\n",
        "min_max_scaler.fit(x)\n",
        "x_scaled = min_max_scaler.transform(x)\n",
        "df['age'] = x_scaled\n",
        "df = shuffle(df)\n",
        "df.head()"
      ]
    },
    {
      "cell_type": "markdown",
      "source": [
        "# **Altering built-in image generator to fit the multi-label task**"
      ],
      "metadata": {
        "id": "COzvqPejvzKd"
      }
    },
    {
      "cell_type": "code",
      "execution_count": null,
      "metadata": {
        "id": "k-qWEjWvunhR"
      },
      "outputs": [],
      "source": [
        "from tensorflow.keras.preprocessing.image import ImageDataGenerator\n",
        "columns=[\"age\", \"gender\",\"race\"]\n",
        "dataGen = ImageDataGenerator(rescale = 1./255,\n",
        "                                  shear_range = 0.2,\n",
        "                                  zoom_range = 0.2,\n",
        "                                  vertical_flip=True,\n",
        "                                  rotation_range=180,\n",
        "                                  horizontal_flip = True,\n",
        "                                  validation_split=0.2)\n",
        "def generate_data_generator(generator, data,columns, data_type, toshuffle=True, tobreak=False, batchSize=32):\n",
        "    generate = generator.flow_from_dataframe(dataframe = data,\n",
        "                                        directory=\"\",x_col=\"file\",\n",
        "                                        y_col=columns,\n",
        "                                        subset=data_type,\n",
        "                                        class_mode=\"raw\",\n",
        "                                        target_size = (198,198),\n",
        "                                        batch_size = batchSize,\n",
        "                                        shuffle = toshuffle)\n",
        "    i=0\n",
        "    while True:\n",
        "        X,Y = next(generate)\n",
        "        yield X, [Y[:,0], Y[:,1],Y[:,2]]\n",
        "        i = i + 1\n",
        "        if(tobreak == True and i == len(data)):\n",
        "          break;\n",
        "             "
      ]
    },
    {
      "cell_type": "markdown",
      "source": [
        "# **Build the CNN model**"
      ],
      "metadata": {
        "id": "JO1TzK51wbz9"
      }
    },
    {
      "cell_type": "markdown",
      "source": [
        "**The model is based on VGG16 pretrained model with one layer above (each layer is a branch for one task)**"
      ],
      "metadata": {
        "id": "KEsr2pcdwnNk"
      }
    },
    {
      "cell_type": "code",
      "execution_count": null,
      "metadata": {
        "id": "lT7_3IMfunhT"
      },
      "outputs": [],
      "source": [
        "from keras.models import Model\n",
        "from keras.layers.normalization import BatchNormalization\n",
        "from keras.layers.convolutional import Conv2D\n",
        "from keras.layers.convolutional import MaxPooling2D\n",
        "from keras.layers.core import Activation\n",
        "from keras.layers.core import Dropout\n",
        "from keras.layers.core import Lambda\n",
        "from keras.layers.core import Dense\n",
        "from keras.layers import Flatten\n",
        "from keras.layers import Input\n",
        "import tensorflow as tf\n",
        "\n",
        "class MultiModel():\n",
        "\n",
        "    def race_part(self,bottom_model, num_races, D=128):\n",
        "        top_model = bottom_model.output\n",
        "        top_model = Flatten()(top_model)\n",
        "        top_model = Dense(D, activation = \"relu\")(top_model)\n",
        "        top_model = BatchNormalization()(top_model)\n",
        "        top_model = Dropout(0.5)(top_model)\n",
        "        top_model = Dense(num_races, activation = \"softmax\", name=\"race_output\")(top_model)\n",
        "        return top_model\n",
        "    \n",
        "    def gender_part(self,bottom_model, num_genders=2, D=128):\n",
        "        top_model = bottom_model.output\n",
        "        top_model = Flatten()(top_model)\n",
        "        top_model = Dense(D, activation = \"relu\")(top_model)\n",
        "        top_model = BatchNormalization()(top_model)\n",
        "        top_model = Dropout(0.5)(top_model)\n",
        "        top_model = Dense(1, activation = \"sigmoid\", name=\"gender_output\")(top_model)\n",
        "        return top_model\n",
        "\n",
        "    def age_part(self,bottom_model, D=128):\n",
        "        top_model = bottom_model.output\n",
        "        top_model = Flatten()(top_model)\n",
        "        top_model = Dense(D, activation = \"relu\")(top_model)\n",
        "        top_model = BatchNormalization()(top_model)\n",
        "        top_model = Dropout(0.5)(top_model)\n",
        "        top_model = Dense(1, activation = \"linear\", name=\"age_output\")(top_model)\n",
        "        return top_model\n",
        "\n",
        "\n",
        "    def full_model(self, width, height, num_races):\n",
        "\n",
        "        input_shape = (height, width, 3)\n",
        "        inputs = Input(shape=input_shape)\n",
        "        from keras.applications import VGG16\n",
        "        img_rows, img_cols = IM_WIDTH, IM_HEIGHT \n",
        "        model1 = VGG16(weights='imagenet', include_top = False, input_shape=(img_rows,img_cols,3))\n",
        "        for layer in model1.layers:\n",
        "            layer.trainable = False\n",
        "        age = self.age_part(model1)\n",
        "        race = self.race_part(model1,num_races)\n",
        "        gender = self.gender_part(model1)\n",
        "\n",
        "        model = Model(inputs=model1.input,\n",
        "                     outputs = [age, gender,race])\n",
        "\n",
        "        return model\n",
        "    \n",
        "model = MultiModel().full_model(IM_WIDTH, IM_HEIGHT, num_races=len(dataset_dict['race_alias']))"
      ]
    },
    {
      "cell_type": "markdown",
      "source": [
        "# **Train the model**"
      ],
      "metadata": {
        "id": "VP1pEO0xxpb1"
      }
    },
    {
      "cell_type": "markdown",
      "source": [
        "**loss_weights can be tuned to prioritize one branch over others**"
      ],
      "metadata": {
        "id": "CbcJqrVVxz63"
      }
    },
    {
      "cell_type": "code",
      "execution_count": null,
      "metadata": {
        "id": "O_b5uVQeunhX"
      },
      "outputs": [],
      "source": [
        "from keras.optimizers import Adam\n",
        "\n",
        "init_lr = 0.007\n",
        "epochs = 20\n",
        "\n",
        "opt = Adam(lr=init_lr, decay=init_lr / epochs)\n",
        "\n",
        "model.compile(optimizer=opt, \n",
        "              loss={\n",
        "                  'age_output': 'mse',\n",
        "                  'gender_output': 'binary_crossentropy', \n",
        "                  'race_output': 'sparse_categorical_crossentropy', \n",
        "                  },\n",
        "              loss_weights={\n",
        "                  'age_output': 4., \n",
        "                  'gender_output': 3.,\n",
        "                  'race_output': 3., \n",
        "                  },\n",
        "              metrics={\n",
        "                  'age_output': 'mae', \n",
        "                  'gender_output': 'accuracy',\n",
        "                  'race_output': 'sparse_categorical_accuracy',\n",
        "                  })"
      ]
    },
    {
      "cell_type": "code",
      "execution_count": null,
      "metadata": {
        "colab": {
          "base_uri": "https://localhost:8080/"
        },
        "id": "RWB2EYO1unhY",
        "outputId": "46a6612c-aec4-4b19-e026-42e4d61ce4e5",
        "scrolled": true
      },
      "outputs": [
        {
          "name": "stderr",
          "output_type": "stream",
          "text": [
            "/usr/local/lib/python3.7/dist-packages/tensorflow/python/keras/engine/training.py:1844: UserWarning:\n",
            "\n",
            "`Model.fit_generator` is deprecated and will be removed in a future version. Please use `Model.fit`, which supports generators.\n",
            "\n"
          ]
        },
        {
          "name": "stdout",
          "output_type": "stream",
          "text": [
            "Found 18964 validated image filenames.\n",
            "Epoch 1/20\n",
            "362/362 [==============================] - ETA: 0s - loss: 6.8366 - age_output_loss: 0.3559 - gender_output_loss: 0.4988 - race_output_loss: 1.3055 - age_output_mae: 0.3307 - gender_output_accuracy: 0.7740 - race_output_sparse_categorical_accuracy: 0.5164Found 4741 validated image filenames.\n",
            "362/362 [==============================] - 197s 538ms/step - loss: 6.8317 - age_output_loss: 0.3552 - gender_output_loss: 0.4986 - race_output_loss: 1.3050 - age_output_mae: 0.3303 - gender_output_accuracy: 0.7741 - race_output_sparse_categorical_accuracy: 0.5166 - val_loss: 4.1676 - val_age_output_loss: 0.0150 - val_gender_output_loss: 0.4586 - val_race_output_loss: 0.9107 - val_age_output_mae: 0.0953 - val_gender_output_accuracy: 0.7928 - val_race_output_sparse_categorical_accuracy: 0.6581\n",
            "Epoch 2/20\n",
            "362/362 [==============================] - 193s 533ms/step - loss: 4.0468 - age_output_loss: 0.0200 - gender_output_loss: 0.3599 - race_output_loss: 0.9625 - age_output_mae: 0.1096 - gender_output_accuracy: 0.8444 - race_output_sparse_categorical_accuracy: 0.6417 - val_loss: 3.5548 - val_age_output_loss: 0.0124 - val_gender_output_loss: 0.3263 - val_race_output_loss: 0.8421 - val_age_output_mae: 0.0853 - val_gender_output_accuracy: 0.8546 - val_race_output_sparse_categorical_accuracy: 0.6926\n",
            "Epoch 3/20\n",
            "362/362 [==============================] - 192s 532ms/step - loss: 3.7537 - age_output_loss: 0.0173 - gender_output_loss: 0.3406 - race_output_loss: 0.8875 - age_output_mae: 0.1020 - gender_output_accuracy: 0.8547 - race_output_sparse_categorical_accuracy: 0.6828 - val_loss: 3.6117 - val_age_output_loss: 0.0128 - val_gender_output_loss: 0.3298 - val_race_output_loss: 0.8570 - val_age_output_mae: 0.0876 - val_gender_output_accuracy: 0.8559 - val_race_output_sparse_categorical_accuracy: 0.6853\n",
            "Epoch 4/20\n",
            "362/362 [==============================] - 191s 529ms/step - loss: 3.6099 - age_output_loss: 0.0159 - gender_output_loss: 0.3246 - race_output_loss: 0.8575 - age_output_mae: 0.0982 - gender_output_accuracy: 0.8608 - race_output_sparse_categorical_accuracy: 0.6896 - val_loss: 3.6419 - val_age_output_loss: 0.0129 - val_gender_output_loss: 0.4127 - val_race_output_loss: 0.7840 - val_age_output_mae: 0.0885 - val_gender_output_accuracy: 0.8204 - val_race_output_sparse_categorical_accuracy: 0.7167\n",
            "Epoch 5/20\n",
            "362/362 [==============================] - 191s 529ms/step - loss: 3.4793 - age_output_loss: 0.0146 - gender_output_loss: 0.3155 - race_output_loss: 0.8248 - age_output_mae: 0.0940 - gender_output_accuracy: 0.8634 - race_output_sparse_categorical_accuracy: 0.7063 - val_loss: 3.3376 - val_age_output_loss: 0.0126 - val_gender_output_loss: 0.3111 - val_race_output_loss: 0.7847 - val_age_output_mae: 0.0847 - val_gender_output_accuracy: 0.8693 - val_race_output_sparse_categorical_accuracy: 0.7216\n",
            "Epoch 6/20\n",
            "362/362 [==============================] - 192s 532ms/step - loss: 3.3399 - age_output_loss: 0.0138 - gender_output_loss: 0.3070 - race_output_loss: 0.7878 - age_output_mae: 0.0912 - gender_output_accuracy: 0.8684 - race_output_sparse_categorical_accuracy: 0.7165 - val_loss: 3.1981 - val_age_output_loss: 0.0119 - val_gender_output_loss: 0.2914 - val_race_output_loss: 0.7587 - val_age_output_mae: 0.0829 - val_gender_output_accuracy: 0.8701 - val_race_output_sparse_categorical_accuracy: 0.7260\n",
            "Epoch 7/20\n",
            "362/362 [==============================] - 194s 537ms/step - loss: 3.3085 - age_output_loss: 0.0133 - gender_output_loss: 0.3074 - race_output_loss: 0.7777 - age_output_mae: 0.0897 - gender_output_accuracy: 0.8725 - race_output_sparse_categorical_accuracy: 0.7249 - val_loss: 3.3486 - val_age_output_loss: 0.0099 - val_gender_output_loss: 0.3118 - val_race_output_loss: 0.7913 - val_age_output_mae: 0.0757 - val_gender_output_accuracy: 0.8617 - val_race_output_sparse_categorical_accuracy: 0.7251\n",
            "Epoch 8/20\n",
            "362/362 [==============================] - 194s 537ms/step - loss: 3.1867 - age_output_loss: 0.0124 - gender_output_loss: 0.2924 - race_output_loss: 0.7533 - age_output_mae: 0.0871 - gender_output_accuracy: 0.8766 - race_output_sparse_categorical_accuracy: 0.7278 - val_loss: 3.1202 - val_age_output_loss: 0.0104 - val_gender_output_loss: 0.3070 - val_race_output_loss: 0.7192 - val_age_output_mae: 0.0771 - val_gender_output_accuracy: 0.8668 - val_race_output_sparse_categorical_accuracy: 0.7425\n",
            "Epoch 9/20\n",
            "362/362 [==============================] - 195s 540ms/step - loss: 3.1534 - age_output_loss: 0.0129 - gender_output_loss: 0.2893 - race_output_loss: 0.7446 - age_output_mae: 0.0882 - gender_output_accuracy: 0.8776 - race_output_sparse_categorical_accuracy: 0.7319 - val_loss: 3.2350 - val_age_output_loss: 0.0114 - val_gender_output_loss: 0.2986 - val_race_output_loss: 0.7645 - val_age_output_mae: 0.0791 - val_gender_output_accuracy: 0.8726 - val_race_output_sparse_categorical_accuracy: 0.7352\n",
            "Epoch 10/20\n",
            "362/362 [==============================] - 195s 539ms/step - loss: 3.1415 - age_output_loss: 0.0125 - gender_output_loss: 0.2840 - race_output_loss: 0.7465 - age_output_mae: 0.0870 - gender_output_accuracy: 0.8829 - race_output_sparse_categorical_accuracy: 0.7342 - val_loss: 3.1000 - val_age_output_loss: 0.0093 - val_gender_output_loss: 0.3059 - val_race_output_loss: 0.7151 - val_age_output_mae: 0.0736 - val_gender_output_accuracy: 0.8705 - val_race_output_sparse_categorical_accuracy: 0.7410\n",
            "Epoch 11/20\n",
            "362/362 [==============================] - 193s 535ms/step - loss: 3.0565 - age_output_loss: 0.0119 - gender_output_loss: 0.2807 - race_output_loss: 0.7223 - age_output_mae: 0.0846 - gender_output_accuracy: 0.8862 - race_output_sparse_categorical_accuracy: 0.7378 - val_loss: 3.1498 - val_age_output_loss: 0.0095 - val_gender_output_loss: 0.2915 - val_race_output_loss: 0.7458 - val_age_output_mae: 0.0750 - val_gender_output_accuracy: 0.8766 - val_race_output_sparse_categorical_accuracy: 0.7341\n",
            "Epoch 12/20\n",
            "362/362 [==============================] - 193s 533ms/step - loss: 2.9960 - age_output_loss: 0.0118 - gender_output_loss: 0.2806 - race_output_loss: 0.7023 - age_output_mae: 0.0843 - gender_output_accuracy: 0.8831 - race_output_sparse_categorical_accuracy: 0.7570 - val_loss: 2.9704 - val_age_output_loss: 0.0097 - val_gender_output_loss: 0.2790 - val_race_output_loss: 0.6982 - val_age_output_mae: 0.0752 - val_gender_output_accuracy: 0.8833 - val_race_output_sparse_categorical_accuracy: 0.7519\n",
            "Epoch 13/20\n",
            "362/362 [==============================] - 196s 541ms/step - loss: 2.9275 - age_output_loss: 0.0113 - gender_output_loss: 0.2763 - race_output_loss: 0.6844 - age_output_mae: 0.0824 - gender_output_accuracy: 0.8874 - race_output_sparse_categorical_accuracy: 0.7550 - val_loss: 3.0699 - val_age_output_loss: 0.0090 - val_gender_output_loss: 0.2798 - val_race_output_loss: 0.7315 - val_age_output_mae: 0.0721 - val_gender_output_accuracy: 0.8791 - val_race_output_sparse_categorical_accuracy: 0.7362\n",
            "Epoch 14/20\n",
            "362/362 [==============================] - 195s 541ms/step - loss: 2.9420 - age_output_loss: 0.0112 - gender_output_loss: 0.2574 - race_output_loss: 0.7083 - age_output_mae: 0.0817 - gender_output_accuracy: 0.8952 - race_output_sparse_categorical_accuracy: 0.7483 - val_loss: 2.9415 - val_age_output_loss: 0.0103 - val_gender_output_loss: 0.2730 - val_race_output_loss: 0.6937 - val_age_output_mae: 0.0777 - val_gender_output_accuracy: 0.8871 - val_race_output_sparse_categorical_accuracy: 0.7547\n",
            "Epoch 15/20\n",
            "362/362 [==============================] - 195s 539ms/step - loss: 2.8833 - age_output_loss: 0.0114 - gender_output_loss: 0.2774 - race_output_loss: 0.6684 - age_output_mae: 0.0815 - gender_output_accuracy: 0.8825 - race_output_sparse_categorical_accuracy: 0.7586 - val_loss: 2.9620 - val_age_output_loss: 0.0090 - val_gender_output_loss: 0.2803 - val_race_output_loss: 0.6951 - val_age_output_mae: 0.0735 - val_gender_output_accuracy: 0.8839 - val_race_output_sparse_categorical_accuracy: 0.7565\n",
            "Epoch 16/20\n",
            "362/362 [==============================] - 195s 539ms/step - loss: 2.8665 - age_output_loss: 0.0110 - gender_output_loss: 0.2699 - race_output_loss: 0.6710 - age_output_mae: 0.0807 - gender_output_accuracy: 0.8904 - race_output_sparse_categorical_accuracy: 0.7689 - val_loss: 3.0037 - val_age_output_loss: 0.0089 - val_gender_output_loss: 0.2865 - val_race_output_loss: 0.7029 - val_age_output_mae: 0.0707 - val_gender_output_accuracy: 0.8772 - val_race_output_sparse_categorical_accuracy: 0.7568\n",
            "Epoch 17/20\n",
            "362/362 [==============================] - 195s 541ms/step - loss: 2.8391 - age_output_loss: 0.0108 - gender_output_loss: 0.2721 - race_output_loss: 0.6598 - age_output_mae: 0.0815 - gender_output_accuracy: 0.8895 - race_output_sparse_categorical_accuracy: 0.7651 - val_loss: 3.1476 - val_age_output_loss: 0.0087 - val_gender_output_loss: 0.2865 - val_race_output_loss: 0.7511 - val_age_output_mae: 0.0703 - val_gender_output_accuracy: 0.8747 - val_race_output_sparse_categorical_accuracy: 0.7316\n",
            "Epoch 18/20\n",
            "362/362 [==============================] - 195s 539ms/step - loss: 2.8319 - age_output_loss: 0.0104 - gender_output_loss: 0.2675 - race_output_loss: 0.6626 - age_output_mae: 0.0788 - gender_output_accuracy: 0.8905 - race_output_sparse_categorical_accuracy: 0.7715 - val_loss: 3.0711 - val_age_output_loss: 0.0088 - val_gender_output_loss: 0.2732 - val_race_output_loss: 0.7388 - val_age_output_mae: 0.0712 - val_gender_output_accuracy: 0.8869 - val_race_output_sparse_categorical_accuracy: 0.7433\n",
            "Epoch 19/20\n",
            "362/362 [==============================] - 195s 539ms/step - loss: 2.7609 - age_output_loss: 0.0104 - gender_output_loss: 0.2617 - race_output_loss: 0.6448 - age_output_mae: 0.0789 - gender_output_accuracy: 0.8960 - race_output_sparse_categorical_accuracy: 0.7689 - val_loss: 3.1131 - val_age_output_loss: 0.0090 - val_gender_output_loss: 0.2953 - val_race_output_loss: 0.7304 - val_age_output_mae: 0.0716 - val_gender_output_accuracy: 0.8749 - val_race_output_sparse_categorical_accuracy: 0.7454\n",
            "Epoch 20/20\n",
            "362/362 [==============================] - 195s 540ms/step - loss: 2.7971 - age_output_loss: 0.0102 - gender_output_loss: 0.2602 - race_output_loss: 0.6586 - age_output_mae: 0.0777 - gender_output_accuracy: 0.8933 - race_output_sparse_categorical_accuracy: 0.7661 - val_loss: 3.1355 - val_age_output_loss: 0.0095 - val_gender_output_loss: 0.2999 - val_race_output_loss: 0.7327 - val_age_output_mae: 0.0724 - val_gender_output_accuracy: 0.8793 - val_race_output_sparse_categorical_accuracy: 0.7417\n"
          ]
        }
      ],
      "source": [
        "from keras.callbacks import ModelCheckpoint\n",
        "\n",
        "checkpointer = ModelCheckpoint(\n",
        "    filepath='multi_model.hdf5'\n",
        "    , save_best_only=True\n",
        "    , mode = 'auto'\n",
        ")\n",
        "\n",
        "history = model.fit_generator(generate_data_generator(dataGen, df, columns, 'training'),\n",
        "                              epochs=epochs,\n",
        "                              steps_per_epoch=362,\n",
        "                              validation_data=generate_data_generator(dataGen, df, columns, 'validation'),\n",
        "                              validation_steps=150,\n",
        "                              callbacks=checkpointer)"
      ]
    },
    {
      "cell_type": "markdown",
      "source": [
        "# **Plot accuracy and error**"
      ],
      "metadata": {
        "id": "RZOk2IvgyNSm"
      }
    },
    {
      "cell_type": "code",
      "execution_count": null,
      "metadata": {
        "colab": {
          "base_uri": "https://localhost:8080/",
          "height": 484
        },
        "id": "QQo-BUQQunhZ",
        "outputId": "a426027f-4b58-4568-bdca-3f47405c4fbd"
      },
      "outputs": [
        {
          "data": {
            "text/html": [
              "<html>\n",
              "<head><meta charset=\"utf-8\" /></head>\n",
              "<body>\n",
              "    <div>\n",
              "            <script src=\"https://cdnjs.cloudflare.com/ajax/libs/mathjax/2.7.5/MathJax.js?config=TeX-AMS-MML_SVG\"></script><script type=\"text/javascript\">if (window.MathJax) {MathJax.Hub.Config({SVG: {font: \"STIX-Web\"}});}</script>\n",
              "                <script type=\"text/javascript\">window.PlotlyConfig = {MathJaxConfig: 'local'};</script>\n",
              "        <script src=\"https://cdn.plot.ly/plotly-latest.min.js\"></script>    \n",
              "            <div id=\"478d5a84-76a7-4867-a0fe-c6c785fe0ddd\" class=\"plotly-graph-div\" style=\"height:450px; width:600px;\"></div>\n",
              "            <script type=\"text/javascript\">\n",
              "                \n",
              "                    window.PLOTLYENV=window.PLOTLYENV || {};\n",
              "                    \n",
              "                if (document.getElementById(\"478d5a84-76a7-4867-a0fe-c6c785fe0ddd\")) {\n",
              "                    Plotly.newPlot(\n",
              "                        '478d5a84-76a7-4867-a0fe-c6c785fe0ddd',\n",
              "                        [{\"name\": \"Train\", \"type\": \"scatter\", \"y\": [0.5812327265739441, 0.6552886366844177, 0.6862050890922546, 0.7041133642196655, 0.7063601613044739, 0.7159875631332397, 0.7279640436172485, 0.7211671471595764, 0.7375561594963074, 0.7416176795959473, 0.7396408915519714, 0.751469075679779, 0.750863254070282, 0.7565675973892212, 0.7608019113540649, 0.7615676522254944, 0.7683200836181641, 0.768473744392395, 0.769961953163147, 0.7665917873382568]}, {\"name\": \"Valid\", \"type\": \"scatter\", \"y\": [0.6580767035484314, 0.6926461458206177, 0.6853132247924805, 0.7167400121688843, 0.7215587496757507, 0.725958526134491, 0.725120484828949, 0.7425099611282349, 0.7351770401000977, 0.7410433888435364, 0.7341294884681702, 0.751937985420227, 0.7362245917320251, 0.7546616196632385, 0.7565472722053528, 0.7567567825317383, 0.7316153645515442, 0.7433480024337769, 0.7454431056976318, 0.7416719198226929]}],\n",
              "                        {\"height\": 450, \"template\": {\"data\": {\"bar\": [{\"error_x\": {\"color\": \"#2a3f5f\"}, \"error_y\": {\"color\": \"#2a3f5f\"}, \"marker\": {\"line\": {\"color\": \"#E5ECF6\", \"width\": 0.5}}, \"type\": \"bar\"}], \"barpolar\": [{\"marker\": {\"line\": {\"color\": \"#E5ECF6\", \"width\": 0.5}}, \"type\": \"barpolar\"}], \"carpet\": [{\"aaxis\": {\"endlinecolor\": \"#2a3f5f\", \"gridcolor\": \"white\", \"linecolor\": \"white\", \"minorgridcolor\": \"white\", \"startlinecolor\": \"#2a3f5f\"}, \"baxis\": {\"endlinecolor\": \"#2a3f5f\", \"gridcolor\": \"white\", \"linecolor\": \"white\", \"minorgridcolor\": \"white\", \"startlinecolor\": \"#2a3f5f\"}, \"type\": \"carpet\"}], \"choropleth\": [{\"colorbar\": {\"outlinewidth\": 0, \"ticks\": \"\"}, \"type\": \"choropleth\"}], \"contour\": [{\"colorbar\": {\"outlinewidth\": 0, \"ticks\": \"\"}, \"colorscale\": [[0.0, \"#0d0887\"], [0.1111111111111111, \"#46039f\"], [0.2222222222222222, \"#7201a8\"], [0.3333333333333333, \"#9c179e\"], [0.4444444444444444, \"#bd3786\"], [0.5555555555555556, \"#d8576b\"], [0.6666666666666666, \"#ed7953\"], [0.7777777777777778, \"#fb9f3a\"], [0.8888888888888888, \"#fdca26\"], [1.0, \"#f0f921\"]], \"type\": \"contour\"}], \"contourcarpet\": [{\"colorbar\": {\"outlinewidth\": 0, \"ticks\": \"\"}, \"type\": \"contourcarpet\"}], \"heatmap\": [{\"colorbar\": {\"outlinewidth\": 0, \"ticks\": \"\"}, \"colorscale\": [[0.0, \"#0d0887\"], [0.1111111111111111, \"#46039f\"], [0.2222222222222222, \"#7201a8\"], [0.3333333333333333, \"#9c179e\"], [0.4444444444444444, \"#bd3786\"], [0.5555555555555556, \"#d8576b\"], [0.6666666666666666, \"#ed7953\"], [0.7777777777777778, \"#fb9f3a\"], [0.8888888888888888, \"#fdca26\"], [1.0, \"#f0f921\"]], \"type\": \"heatmap\"}], \"heatmapgl\": [{\"colorbar\": {\"outlinewidth\": 0, \"ticks\": \"\"}, \"colorscale\": [[0.0, \"#0d0887\"], [0.1111111111111111, \"#46039f\"], [0.2222222222222222, \"#7201a8\"], [0.3333333333333333, \"#9c179e\"], [0.4444444444444444, \"#bd3786\"], [0.5555555555555556, \"#d8576b\"], [0.6666666666666666, \"#ed7953\"], [0.7777777777777778, \"#fb9f3a\"], [0.8888888888888888, \"#fdca26\"], [1.0, \"#f0f921\"]], \"type\": \"heatmapgl\"}], \"histogram\": [{\"marker\": {\"colorbar\": {\"outlinewidth\": 0, \"ticks\": \"\"}}, \"type\": \"histogram\"}], \"histogram2d\": [{\"colorbar\": {\"outlinewidth\": 0, \"ticks\": \"\"}, \"colorscale\": [[0.0, \"#0d0887\"], [0.1111111111111111, \"#46039f\"], [0.2222222222222222, \"#7201a8\"], [0.3333333333333333, \"#9c179e\"], [0.4444444444444444, \"#bd3786\"], [0.5555555555555556, \"#d8576b\"], [0.6666666666666666, \"#ed7953\"], [0.7777777777777778, \"#fb9f3a\"], [0.8888888888888888, \"#fdca26\"], [1.0, \"#f0f921\"]], \"type\": \"histogram2d\"}], \"histogram2dcontour\": [{\"colorbar\": {\"outlinewidth\": 0, \"ticks\": \"\"}, \"colorscale\": [[0.0, \"#0d0887\"], [0.1111111111111111, \"#46039f\"], [0.2222222222222222, \"#7201a8\"], [0.3333333333333333, \"#9c179e\"], [0.4444444444444444, \"#bd3786\"], [0.5555555555555556, \"#d8576b\"], [0.6666666666666666, \"#ed7953\"], [0.7777777777777778, \"#fb9f3a\"], [0.8888888888888888, \"#fdca26\"], [1.0, \"#f0f921\"]], \"type\": \"histogram2dcontour\"}], \"mesh3d\": [{\"colorbar\": {\"outlinewidth\": 0, \"ticks\": \"\"}, \"type\": \"mesh3d\"}], \"parcoords\": [{\"line\": {\"colorbar\": {\"outlinewidth\": 0, \"ticks\": \"\"}}, \"type\": \"parcoords\"}], \"pie\": [{\"automargin\": true, \"type\": \"pie\"}], \"scatter\": [{\"marker\": {\"colorbar\": {\"outlinewidth\": 0, \"ticks\": \"\"}}, \"type\": \"scatter\"}], \"scatter3d\": [{\"line\": {\"colorbar\": {\"outlinewidth\": 0, \"ticks\": \"\"}}, \"marker\": {\"colorbar\": {\"outlinewidth\": 0, \"ticks\": \"\"}}, \"type\": \"scatter3d\"}], \"scattercarpet\": [{\"marker\": {\"colorbar\": {\"outlinewidth\": 0, \"ticks\": \"\"}}, \"type\": \"scattercarpet\"}], \"scattergeo\": [{\"marker\": {\"colorbar\": {\"outlinewidth\": 0, \"ticks\": \"\"}}, \"type\": \"scattergeo\"}], \"scattergl\": [{\"marker\": {\"colorbar\": {\"outlinewidth\": 0, \"ticks\": \"\"}}, \"type\": \"scattergl\"}], \"scattermapbox\": [{\"marker\": {\"colorbar\": {\"outlinewidth\": 0, \"ticks\": \"\"}}, \"type\": \"scattermapbox\"}], \"scatterpolar\": [{\"marker\": {\"colorbar\": {\"outlinewidth\": 0, \"ticks\": \"\"}}, \"type\": \"scatterpolar\"}], \"scatterpolargl\": [{\"marker\": {\"colorbar\": {\"outlinewidth\": 0, \"ticks\": \"\"}}, \"type\": \"scatterpolargl\"}], \"scatterternary\": [{\"marker\": {\"colorbar\": {\"outlinewidth\": 0, \"ticks\": \"\"}}, \"type\": \"scatterternary\"}], \"surface\": [{\"colorbar\": {\"outlinewidth\": 0, \"ticks\": \"\"}, \"colorscale\": [[0.0, \"#0d0887\"], [0.1111111111111111, \"#46039f\"], [0.2222222222222222, \"#7201a8\"], [0.3333333333333333, \"#9c179e\"], [0.4444444444444444, \"#bd3786\"], [0.5555555555555556, \"#d8576b\"], [0.6666666666666666, \"#ed7953\"], [0.7777777777777778, \"#fb9f3a\"], [0.8888888888888888, \"#fdca26\"], [1.0, \"#f0f921\"]], \"type\": \"surface\"}], \"table\": [{\"cells\": {\"fill\": {\"color\": \"#EBF0F8\"}, \"line\": {\"color\": \"white\"}}, \"header\": {\"fill\": {\"color\": \"#C8D4E3\"}, \"line\": {\"color\": \"white\"}}, \"type\": \"table\"}]}, \"layout\": {\"annotationdefaults\": {\"arrowcolor\": \"#2a3f5f\", \"arrowhead\": 0, \"arrowwidth\": 1}, \"coloraxis\": {\"colorbar\": {\"outlinewidth\": 0, \"ticks\": \"\"}}, \"colorscale\": {\"diverging\": [[0, \"#8e0152\"], [0.1, \"#c51b7d\"], [0.2, \"#de77ae\"], [0.3, \"#f1b6da\"], [0.4, \"#fde0ef\"], [0.5, \"#f7f7f7\"], [0.6, \"#e6f5d0\"], [0.7, \"#b8e186\"], [0.8, \"#7fbc41\"], [0.9, \"#4d9221\"], [1, \"#276419\"]], \"sequential\": [[0.0, \"#0d0887\"], [0.1111111111111111, \"#46039f\"], [0.2222222222222222, \"#7201a8\"], [0.3333333333333333, \"#9c179e\"], [0.4444444444444444, \"#bd3786\"], [0.5555555555555556, \"#d8576b\"], [0.6666666666666666, \"#ed7953\"], [0.7777777777777778, \"#fb9f3a\"], [0.8888888888888888, \"#fdca26\"], [1.0, \"#f0f921\"]], \"sequentialminus\": [[0.0, \"#0d0887\"], [0.1111111111111111, \"#46039f\"], [0.2222222222222222, \"#7201a8\"], [0.3333333333333333, \"#9c179e\"], [0.4444444444444444, \"#bd3786\"], [0.5555555555555556, \"#d8576b\"], [0.6666666666666666, \"#ed7953\"], [0.7777777777777778, \"#fb9f3a\"], [0.8888888888888888, \"#fdca26\"], [1.0, \"#f0f921\"]]}, \"colorway\": [\"#636efa\", \"#EF553B\", \"#00cc96\", \"#ab63fa\", \"#FFA15A\", \"#19d3f3\", \"#FF6692\", \"#B6E880\", \"#FF97FF\", \"#FECB52\"], \"font\": {\"color\": \"#2a3f5f\"}, \"geo\": {\"bgcolor\": \"white\", \"lakecolor\": \"white\", \"landcolor\": \"#E5ECF6\", \"showlakes\": true, \"showland\": true, \"subunitcolor\": \"white\"}, \"hoverlabel\": {\"align\": \"left\"}, \"hovermode\": \"closest\", \"mapbox\": {\"style\": \"light\"}, \"paper_bgcolor\": \"white\", \"plot_bgcolor\": \"#E5ECF6\", \"polar\": {\"angularaxis\": {\"gridcolor\": \"white\", \"linecolor\": \"white\", \"ticks\": \"\"}, \"bgcolor\": \"#E5ECF6\", \"radialaxis\": {\"gridcolor\": \"white\", \"linecolor\": \"white\", \"ticks\": \"\"}}, \"scene\": {\"xaxis\": {\"backgroundcolor\": \"#E5ECF6\", \"gridcolor\": \"white\", \"gridwidth\": 2, \"linecolor\": \"white\", \"showbackground\": true, \"ticks\": \"\", \"zerolinecolor\": \"white\"}, \"yaxis\": {\"backgroundcolor\": \"#E5ECF6\", \"gridcolor\": \"white\", \"gridwidth\": 2, \"linecolor\": \"white\", \"showbackground\": true, \"ticks\": \"\", \"zerolinecolor\": \"white\"}, \"zaxis\": {\"backgroundcolor\": \"#E5ECF6\", \"gridcolor\": \"white\", \"gridwidth\": 2, \"linecolor\": \"white\", \"showbackground\": true, \"ticks\": \"\", \"zerolinecolor\": \"white\"}}, \"shapedefaults\": {\"line\": {\"color\": \"#2a3f5f\"}}, \"ternary\": {\"aaxis\": {\"gridcolor\": \"white\", \"linecolor\": \"white\", \"ticks\": \"\"}, \"baxis\": {\"gridcolor\": \"white\", \"linecolor\": \"white\", \"ticks\": \"\"}, \"bgcolor\": \"#E5ECF6\", \"caxis\": {\"gridcolor\": \"white\", \"linecolor\": \"white\", \"ticks\": \"\"}}, \"title\": {\"x\": 0.05}, \"xaxis\": {\"automargin\": true, \"gridcolor\": \"white\", \"linecolor\": \"white\", \"ticks\": \"\", \"title\": {\"standoff\": 15}, \"zerolinecolor\": \"white\", \"zerolinewidth\": 2}, \"yaxis\": {\"automargin\": true, \"gridcolor\": \"white\", \"linecolor\": \"white\", \"ticks\": \"\", \"title\": {\"standoff\": 15}, \"zerolinecolor\": \"white\", \"zerolinewidth\": 2}}}, \"title\": {\"text\": \"Accuracy for race feature\"}, \"width\": 600, \"xaxis\": {\"title\": {\"text\": \"Epoch\"}}, \"yaxis\": {\"title\": {\"text\": \"Accuracy\"}}},\n",
              "                        {\"responsive\": true}\n",
              "                    ).then(function(){\n",
              "                            \n",
              "var gd = document.getElementById('478d5a84-76a7-4867-a0fe-c6c785fe0ddd');\n",
              "var x = new MutationObserver(function (mutations, observer) {{\n",
              "        var display = window.getComputedStyle(gd).display;\n",
              "        if (!display || display === 'none') {{\n",
              "            console.log([gd, 'removed!']);\n",
              "            Plotly.purge(gd);\n",
              "            observer.disconnect();\n",
              "        }}\n",
              "}});\n",
              "\n",
              "// Listen for the removal of the full notebook cells\n",
              "var notebookContainer = gd.closest('#notebook-container');\n",
              "if (notebookContainer) {{\n",
              "    x.observe(notebookContainer, {childList: true});\n",
              "}}\n",
              "\n",
              "// Listen for the clearing of the current output cell\n",
              "var outputEl = gd.closest('.output');\n",
              "if (outputEl) {{\n",
              "    x.observe(outputEl, {childList: true});\n",
              "}}\n",
              "\n",
              "                        })\n",
              "                };\n",
              "                \n",
              "            </script>\n",
              "        </div>\n",
              "</body>\n",
              "</html>"
            ]
          },
          "metadata": {
            "tags": []
          },
          "output_type": "display_data"
        },
        {
          "data": {
            "text/plain": [
              "<Figure size 432x288 with 0 Axes>"
            ]
          },
          "metadata": {
            "tags": []
          },
          "output_type": "display_data"
        }
      ],
      "source": [
        "import plotly.graph_objects as go\n",
        "plt.clf()\n",
        "fig = go.Figure()\n",
        "fig.add_trace(go.Scatter(\n",
        "                    y=history.history['race_output_sparse_categorical_accuracy'],\n",
        "                    name='Train'))\n",
        "\n",
        "fig.add_trace(go.Scatter(\n",
        "                    y=history.history['val_race_output_sparse_categorical_accuracy'],\n",
        "                    name='Valid'))\n",
        "\n",
        "\n",
        "fig.update_layout(height=450, \n",
        "                  width=600,\n",
        "                  title='Accuracy for race feature',\n",
        "                  xaxis_title='Epoch',\n",
        "                  yaxis_title='Accuracy')\n",
        "\n",
        "fig.write_html('acc_race.html', include_plotlyjs='cdn')\n",
        "\n",
        "fig.show()"
      ]
    },
    {
      "cell_type": "code",
      "execution_count": null,
      "metadata": {
        "colab": {
          "base_uri": "https://localhost:8080/",
          "height": 484
        },
        "id": "VUeoJD6cunhZ",
        "outputId": "43e86df7-4da8-42e3-b59b-121d04b234df"
      },
      "outputs": [
        {
          "data": {
            "text/html": [
              "<html>\n",
              "<head><meta charset=\"utf-8\" /></head>\n",
              "<body>\n",
              "    <div>\n",
              "            <script src=\"https://cdnjs.cloudflare.com/ajax/libs/mathjax/2.7.5/MathJax.js?config=TeX-AMS-MML_SVG\"></script><script type=\"text/javascript\">if (window.MathJax) {MathJax.Hub.Config({SVG: {font: \"STIX-Web\"}});}</script>\n",
              "                <script type=\"text/javascript\">window.PlotlyConfig = {MathJaxConfig: 'local'};</script>\n",
              "        <script src=\"https://cdn.plot.ly/plotly-latest.min.js\"></script>    \n",
              "            <div id=\"e03b9919-5f74-433c-9083-fe4752c07b63\" class=\"plotly-graph-div\" style=\"height:450px; width:600px;\"></div>\n",
              "            <script type=\"text/javascript\">\n",
              "                \n",
              "                    window.PLOTLYENV=window.PLOTLYENV || {};\n",
              "                    \n",
              "                if (document.getElementById(\"e03b9919-5f74-433c-9083-fe4752c07b63\")) {\n",
              "                    Plotly.newPlot(\n",
              "                        'e03b9919-5f74-433c-9083-fe4752c07b63',\n",
              "                        [{\"name\": \"Train\", \"type\": \"scatter\", \"y\": [0.8048169612884521, 0.848254382610321, 0.8572168350219727, 0.862253725528717, 0.8615623712539673, 0.8717195987701416, 0.8743518590927124, 0.8740504384040833, 0.8793639540672302, 0.8803145289421082, 0.8838052749633789, 0.8850674033164978, 0.8867403268814087, 0.8902523517608643, 0.882474958896637, 0.8888121843338013, 0.8889561295509338, 0.8908839821815491, 0.8943138718605042, 0.8959557414054871]}, {\"name\": \"Valid\", \"type\": \"scatter\", \"y\": [0.792792797088623, 0.8545987606048584, 0.8558558821678162, 0.8204483389854431, 0.8692646026611328, 0.8701026439666748, 0.8617221713066101, 0.8667504787445068, 0.8726168274879456, 0.8705216646194458, 0.87659752368927, 0.8833019137382507, 0.879111647605896, 0.8870730996131897, 0.8839304447174072, 0.8772260546684265, 0.8747119307518005, 0.8868635892868042, 0.874921441078186, 0.8793211579322815]}],\n",
              "                        {\"height\": 450, \"template\": {\"data\": {\"bar\": [{\"error_x\": {\"color\": \"#2a3f5f\"}, \"error_y\": {\"color\": \"#2a3f5f\"}, \"marker\": {\"line\": {\"color\": \"#E5ECF6\", \"width\": 0.5}}, \"type\": \"bar\"}], \"barpolar\": [{\"marker\": {\"line\": {\"color\": \"#E5ECF6\", \"width\": 0.5}}, \"type\": \"barpolar\"}], \"carpet\": [{\"aaxis\": {\"endlinecolor\": \"#2a3f5f\", \"gridcolor\": \"white\", \"linecolor\": \"white\", \"minorgridcolor\": \"white\", \"startlinecolor\": \"#2a3f5f\"}, \"baxis\": {\"endlinecolor\": \"#2a3f5f\", \"gridcolor\": \"white\", \"linecolor\": \"white\", \"minorgridcolor\": \"white\", \"startlinecolor\": \"#2a3f5f\"}, \"type\": \"carpet\"}], \"choropleth\": [{\"colorbar\": {\"outlinewidth\": 0, \"ticks\": \"\"}, \"type\": \"choropleth\"}], \"contour\": [{\"colorbar\": {\"outlinewidth\": 0, \"ticks\": \"\"}, \"colorscale\": [[0.0, \"#0d0887\"], [0.1111111111111111, \"#46039f\"], [0.2222222222222222, \"#7201a8\"], [0.3333333333333333, \"#9c179e\"], [0.4444444444444444, \"#bd3786\"], [0.5555555555555556, \"#d8576b\"], [0.6666666666666666, \"#ed7953\"], [0.7777777777777778, \"#fb9f3a\"], [0.8888888888888888, \"#fdca26\"], [1.0, \"#f0f921\"]], \"type\": \"contour\"}], \"contourcarpet\": [{\"colorbar\": {\"outlinewidth\": 0, \"ticks\": \"\"}, \"type\": \"contourcarpet\"}], \"heatmap\": [{\"colorbar\": {\"outlinewidth\": 0, \"ticks\": \"\"}, \"colorscale\": [[0.0, \"#0d0887\"], [0.1111111111111111, \"#46039f\"], [0.2222222222222222, \"#7201a8\"], [0.3333333333333333, \"#9c179e\"], [0.4444444444444444, \"#bd3786\"], [0.5555555555555556, \"#d8576b\"], [0.6666666666666666, \"#ed7953\"], [0.7777777777777778, \"#fb9f3a\"], [0.8888888888888888, \"#fdca26\"], [1.0, \"#f0f921\"]], \"type\": \"heatmap\"}], \"heatmapgl\": [{\"colorbar\": {\"outlinewidth\": 0, \"ticks\": \"\"}, \"colorscale\": [[0.0, \"#0d0887\"], [0.1111111111111111, \"#46039f\"], [0.2222222222222222, \"#7201a8\"], [0.3333333333333333, \"#9c179e\"], [0.4444444444444444, \"#bd3786\"], [0.5555555555555556, \"#d8576b\"], [0.6666666666666666, \"#ed7953\"], [0.7777777777777778, \"#fb9f3a\"], [0.8888888888888888, \"#fdca26\"], [1.0, \"#f0f921\"]], \"type\": \"heatmapgl\"}], \"histogram\": [{\"marker\": {\"colorbar\": {\"outlinewidth\": 0, \"ticks\": \"\"}}, \"type\": \"histogram\"}], \"histogram2d\": [{\"colorbar\": {\"outlinewidth\": 0, \"ticks\": \"\"}, \"colorscale\": [[0.0, \"#0d0887\"], [0.1111111111111111, \"#46039f\"], [0.2222222222222222, \"#7201a8\"], [0.3333333333333333, \"#9c179e\"], [0.4444444444444444, \"#bd3786\"], [0.5555555555555556, \"#d8576b\"], [0.6666666666666666, \"#ed7953\"], [0.7777777777777778, \"#fb9f3a\"], [0.8888888888888888, \"#fdca26\"], [1.0, \"#f0f921\"]], \"type\": \"histogram2d\"}], \"histogram2dcontour\": [{\"colorbar\": {\"outlinewidth\": 0, \"ticks\": \"\"}, \"colorscale\": [[0.0, \"#0d0887\"], [0.1111111111111111, \"#46039f\"], [0.2222222222222222, \"#7201a8\"], [0.3333333333333333, \"#9c179e\"], [0.4444444444444444, \"#bd3786\"], [0.5555555555555556, \"#d8576b\"], [0.6666666666666666, \"#ed7953\"], [0.7777777777777778, \"#fb9f3a\"], [0.8888888888888888, \"#fdca26\"], [1.0, \"#f0f921\"]], \"type\": \"histogram2dcontour\"}], \"mesh3d\": [{\"colorbar\": {\"outlinewidth\": 0, \"ticks\": \"\"}, \"type\": \"mesh3d\"}], \"parcoords\": [{\"line\": {\"colorbar\": {\"outlinewidth\": 0, \"ticks\": \"\"}}, \"type\": \"parcoords\"}], \"pie\": [{\"automargin\": true, \"type\": \"pie\"}], \"scatter\": [{\"marker\": {\"colorbar\": {\"outlinewidth\": 0, \"ticks\": \"\"}}, \"type\": \"scatter\"}], \"scatter3d\": [{\"line\": {\"colorbar\": {\"outlinewidth\": 0, \"ticks\": \"\"}}, \"marker\": {\"colorbar\": {\"outlinewidth\": 0, \"ticks\": \"\"}}, \"type\": \"scatter3d\"}], \"scattercarpet\": [{\"marker\": {\"colorbar\": {\"outlinewidth\": 0, \"ticks\": \"\"}}, \"type\": \"scattercarpet\"}], \"scattergeo\": [{\"marker\": {\"colorbar\": {\"outlinewidth\": 0, \"ticks\": \"\"}}, \"type\": \"scattergeo\"}], \"scattergl\": [{\"marker\": {\"colorbar\": {\"outlinewidth\": 0, \"ticks\": \"\"}}, \"type\": \"scattergl\"}], \"scattermapbox\": [{\"marker\": {\"colorbar\": {\"outlinewidth\": 0, \"ticks\": \"\"}}, \"type\": \"scattermapbox\"}], \"scatterpolar\": [{\"marker\": {\"colorbar\": {\"outlinewidth\": 0, \"ticks\": \"\"}}, \"type\": \"scatterpolar\"}], \"scatterpolargl\": [{\"marker\": {\"colorbar\": {\"outlinewidth\": 0, \"ticks\": \"\"}}, \"type\": \"scatterpolargl\"}], \"scatterternary\": [{\"marker\": {\"colorbar\": {\"outlinewidth\": 0, \"ticks\": \"\"}}, \"type\": \"scatterternary\"}], \"surface\": [{\"colorbar\": {\"outlinewidth\": 0, \"ticks\": \"\"}, \"colorscale\": [[0.0, \"#0d0887\"], [0.1111111111111111, \"#46039f\"], [0.2222222222222222, \"#7201a8\"], [0.3333333333333333, \"#9c179e\"], [0.4444444444444444, \"#bd3786\"], [0.5555555555555556, \"#d8576b\"], [0.6666666666666666, \"#ed7953\"], [0.7777777777777778, \"#fb9f3a\"], [0.8888888888888888, \"#fdca26\"], [1.0, \"#f0f921\"]], \"type\": \"surface\"}], \"table\": [{\"cells\": {\"fill\": {\"color\": \"#EBF0F8\"}, \"line\": {\"color\": \"white\"}}, \"header\": {\"fill\": {\"color\": \"#C8D4E3\"}, \"line\": {\"color\": \"white\"}}, \"type\": \"table\"}]}, \"layout\": {\"annotationdefaults\": {\"arrowcolor\": \"#2a3f5f\", \"arrowhead\": 0, \"arrowwidth\": 1}, \"coloraxis\": {\"colorbar\": {\"outlinewidth\": 0, \"ticks\": \"\"}}, \"colorscale\": {\"diverging\": [[0, \"#8e0152\"], [0.1, \"#c51b7d\"], [0.2, \"#de77ae\"], [0.3, \"#f1b6da\"], [0.4, \"#fde0ef\"], [0.5, \"#f7f7f7\"], [0.6, \"#e6f5d0\"], [0.7, \"#b8e186\"], [0.8, \"#7fbc41\"], [0.9, \"#4d9221\"], [1, \"#276419\"]], \"sequential\": [[0.0, \"#0d0887\"], [0.1111111111111111, \"#46039f\"], [0.2222222222222222, \"#7201a8\"], [0.3333333333333333, \"#9c179e\"], [0.4444444444444444, \"#bd3786\"], [0.5555555555555556, \"#d8576b\"], [0.6666666666666666, \"#ed7953\"], [0.7777777777777778, \"#fb9f3a\"], [0.8888888888888888, \"#fdca26\"], [1.0, \"#f0f921\"]], \"sequentialminus\": [[0.0, \"#0d0887\"], [0.1111111111111111, \"#46039f\"], [0.2222222222222222, \"#7201a8\"], [0.3333333333333333, \"#9c179e\"], [0.4444444444444444, \"#bd3786\"], [0.5555555555555556, \"#d8576b\"], [0.6666666666666666, \"#ed7953\"], [0.7777777777777778, \"#fb9f3a\"], [0.8888888888888888, \"#fdca26\"], [1.0, \"#f0f921\"]]}, \"colorway\": [\"#636efa\", \"#EF553B\", \"#00cc96\", \"#ab63fa\", \"#FFA15A\", \"#19d3f3\", \"#FF6692\", \"#B6E880\", \"#FF97FF\", \"#FECB52\"], \"font\": {\"color\": \"#2a3f5f\"}, \"geo\": {\"bgcolor\": \"white\", \"lakecolor\": \"white\", \"landcolor\": \"#E5ECF6\", \"showlakes\": true, \"showland\": true, \"subunitcolor\": \"white\"}, \"hoverlabel\": {\"align\": \"left\"}, \"hovermode\": \"closest\", \"mapbox\": {\"style\": \"light\"}, \"paper_bgcolor\": \"white\", \"plot_bgcolor\": \"#E5ECF6\", \"polar\": {\"angularaxis\": {\"gridcolor\": \"white\", \"linecolor\": \"white\", \"ticks\": \"\"}, \"bgcolor\": \"#E5ECF6\", \"radialaxis\": {\"gridcolor\": \"white\", \"linecolor\": \"white\", \"ticks\": \"\"}}, \"scene\": {\"xaxis\": {\"backgroundcolor\": \"#E5ECF6\", \"gridcolor\": \"white\", \"gridwidth\": 2, \"linecolor\": \"white\", \"showbackground\": true, \"ticks\": \"\", \"zerolinecolor\": \"white\"}, \"yaxis\": {\"backgroundcolor\": \"#E5ECF6\", \"gridcolor\": \"white\", \"gridwidth\": 2, \"linecolor\": \"white\", \"showbackground\": true, \"ticks\": \"\", \"zerolinecolor\": \"white\"}, \"zaxis\": {\"backgroundcolor\": \"#E5ECF6\", \"gridcolor\": \"white\", \"gridwidth\": 2, \"linecolor\": \"white\", \"showbackground\": true, \"ticks\": \"\", \"zerolinecolor\": \"white\"}}, \"shapedefaults\": {\"line\": {\"color\": \"#2a3f5f\"}}, \"ternary\": {\"aaxis\": {\"gridcolor\": \"white\", \"linecolor\": \"white\", \"ticks\": \"\"}, \"baxis\": {\"gridcolor\": \"white\", \"linecolor\": \"white\", \"ticks\": \"\"}, \"bgcolor\": \"#E5ECF6\", \"caxis\": {\"gridcolor\": \"white\", \"linecolor\": \"white\", \"ticks\": \"\"}}, \"title\": {\"x\": 0.05}, \"xaxis\": {\"automargin\": true, \"gridcolor\": \"white\", \"linecolor\": \"white\", \"ticks\": \"\", \"title\": {\"standoff\": 15}, \"zerolinecolor\": \"white\", \"zerolinewidth\": 2}, \"yaxis\": {\"automargin\": true, \"gridcolor\": \"white\", \"linecolor\": \"white\", \"ticks\": \"\", \"title\": {\"standoff\": 15}, \"zerolinecolor\": \"white\", \"zerolinewidth\": 2}}}, \"title\": {\"text\": \"Accuracy for gender feature\"}, \"width\": 600, \"xaxis\": {\"title\": {\"text\": \"Epoch\"}}, \"yaxis\": {\"title\": {\"text\": \"Accuracy\"}}},\n",
              "                        {\"responsive\": true}\n",
              "                    ).then(function(){\n",
              "                            \n",
              "var gd = document.getElementById('e03b9919-5f74-433c-9083-fe4752c07b63');\n",
              "var x = new MutationObserver(function (mutations, observer) {{\n",
              "        var display = window.getComputedStyle(gd).display;\n",
              "        if (!display || display === 'none') {{\n",
              "            console.log([gd, 'removed!']);\n",
              "            Plotly.purge(gd);\n",
              "            observer.disconnect();\n",
              "        }}\n",
              "}});\n",
              "\n",
              "// Listen for the removal of the full notebook cells\n",
              "var notebookContainer = gd.closest('#notebook-container');\n",
              "if (notebookContainer) {{\n",
              "    x.observe(notebookContainer, {childList: true});\n",
              "}}\n",
              "\n",
              "// Listen for the clearing of the current output cell\n",
              "var outputEl = gd.closest('.output');\n",
              "if (outputEl) {{\n",
              "    x.observe(outputEl, {childList: true});\n",
              "}}\n",
              "\n",
              "                        })\n",
              "                };\n",
              "                \n",
              "            </script>\n",
              "        </div>\n",
              "</body>\n",
              "</html>"
            ]
          },
          "metadata": {
            "tags": []
          },
          "output_type": "display_data"
        },
        {
          "data": {
            "text/plain": [
              "<Figure size 432x288 with 0 Axes>"
            ]
          },
          "metadata": {
            "tags": []
          },
          "output_type": "display_data"
        }
      ],
      "source": [
        "plt.clf()\n",
        "\n",
        "fig = go.Figure()\n",
        "fig.add_trace(go.Scatter(\n",
        "                    y=history.history['gender_output_accuracy'],\n",
        "                    name='Train'))\n",
        "\n",
        "fig.add_trace(go.Scatter(\n",
        "                    y=history.history['val_gender_output_accuracy'],\n",
        "                    name='Valid'))\n",
        "\n",
        "\n",
        "fig.update_layout(height=450, \n",
        "                  width=600,\n",
        "                  title='Accuracy for gender feature',\n",
        "                  xaxis_title='Epoch',\n",
        "                  yaxis_title='Accuracy')\n",
        "\n",
        "fig.write_html('acc_gender.html', include_plotlyjs='cdn')\n",
        "\n",
        "fig.show()"
      ]
    },
    {
      "cell_type": "code",
      "execution_count": null,
      "metadata": {
        "colab": {
          "base_uri": "https://localhost:8080/",
          "height": 484
        },
        "id": "eu0rvYtFunhZ",
        "outputId": "21d7aa49-5d01-44a0-f055-f2320dd9fe75",
        "scrolled": false
      },
      "outputs": [
        {
          "data": {
            "text/html": [
              "<html>\n",
              "<head><meta charset=\"utf-8\" /></head>\n",
              "<body>\n",
              "    <div>\n",
              "            <script src=\"https://cdnjs.cloudflare.com/ajax/libs/mathjax/2.7.5/MathJax.js?config=TeX-AMS-MML_SVG\"></script><script type=\"text/javascript\">if (window.MathJax) {MathJax.Hub.Config({SVG: {font: \"STIX-Web\"}});}</script>\n",
              "                <script type=\"text/javascript\">window.PlotlyConfig = {MathJaxConfig: 'local'};</script>\n",
              "        <script src=\"https://cdn.plot.ly/plotly-latest.min.js\"></script>    \n",
              "            <div id=\"85d1a84b-dd18-489b-a5cb-096c25136614\" class=\"plotly-graph-div\" style=\"height:450px; width:600px;\"></div>\n",
              "            <script type=\"text/javascript\">\n",
              "                \n",
              "                    window.PLOTLYENV=window.PLOTLYENV || {};\n",
              "                    \n",
              "                if (document.getElementById(\"85d1a84b-dd18-489b-a5cb-096c25136614\")) {\n",
              "                    Plotly.newPlot(\n",
              "                        '85d1a84b-dd18-489b-a5cb-096c25136614',\n",
              "                        [{\"name\": \"Train\", \"type\": \"scattergl\", \"y\": [0.1753380447626114, 0.10708481818437576, 0.10124532133340836, 0.09694171696901321, 0.09274812042713165, 0.0906979963183403, 0.08912704885005951, 0.08637038618326187, 0.08724672347307205, 0.0863569900393486, 0.08448783308267593, 0.08388109505176544, 0.08277832716703415, 0.08217993378639221, 0.0800241231918335, 0.08057807385921478, 0.08029920607805252, 0.07935317605733871, 0.07931151241064072, 0.07707411795854568]}, {\"name\": \"Valid\", \"type\": \"scattergl\", \"y\": [0.0953356921672821, 0.08529569208621979, 0.08762999624013901, 0.08845926821231842, 0.08474244177341461, 0.08288267999887466, 0.07566352188587189, 0.07708089053630829, 0.07906607538461685, 0.07359670847654343, 0.07503227144479752, 0.07520390301942825, 0.07205840945243835, 0.07767908275127411, 0.07348760217428207, 0.07065816968679428, 0.07033557444810867, 0.07118358463048935, 0.07164084911346436, 0.07243068516254425]}],\n",
              "                        {\"height\": 450, \"template\": {\"data\": {\"bar\": [{\"error_x\": {\"color\": \"#2a3f5f\"}, \"error_y\": {\"color\": \"#2a3f5f\"}, \"marker\": {\"line\": {\"color\": \"#E5ECF6\", \"width\": 0.5}}, \"type\": \"bar\"}], \"barpolar\": [{\"marker\": {\"line\": {\"color\": \"#E5ECF6\", \"width\": 0.5}}, \"type\": \"barpolar\"}], \"carpet\": [{\"aaxis\": {\"endlinecolor\": \"#2a3f5f\", \"gridcolor\": \"white\", \"linecolor\": \"white\", \"minorgridcolor\": \"white\", \"startlinecolor\": \"#2a3f5f\"}, \"baxis\": {\"endlinecolor\": \"#2a3f5f\", \"gridcolor\": \"white\", \"linecolor\": \"white\", \"minorgridcolor\": \"white\", \"startlinecolor\": \"#2a3f5f\"}, \"type\": \"carpet\"}], \"choropleth\": [{\"colorbar\": {\"outlinewidth\": 0, \"ticks\": \"\"}, \"type\": \"choropleth\"}], \"contour\": [{\"colorbar\": {\"outlinewidth\": 0, \"ticks\": \"\"}, \"colorscale\": [[0.0, \"#0d0887\"], [0.1111111111111111, \"#46039f\"], [0.2222222222222222, \"#7201a8\"], [0.3333333333333333, \"#9c179e\"], [0.4444444444444444, \"#bd3786\"], [0.5555555555555556, \"#d8576b\"], [0.6666666666666666, \"#ed7953\"], [0.7777777777777778, \"#fb9f3a\"], [0.8888888888888888, \"#fdca26\"], [1.0, \"#f0f921\"]], \"type\": \"contour\"}], \"contourcarpet\": [{\"colorbar\": {\"outlinewidth\": 0, \"ticks\": \"\"}, \"type\": \"contourcarpet\"}], \"heatmap\": [{\"colorbar\": {\"outlinewidth\": 0, \"ticks\": \"\"}, \"colorscale\": [[0.0, \"#0d0887\"], [0.1111111111111111, \"#46039f\"], [0.2222222222222222, \"#7201a8\"], [0.3333333333333333, \"#9c179e\"], [0.4444444444444444, \"#bd3786\"], [0.5555555555555556, \"#d8576b\"], [0.6666666666666666, \"#ed7953\"], [0.7777777777777778, \"#fb9f3a\"], [0.8888888888888888, \"#fdca26\"], [1.0, \"#f0f921\"]], \"type\": \"heatmap\"}], \"heatmapgl\": [{\"colorbar\": {\"outlinewidth\": 0, \"ticks\": \"\"}, \"colorscale\": [[0.0, \"#0d0887\"], [0.1111111111111111, \"#46039f\"], [0.2222222222222222, \"#7201a8\"], [0.3333333333333333, \"#9c179e\"], [0.4444444444444444, \"#bd3786\"], [0.5555555555555556, \"#d8576b\"], [0.6666666666666666, \"#ed7953\"], [0.7777777777777778, \"#fb9f3a\"], [0.8888888888888888, \"#fdca26\"], [1.0, \"#f0f921\"]], \"type\": \"heatmapgl\"}], \"histogram\": [{\"marker\": {\"colorbar\": {\"outlinewidth\": 0, \"ticks\": \"\"}}, \"type\": \"histogram\"}], \"histogram2d\": [{\"colorbar\": {\"outlinewidth\": 0, \"ticks\": \"\"}, \"colorscale\": [[0.0, \"#0d0887\"], [0.1111111111111111, \"#46039f\"], [0.2222222222222222, \"#7201a8\"], [0.3333333333333333, \"#9c179e\"], [0.4444444444444444, \"#bd3786\"], [0.5555555555555556, \"#d8576b\"], [0.6666666666666666, \"#ed7953\"], [0.7777777777777778, \"#fb9f3a\"], [0.8888888888888888, \"#fdca26\"], [1.0, \"#f0f921\"]], \"type\": \"histogram2d\"}], \"histogram2dcontour\": [{\"colorbar\": {\"outlinewidth\": 0, \"ticks\": \"\"}, \"colorscale\": [[0.0, \"#0d0887\"], [0.1111111111111111, \"#46039f\"], [0.2222222222222222, \"#7201a8\"], [0.3333333333333333, \"#9c179e\"], [0.4444444444444444, \"#bd3786\"], [0.5555555555555556, \"#d8576b\"], [0.6666666666666666, \"#ed7953\"], [0.7777777777777778, \"#fb9f3a\"], [0.8888888888888888, \"#fdca26\"], [1.0, \"#f0f921\"]], \"type\": \"histogram2dcontour\"}], \"mesh3d\": [{\"colorbar\": {\"outlinewidth\": 0, \"ticks\": \"\"}, \"type\": \"mesh3d\"}], \"parcoords\": [{\"line\": {\"colorbar\": {\"outlinewidth\": 0, \"ticks\": \"\"}}, \"type\": \"parcoords\"}], \"pie\": [{\"automargin\": true, \"type\": \"pie\"}], \"scatter\": [{\"marker\": {\"colorbar\": {\"outlinewidth\": 0, \"ticks\": \"\"}}, \"type\": \"scatter\"}], \"scatter3d\": [{\"line\": {\"colorbar\": {\"outlinewidth\": 0, \"ticks\": \"\"}}, \"marker\": {\"colorbar\": {\"outlinewidth\": 0, \"ticks\": \"\"}}, \"type\": \"scatter3d\"}], \"scattercarpet\": [{\"marker\": {\"colorbar\": {\"outlinewidth\": 0, \"ticks\": \"\"}}, \"type\": \"scattercarpet\"}], \"scattergeo\": [{\"marker\": {\"colorbar\": {\"outlinewidth\": 0, \"ticks\": \"\"}}, \"type\": \"scattergeo\"}], \"scattergl\": [{\"marker\": {\"colorbar\": {\"outlinewidth\": 0, \"ticks\": \"\"}}, \"type\": \"scattergl\"}], \"scattermapbox\": [{\"marker\": {\"colorbar\": {\"outlinewidth\": 0, \"ticks\": \"\"}}, \"type\": \"scattermapbox\"}], \"scatterpolar\": [{\"marker\": {\"colorbar\": {\"outlinewidth\": 0, \"ticks\": \"\"}}, \"type\": \"scatterpolar\"}], \"scatterpolargl\": [{\"marker\": {\"colorbar\": {\"outlinewidth\": 0, \"ticks\": \"\"}}, \"type\": \"scatterpolargl\"}], \"scatterternary\": [{\"marker\": {\"colorbar\": {\"outlinewidth\": 0, \"ticks\": \"\"}}, \"type\": \"scatterternary\"}], \"surface\": [{\"colorbar\": {\"outlinewidth\": 0, \"ticks\": \"\"}, \"colorscale\": [[0.0, \"#0d0887\"], [0.1111111111111111, \"#46039f\"], [0.2222222222222222, \"#7201a8\"], [0.3333333333333333, \"#9c179e\"], [0.4444444444444444, \"#bd3786\"], [0.5555555555555556, \"#d8576b\"], [0.6666666666666666, \"#ed7953\"], [0.7777777777777778, \"#fb9f3a\"], [0.8888888888888888, \"#fdca26\"], [1.0, \"#f0f921\"]], \"type\": \"surface\"}], \"table\": [{\"cells\": {\"fill\": {\"color\": \"#EBF0F8\"}, \"line\": {\"color\": \"white\"}}, \"header\": {\"fill\": {\"color\": \"#C8D4E3\"}, \"line\": {\"color\": \"white\"}}, \"type\": \"table\"}]}, \"layout\": {\"annotationdefaults\": {\"arrowcolor\": \"#2a3f5f\", \"arrowhead\": 0, \"arrowwidth\": 1}, \"coloraxis\": {\"colorbar\": {\"outlinewidth\": 0, \"ticks\": \"\"}}, \"colorscale\": {\"diverging\": [[0, \"#8e0152\"], [0.1, \"#c51b7d\"], [0.2, \"#de77ae\"], [0.3, \"#f1b6da\"], [0.4, \"#fde0ef\"], [0.5, \"#f7f7f7\"], [0.6, \"#e6f5d0\"], [0.7, \"#b8e186\"], [0.8, \"#7fbc41\"], [0.9, \"#4d9221\"], [1, \"#276419\"]], \"sequential\": [[0.0, \"#0d0887\"], [0.1111111111111111, \"#46039f\"], [0.2222222222222222, \"#7201a8\"], [0.3333333333333333, \"#9c179e\"], [0.4444444444444444, \"#bd3786\"], [0.5555555555555556, \"#d8576b\"], [0.6666666666666666, \"#ed7953\"], [0.7777777777777778, \"#fb9f3a\"], [0.8888888888888888, \"#fdca26\"], [1.0, \"#f0f921\"]], \"sequentialminus\": [[0.0, \"#0d0887\"], [0.1111111111111111, \"#46039f\"], [0.2222222222222222, \"#7201a8\"], [0.3333333333333333, \"#9c179e\"], [0.4444444444444444, \"#bd3786\"], [0.5555555555555556, \"#d8576b\"], [0.6666666666666666, \"#ed7953\"], [0.7777777777777778, \"#fb9f3a\"], [0.8888888888888888, \"#fdca26\"], [1.0, \"#f0f921\"]]}, \"colorway\": [\"#636efa\", \"#EF553B\", \"#00cc96\", \"#ab63fa\", \"#FFA15A\", \"#19d3f3\", \"#FF6692\", \"#B6E880\", \"#FF97FF\", \"#FECB52\"], \"font\": {\"color\": \"#2a3f5f\"}, \"geo\": {\"bgcolor\": \"white\", \"lakecolor\": \"white\", \"landcolor\": \"#E5ECF6\", \"showlakes\": true, \"showland\": true, \"subunitcolor\": \"white\"}, \"hoverlabel\": {\"align\": \"left\"}, \"hovermode\": \"closest\", \"mapbox\": {\"style\": \"light\"}, \"paper_bgcolor\": \"white\", \"plot_bgcolor\": \"#E5ECF6\", \"polar\": {\"angularaxis\": {\"gridcolor\": \"white\", \"linecolor\": \"white\", \"ticks\": \"\"}, \"bgcolor\": \"#E5ECF6\", \"radialaxis\": {\"gridcolor\": \"white\", \"linecolor\": \"white\", \"ticks\": \"\"}}, \"scene\": {\"xaxis\": {\"backgroundcolor\": \"#E5ECF6\", \"gridcolor\": \"white\", \"gridwidth\": 2, \"linecolor\": \"white\", \"showbackground\": true, \"ticks\": \"\", \"zerolinecolor\": \"white\"}, \"yaxis\": {\"backgroundcolor\": \"#E5ECF6\", \"gridcolor\": \"white\", \"gridwidth\": 2, \"linecolor\": \"white\", \"showbackground\": true, \"ticks\": \"\", \"zerolinecolor\": \"white\"}, \"zaxis\": {\"backgroundcolor\": \"#E5ECF6\", \"gridcolor\": \"white\", \"gridwidth\": 2, \"linecolor\": \"white\", \"showbackground\": true, \"ticks\": \"\", \"zerolinecolor\": \"white\"}}, \"shapedefaults\": {\"line\": {\"color\": \"#2a3f5f\"}}, \"ternary\": {\"aaxis\": {\"gridcolor\": \"white\", \"linecolor\": \"white\", \"ticks\": \"\"}, \"baxis\": {\"gridcolor\": \"white\", \"linecolor\": \"white\", \"ticks\": \"\"}, \"bgcolor\": \"#E5ECF6\", \"caxis\": {\"gridcolor\": \"white\", \"linecolor\": \"white\", \"ticks\": \"\"}}, \"title\": {\"x\": 0.05}, \"xaxis\": {\"automargin\": true, \"gridcolor\": \"white\", \"linecolor\": \"white\", \"ticks\": \"\", \"title\": {\"standoff\": 15}, \"zerolinecolor\": \"white\", \"zerolinewidth\": 2}, \"yaxis\": {\"automargin\": true, \"gridcolor\": \"white\", \"linecolor\": \"white\", \"ticks\": \"\", \"title\": {\"standoff\": 15}, \"zerolinecolor\": \"white\", \"zerolinewidth\": 2}}}, \"title\": {\"text\": \"Mean Absolute Error for age feature\"}, \"width\": 600, \"xaxis\": {\"title\": {\"text\": \"Epoch\"}}, \"yaxis\": {\"title\": {\"text\": \"Mean Absolute Error\"}}},\n",
              "                        {\"responsive\": true}\n",
              "                    ).then(function(){\n",
              "                            \n",
              "var gd = document.getElementById('85d1a84b-dd18-489b-a5cb-096c25136614');\n",
              "var x = new MutationObserver(function (mutations, observer) {{\n",
              "        var display = window.getComputedStyle(gd).display;\n",
              "        if (!display || display === 'none') {{\n",
              "            console.log([gd, 'removed!']);\n",
              "            Plotly.purge(gd);\n",
              "            observer.disconnect();\n",
              "        }}\n",
              "}});\n",
              "\n",
              "// Listen for the removal of the full notebook cells\n",
              "var notebookContainer = gd.closest('#notebook-container');\n",
              "if (notebookContainer) {{\n",
              "    x.observe(notebookContainer, {childList: true});\n",
              "}}\n",
              "\n",
              "// Listen for the clearing of the current output cell\n",
              "var outputEl = gd.closest('.output');\n",
              "if (outputEl) {{\n",
              "    x.observe(outputEl, {childList: true});\n",
              "}}\n",
              "\n",
              "                        })\n",
              "                };\n",
              "                \n",
              "            </script>\n",
              "        </div>\n",
              "</body>\n",
              "</html>"
            ]
          },
          "metadata": {
            "tags": []
          },
          "output_type": "display_data"
        },
        {
          "data": {
            "text/plain": [
              "<Figure size 432x288 with 0 Axes>"
            ]
          },
          "metadata": {
            "tags": []
          },
          "output_type": "display_data"
        }
      ],
      "source": [
        "plt.clf()\n",
        "\n",
        "fig = go.Figure()\n",
        "fig.add_trace(go.Scattergl(\n",
        "                    y=history.history['age_output_mae'],\n",
        "                    name='Train'))\n",
        "\n",
        "fig.add_trace(go.Scattergl(\n",
        "                    y=history.history['val_age_output_mae'],\n",
        "                    name='Valid'))\n",
        "\n",
        "\n",
        "fig.update_layout(height=450, \n",
        "                  width=600,\n",
        "                  title='Mean Absolute Error for age feature',\n",
        "                  xaxis_title='Epoch',\n",
        "                  yaxis_title='Mean Absolute Error')\n",
        "\n",
        "fig.write_html('mae_age.html', include_plotlyjs='cdn')\n",
        "\n",
        "fig.show()"
      ]
    },
    {
      "cell_type": "code",
      "execution_count": null,
      "metadata": {
        "colab": {
          "base_uri": "https://localhost:8080/",
          "height": 467
        },
        "id": "UOqJXlGTunha",
        "outputId": "a9187f26-3f92-48c5-f701-5e3e2d7c1e22"
      },
      "outputs": [
        {
          "data": {
            "text/html": [
              "<html>\n",
              "<head><meta charset=\"utf-8\" /></head>\n",
              "<body>\n",
              "    <div>\n",
              "            <script src=\"https://cdnjs.cloudflare.com/ajax/libs/mathjax/2.7.5/MathJax.js?config=TeX-AMS-MML_SVG\"></script><script type=\"text/javascript\">if (window.MathJax) {MathJax.Hub.Config({SVG: {font: \"STIX-Web\"}});}</script>\n",
              "                <script type=\"text/javascript\">window.PlotlyConfig = {MathJaxConfig: 'local'};</script>\n",
              "        <script src=\"https://cdn.plot.ly/plotly-latest.min.js\"></script>    \n",
              "            <div id=\"74926948-a065-43a8-b071-bb35b4b67912\" class=\"plotly-graph-div\" style=\"height:450px; width:600px;\"></div>\n",
              "            <script type=\"text/javascript\">\n",
              "                \n",
              "                    window.PLOTLYENV=window.PLOTLYENV || {};\n",
              "                    \n",
              "                if (document.getElementById(\"74926948-a065-43a8-b071-bb35b4b67912\")) {\n",
              "                    Plotly.newPlot(\n",
              "                        '74926948-a065-43a8-b071-bb35b4b67912',\n",
              "                        [{\"name\": \"Train\", \"type\": \"scattergl\", \"y\": [5.074097633361816, 3.934230327606201, 3.7120230197906494, 3.5145769119262695, 3.5042433738708496, 3.3372626304626465, 3.25716495513916, 3.2354283332824707, 3.110668182373047, 3.1275417804718018, 3.0708343982696533, 3.0058515071868896, 2.9769442081451416, 2.9110467433929443, 2.897197961807251, 2.9034945964813232, 2.8255958557128906, 2.819840669631958, 2.776050567626953, 2.7802038192749023]}, {\"name\": \"Valid\", \"type\": \"scattergl\", \"y\": [4.167630672454834, 3.554839611053467, 3.6116554737091064, 3.6419053077697754, 3.337648868560791, 3.198143482208252, 3.3486392498016357, 3.1202163696289062, 3.2350075244903564, 3.0999820232391357, 3.1497626304626465, 2.9703564643859863, 3.0698912143707275, 2.941452741622925, 2.9619810581207275, 3.0037364959716797, 3.147554636001587, 3.071072816848755, 3.113058090209961, 3.1355037689208984]}],\n",
              "                        {\"height\": 450, \"template\": {\"data\": {\"bar\": [{\"error_x\": {\"color\": \"#2a3f5f\"}, \"error_y\": {\"color\": \"#2a3f5f\"}, \"marker\": {\"line\": {\"color\": \"#E5ECF6\", \"width\": 0.5}}, \"type\": \"bar\"}], \"barpolar\": [{\"marker\": {\"line\": {\"color\": \"#E5ECF6\", \"width\": 0.5}}, \"type\": \"barpolar\"}], \"carpet\": [{\"aaxis\": {\"endlinecolor\": \"#2a3f5f\", \"gridcolor\": \"white\", \"linecolor\": \"white\", \"minorgridcolor\": \"white\", \"startlinecolor\": \"#2a3f5f\"}, \"baxis\": {\"endlinecolor\": \"#2a3f5f\", \"gridcolor\": \"white\", \"linecolor\": \"white\", \"minorgridcolor\": \"white\", \"startlinecolor\": \"#2a3f5f\"}, \"type\": \"carpet\"}], \"choropleth\": [{\"colorbar\": {\"outlinewidth\": 0, \"ticks\": \"\"}, \"type\": \"choropleth\"}], \"contour\": [{\"colorbar\": {\"outlinewidth\": 0, \"ticks\": \"\"}, \"colorscale\": [[0.0, \"#0d0887\"], [0.1111111111111111, \"#46039f\"], [0.2222222222222222, \"#7201a8\"], [0.3333333333333333, \"#9c179e\"], [0.4444444444444444, \"#bd3786\"], [0.5555555555555556, \"#d8576b\"], [0.6666666666666666, \"#ed7953\"], [0.7777777777777778, \"#fb9f3a\"], [0.8888888888888888, \"#fdca26\"], [1.0, \"#f0f921\"]], \"type\": \"contour\"}], \"contourcarpet\": [{\"colorbar\": {\"outlinewidth\": 0, \"ticks\": \"\"}, \"type\": \"contourcarpet\"}], \"heatmap\": [{\"colorbar\": {\"outlinewidth\": 0, \"ticks\": \"\"}, \"colorscale\": [[0.0, \"#0d0887\"], [0.1111111111111111, \"#46039f\"], [0.2222222222222222, \"#7201a8\"], [0.3333333333333333, \"#9c179e\"], [0.4444444444444444, \"#bd3786\"], [0.5555555555555556, \"#d8576b\"], [0.6666666666666666, \"#ed7953\"], [0.7777777777777778, \"#fb9f3a\"], [0.8888888888888888, \"#fdca26\"], [1.0, \"#f0f921\"]], \"type\": \"heatmap\"}], \"heatmapgl\": [{\"colorbar\": {\"outlinewidth\": 0, \"ticks\": \"\"}, \"colorscale\": [[0.0, \"#0d0887\"], [0.1111111111111111, \"#46039f\"], [0.2222222222222222, \"#7201a8\"], [0.3333333333333333, \"#9c179e\"], [0.4444444444444444, \"#bd3786\"], [0.5555555555555556, \"#d8576b\"], [0.6666666666666666, \"#ed7953\"], [0.7777777777777778, \"#fb9f3a\"], [0.8888888888888888, \"#fdca26\"], [1.0, \"#f0f921\"]], \"type\": \"heatmapgl\"}], \"histogram\": [{\"marker\": {\"colorbar\": {\"outlinewidth\": 0, \"ticks\": \"\"}}, \"type\": \"histogram\"}], \"histogram2d\": [{\"colorbar\": {\"outlinewidth\": 0, \"ticks\": \"\"}, \"colorscale\": [[0.0, \"#0d0887\"], [0.1111111111111111, \"#46039f\"], [0.2222222222222222, \"#7201a8\"], [0.3333333333333333, \"#9c179e\"], [0.4444444444444444, \"#bd3786\"], [0.5555555555555556, \"#d8576b\"], [0.6666666666666666, \"#ed7953\"], [0.7777777777777778, \"#fb9f3a\"], [0.8888888888888888, \"#fdca26\"], [1.0, \"#f0f921\"]], \"type\": \"histogram2d\"}], \"histogram2dcontour\": [{\"colorbar\": {\"outlinewidth\": 0, \"ticks\": \"\"}, \"colorscale\": [[0.0, \"#0d0887\"], [0.1111111111111111, \"#46039f\"], [0.2222222222222222, \"#7201a8\"], [0.3333333333333333, \"#9c179e\"], [0.4444444444444444, \"#bd3786\"], [0.5555555555555556, \"#d8576b\"], [0.6666666666666666, \"#ed7953\"], [0.7777777777777778, \"#fb9f3a\"], [0.8888888888888888, \"#fdca26\"], [1.0, \"#f0f921\"]], \"type\": \"histogram2dcontour\"}], \"mesh3d\": [{\"colorbar\": {\"outlinewidth\": 0, \"ticks\": \"\"}, \"type\": \"mesh3d\"}], \"parcoords\": [{\"line\": {\"colorbar\": {\"outlinewidth\": 0, \"ticks\": \"\"}}, \"type\": \"parcoords\"}], \"pie\": [{\"automargin\": true, \"type\": \"pie\"}], \"scatter\": [{\"marker\": {\"colorbar\": {\"outlinewidth\": 0, \"ticks\": \"\"}}, \"type\": \"scatter\"}], \"scatter3d\": [{\"line\": {\"colorbar\": {\"outlinewidth\": 0, \"ticks\": \"\"}}, \"marker\": {\"colorbar\": {\"outlinewidth\": 0, \"ticks\": \"\"}}, \"type\": \"scatter3d\"}], \"scattercarpet\": [{\"marker\": {\"colorbar\": {\"outlinewidth\": 0, \"ticks\": \"\"}}, \"type\": \"scattercarpet\"}], \"scattergeo\": [{\"marker\": {\"colorbar\": {\"outlinewidth\": 0, \"ticks\": \"\"}}, \"type\": \"scattergeo\"}], \"scattergl\": [{\"marker\": {\"colorbar\": {\"outlinewidth\": 0, \"ticks\": \"\"}}, \"type\": \"scattergl\"}], \"scattermapbox\": [{\"marker\": {\"colorbar\": {\"outlinewidth\": 0, \"ticks\": \"\"}}, \"type\": \"scattermapbox\"}], \"scatterpolar\": [{\"marker\": {\"colorbar\": {\"outlinewidth\": 0, \"ticks\": \"\"}}, \"type\": \"scatterpolar\"}], \"scatterpolargl\": [{\"marker\": {\"colorbar\": {\"outlinewidth\": 0, \"ticks\": \"\"}}, \"type\": \"scatterpolargl\"}], \"scatterternary\": [{\"marker\": {\"colorbar\": {\"outlinewidth\": 0, \"ticks\": \"\"}}, \"type\": \"scatterternary\"}], \"surface\": [{\"colorbar\": {\"outlinewidth\": 0, \"ticks\": \"\"}, \"colorscale\": [[0.0, \"#0d0887\"], [0.1111111111111111, \"#46039f\"], [0.2222222222222222, \"#7201a8\"], [0.3333333333333333, \"#9c179e\"], [0.4444444444444444, \"#bd3786\"], [0.5555555555555556, \"#d8576b\"], [0.6666666666666666, \"#ed7953\"], [0.7777777777777778, \"#fb9f3a\"], [0.8888888888888888, \"#fdca26\"], [1.0, \"#f0f921\"]], \"type\": \"surface\"}], \"table\": [{\"cells\": {\"fill\": {\"color\": \"#EBF0F8\"}, \"line\": {\"color\": \"white\"}}, \"header\": {\"fill\": {\"color\": \"#C8D4E3\"}, \"line\": {\"color\": \"white\"}}, \"type\": \"table\"}]}, \"layout\": {\"annotationdefaults\": {\"arrowcolor\": \"#2a3f5f\", \"arrowhead\": 0, \"arrowwidth\": 1}, \"coloraxis\": {\"colorbar\": {\"outlinewidth\": 0, \"ticks\": \"\"}}, \"colorscale\": {\"diverging\": [[0, \"#8e0152\"], [0.1, \"#c51b7d\"], [0.2, \"#de77ae\"], [0.3, \"#f1b6da\"], [0.4, \"#fde0ef\"], [0.5, \"#f7f7f7\"], [0.6, \"#e6f5d0\"], [0.7, \"#b8e186\"], [0.8, \"#7fbc41\"], [0.9, \"#4d9221\"], [1, \"#276419\"]], \"sequential\": [[0.0, \"#0d0887\"], [0.1111111111111111, \"#46039f\"], [0.2222222222222222, \"#7201a8\"], [0.3333333333333333, \"#9c179e\"], [0.4444444444444444, \"#bd3786\"], [0.5555555555555556, \"#d8576b\"], [0.6666666666666666, \"#ed7953\"], [0.7777777777777778, \"#fb9f3a\"], [0.8888888888888888, \"#fdca26\"], [1.0, \"#f0f921\"]], \"sequentialminus\": [[0.0, \"#0d0887\"], [0.1111111111111111, \"#46039f\"], [0.2222222222222222, \"#7201a8\"], [0.3333333333333333, \"#9c179e\"], [0.4444444444444444, \"#bd3786\"], [0.5555555555555556, \"#d8576b\"], [0.6666666666666666, \"#ed7953\"], [0.7777777777777778, \"#fb9f3a\"], [0.8888888888888888, \"#fdca26\"], [1.0, \"#f0f921\"]]}, \"colorway\": [\"#636efa\", \"#EF553B\", \"#00cc96\", \"#ab63fa\", \"#FFA15A\", \"#19d3f3\", \"#FF6692\", \"#B6E880\", \"#FF97FF\", \"#FECB52\"], \"font\": {\"color\": \"#2a3f5f\"}, \"geo\": {\"bgcolor\": \"white\", \"lakecolor\": \"white\", \"landcolor\": \"#E5ECF6\", \"showlakes\": true, \"showland\": true, \"subunitcolor\": \"white\"}, \"hoverlabel\": {\"align\": \"left\"}, \"hovermode\": \"closest\", \"mapbox\": {\"style\": \"light\"}, \"paper_bgcolor\": \"white\", \"plot_bgcolor\": \"#E5ECF6\", \"polar\": {\"angularaxis\": {\"gridcolor\": \"white\", \"linecolor\": \"white\", \"ticks\": \"\"}, \"bgcolor\": \"#E5ECF6\", \"radialaxis\": {\"gridcolor\": \"white\", \"linecolor\": \"white\", \"ticks\": \"\"}}, \"scene\": {\"xaxis\": {\"backgroundcolor\": \"#E5ECF6\", \"gridcolor\": \"white\", \"gridwidth\": 2, \"linecolor\": \"white\", \"showbackground\": true, \"ticks\": \"\", \"zerolinecolor\": \"white\"}, \"yaxis\": {\"backgroundcolor\": \"#E5ECF6\", \"gridcolor\": \"white\", \"gridwidth\": 2, \"linecolor\": \"white\", \"showbackground\": true, \"ticks\": \"\", \"zerolinecolor\": \"white\"}, \"zaxis\": {\"backgroundcolor\": \"#E5ECF6\", \"gridcolor\": \"white\", \"gridwidth\": 2, \"linecolor\": \"white\", \"showbackground\": true, \"ticks\": \"\", \"zerolinecolor\": \"white\"}}, \"shapedefaults\": {\"line\": {\"color\": \"#2a3f5f\"}}, \"ternary\": {\"aaxis\": {\"gridcolor\": \"white\", \"linecolor\": \"white\", \"ticks\": \"\"}, \"baxis\": {\"gridcolor\": \"white\", \"linecolor\": \"white\", \"ticks\": \"\"}, \"bgcolor\": \"#E5ECF6\", \"caxis\": {\"gridcolor\": \"white\", \"linecolor\": \"white\", \"ticks\": \"\"}}, \"title\": {\"x\": 0.05}, \"xaxis\": {\"automargin\": true, \"gridcolor\": \"white\", \"linecolor\": \"white\", \"ticks\": \"\", \"title\": {\"standoff\": 15}, \"zerolinecolor\": \"white\", \"zerolinewidth\": 2}, \"yaxis\": {\"automargin\": true, \"gridcolor\": \"white\", \"linecolor\": \"white\", \"ticks\": \"\", \"title\": {\"standoff\": 15}, \"zerolinecolor\": \"white\", \"zerolinewidth\": 2}}}, \"title\": {\"text\": \"Overall loss\"}, \"width\": 600, \"xaxis\": {\"title\": {\"text\": \"Epoch\"}}, \"yaxis\": {\"title\": {\"text\": \"Loss\"}}},\n",
              "                        {\"responsive\": true}\n",
              "                    ).then(function(){\n",
              "                            \n",
              "var gd = document.getElementById('74926948-a065-43a8-b071-bb35b4b67912');\n",
              "var x = new MutationObserver(function (mutations, observer) {{\n",
              "        var display = window.getComputedStyle(gd).display;\n",
              "        if (!display || display === 'none') {{\n",
              "            console.log([gd, 'removed!']);\n",
              "            Plotly.purge(gd);\n",
              "            observer.disconnect();\n",
              "        }}\n",
              "}});\n",
              "\n",
              "// Listen for the removal of the full notebook cells\n",
              "var notebookContainer = gd.closest('#notebook-container');\n",
              "if (notebookContainer) {{\n",
              "    x.observe(notebookContainer, {childList: true});\n",
              "}}\n",
              "\n",
              "// Listen for the clearing of the current output cell\n",
              "var outputEl = gd.closest('.output');\n",
              "if (outputEl) {{\n",
              "    x.observe(outputEl, {childList: true});\n",
              "}}\n",
              "\n",
              "                        })\n",
              "                };\n",
              "                \n",
              "            </script>\n",
              "        </div>\n",
              "</body>\n",
              "</html>"
            ]
          },
          "metadata": {
            "tags": []
          },
          "output_type": "display_data"
        }
      ],
      "source": [
        "fig = go.Figure()\n",
        "fig.add_trace(go.Scattergl(\n",
        "                    y=history.history['loss'],\n",
        "                    name='Train'))\n",
        "\n",
        "fig.add_trace(go.Scattergl(\n",
        "                    y=history.history['val_loss'],\n",
        "                    name='Valid'))\n",
        "\n",
        "\n",
        "fig.update_layout(height=450, \n",
        "                  width=600,\n",
        "                  title='Overall loss',\n",
        "                  xaxis_title='Epoch',\n",
        "                  yaxis_title='Loss')\n",
        "\n",
        "fig.write_html('overall_loss.html', include_plotlyjs='cdn')\n",
        "\n",
        "fig.show()"
      ]
    }
  ],
  "metadata": {
    "accelerator": "GPU",
    "colab": {
      "provenance": []
    },
    "kernelspec": {
      "display_name": "Python 3 (ipykernel)",
      "language": "python",
      "name": "python3"
    },
    "language_info": {
      "codemirror_mode": {
        "name": "ipython",
        "version": 3
      },
      "file_extension": ".py",
      "mimetype": "text/x-python",
      "name": "python",
      "nbconvert_exporter": "python",
      "pygments_lexer": "ipython3",
      "version": "3.8.12"
    }
  },
  "nbformat": 4,
  "nbformat_minor": 0
}